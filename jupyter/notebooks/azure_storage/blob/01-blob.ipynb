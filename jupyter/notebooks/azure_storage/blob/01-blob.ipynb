{
 "cells": [
  {
   "cell_type": "markdown",
   "metadata": {},
   "source": [
    "# Learning how to connect with a storage blob\n",
    "\n",
    "### Diffferent kinds of blobs\n",
    "- Block blob\n",
    "- Append blob\n",
    "- Page blob\n",
    "\n",
    "\n",
    "\n",
    "### Diffferent kinds of clients\n",
    "- BlobServiceClient\n",
    "- ContainerClient\n",
    "- BlobClient\n",
    "- BlobLeaseClient\n",
    "\n",
    "\n",
    "[Azure documentation](https://docs.microsoft.com/en-us/python/api/overview/azure/storage-blob-readme?view=azure-python)\n",
    "\n"
   ]
  },
  {
   "cell_type": "code",
   "execution_count": 7,
   "metadata": {},
   "outputs": [],
   "source": [
    "# First get the connection string from the .env file\n",
    "import os\n",
    "from dotenv import load_dotenv\n",
    "load_dotenv()\n",
    "\n",
    "connection_string = os.getenv(\"STORAGE_CONNECTION_STRING\")\n"
   ]
  },
  {
   "cell_type": "code",
   "execution_count": 8,
   "metadata": {},
   "outputs": [],
   "source": [
    "# Creating the client from a connection string\n",
    "from azure.storage.blob import BlobServiceClient\n",
    "\n",
    "\n",
    "service = BlobServiceClient.from_connection_string(conn_str=connection_string)"
   ]
  },
  {
   "cell_type": "markdown",
   "metadata": {},
   "source": [
    "### Create a container"
   ]
  },
  {
   "cell_type": "code",
   "execution_count": 12,
   "metadata": {},
   "outputs": [
    {
     "data": {
      "text/plain": [
       "{'etag': '\"0x8DA853020DADBA1\"',\n",
       " 'last_modified': datetime.datetime(2022, 8, 23, 17, 51, 38, tzinfo=datetime.timezone.utc),\n",
       " 'client_request_id': '3cac1f02-230c-11ed-85ee-dc215cb6c2cb',\n",
       " 'request_id': '08f73dbf-a01e-0015-1318-b76897000000',\n",
       " 'version': '2021-08-06',\n",
       " 'date': datetime.datetime(2022, 8, 23, 17, 51, 37, tzinfo=datetime.timezone.utc)}"
      ]
     },
     "execution_count": 12,
     "metadata": {},
     "output_type": "execute_result"
    }
   ],
   "source": [
    "from azure.storage.blob import ContainerClient\n",
    "\n",
    "container_client = ContainerClient.from_connection_string(conn_str=connection_string, container_name=\"mycontainer\")\n",
    "\n",
    "container_client.create_container()"
   ]
  },
  {
   "cell_type": "markdown",
   "metadata": {},
   "source": [
    "### Upload to the blob"
   ]
  },
  {
   "cell_type": "code",
   "execution_count": 14,
   "metadata": {},
   "outputs": [],
   "source": [
    "# Use the async client to upload a blob\n",
    "from azure.storage.blob.aio import BlobClient\n",
    "\n",
    "blob = BlobClient.from_connection_string(conn_str=connection_string, container_name=\"mycontainer\", blob_name=\"my_blob\")\n",
    "\n",
    "with open(\"./sample.txt\", \"rb\") as data: # create a local file name sample.txt\n",
    "    await blob.upload_blob(data)"
   ]
  },
  {
   "cell_type": "markdown",
   "metadata": {},
   "source": [
    "### Download from a blob"
   ]
  },
  {
   "cell_type": "code",
   "execution_count": 15,
   "metadata": {},
   "outputs": [],
   "source": [
    "# Download a blob asynchronously\n",
    "\n",
    "with open(\"./BlockDestination.txt\", \"wb\") as my_blob: # BlockDestionation is the downloaded file name\n",
    "    stream = await blob.download_blob()\n",
    "    data = await stream.readall()\n",
    "    my_blob.write(data)"
   ]
  },
  {
   "cell_type": "markdown",
   "metadata": {},
   "source": [
    "### List blobs / Enumerating blobs"
   ]
  },
  {
   "cell_type": "code",
   "execution_count": 16,
   "metadata": {},
   "outputs": [
    {
     "name": "stdout",
     "output_type": "stream",
     "text": [
      "[{'name': 'my_blob', 'container': 'mycontainer', 'snapshot': None, 'version_id': None, 'is_current_version': None, 'blob_type': <BlobType.BLOCKBLOB: 'BlockBlob'>, 'metadata': {}, 'encrypted_metadata': None, 'last_modified': datetime.datetime(2022, 8, 23, 17, 54, 57, tzinfo=datetime.timezone.utc), 'etag': '0x8DA853097A41ACE', 'size': 21, 'content_range': None, 'append_blob_committed_block_count': None, 'is_append_blob_sealed': None, 'page_blob_sequence_number': None, 'server_encrypted': True, 'copy': {'id': None, 'source': None, 'status': None, 'progress': None, 'completion_time': None, 'status_description': None, 'incremental_copy': None, 'destination_snapshot': None}, 'content_settings': {'content_type': 'application/octet-stream', 'content_encoding': None, 'content_language': None, 'content_md5': bytearray(b'`)\\xf2\\x85a\\x01L\\xd2\\xfc\\xce\\xf5\\x12S\\xbem\\xbb'), 'content_disposition': None, 'cache_control': None}, 'lease': {'status': 'unlocked', 'state': 'available', 'duration': None}, 'blob_tier': 'Hot', 'rehydrate_priority': None, 'blob_tier_change_time': None, 'blob_tier_inferred': True, 'deleted': None, 'deleted_time': None, 'remaining_retention_days': None, 'creation_time': datetime.datetime(2022, 8, 23, 17, 54, 57, tzinfo=datetime.timezone.utc), 'archive_status': None, 'encryption_key_sha256': None, 'encryption_scope': None, 'request_server_encrypted': None, 'object_replication_source_properties': [], 'object_replication_destination_policy': None, 'last_accessed_on': None, 'tag_count': None, 'tags': None, 'immutability_policy': {'expiry_time': None, 'policy_mode': None}, 'has_legal_hold': None, 'has_versions_only': None}]\n"
     ]
    }
   ],
   "source": [
    "# List the blobs asynchronously\n",
    "from azure.storage.blob.aio import ContainerClient\n",
    "\n",
    "container = ContainerClient.from_connection_string(conn_str=connection_string, container_name=\"mycontainer\")\n",
    "\n",
    "blob_list = []\n",
    "async for blob in container.list_blobs(): # async should work just fine\n",
    "    blob_list.append(blob)\n",
    "print(blob_list)"
   ]
  }
 ],
 "metadata": {
  "kernelspec": {
   "display_name": "Python 3.8.10 64-bit",
   "language": "python",
   "name": "python3"
  },
  "language_info": {
   "codemirror_mode": {
    "name": "ipython",
    "version": 3
   },
   "file_extension": ".py",
   "mimetype": "text/x-python",
   "name": "python",
   "nbconvert_exporter": "python",
   "pygments_lexer": "ipython3",
   "version": "3.8.10"
  },
  "orig_nbformat": 4,
  "vscode": {
   "interpreter": {
    "hash": "916dbcbb3f70747c44a77c7bcd40155683ae19c65e1c03b4aa3499c5328201f1"
   }
  }
 },
 "nbformat": 4,
 "nbformat_minor": 2
}
