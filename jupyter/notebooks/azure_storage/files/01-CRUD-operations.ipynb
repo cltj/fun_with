{
 "cells": [
  {
   "cell_type": "markdown",
   "id": "4f32b3bd-424a-4599-abbe-0fe892b97183",
   "metadata": {},
   "source": [
    "# File operations with storage files\n",
    "\n",
    "Azure File Share storage offers fully managed file shares in the cloud that are accessible via the industry standard Server Message Block (SMB) protocol. Azure file shares can be mounted concurrently by cloud or on-premises deployments of Windows, Linux, and macOS. Additionally, Azure file shares can be cached on Windows Servers with Azure File Sync for fast access near where the data is being used.\n",
    "\n",
    "Azure file shares can be used to:\n",
    "\n",
    "Replace or supplement on-premises file servers\n",
    "\"Lift and shift\" applications\n",
    "Simplify cloud development with shared application settings, diagnostic share, and Dev/Test/Debug tools\n",
    "\n",
    "Version 12.6.0"
   ]
  },
  {
   "cell_type": "markdown",
   "id": "75c77ed4",
   "metadata": {},
   "source": [
    "## Setup"
   ]
  },
  {
   "cell_type": "markdown",
   "id": "6e89820b-d976-4799-a06f-0a5351dff0eb",
   "metadata": {},
   "source": [
    "Import [azure data tables](https://pypi.org/project/azure-data-tables/) (version 12.2.0 Updated nov.2021)\n",
    "\n",
    "> pip install azure-data-tables"
   ]
  },
  {
   "cell_type": "markdown",
   "id": "6d0d8c08-201a-473d-9d87-16f8cf61fbc3",
   "metadata": {},
   "source": [
    "INSERT ENVIRONMENT VARIABLES"
   ]
  },
  {
   "cell_type": "code",
   "execution_count": null,
   "id": "38de681e-2120-411c-9621-f1abc1b253da",
   "metadata": {},
   "outputs": [],
   "source": [
    "import os\n",
    "from dotenv import load_dotenv\n",
    "load_dotenv()\n",
    "conn_str = os.getenv(\"AZURE_TABLE_STORAGE\") # AZURE_TABLE_STORAGE\n",
    "storage_account_name = os.getenv(\"STORAGE_ACCOUNT_NAME\") # STORAGE_ACCOUNT_NAME\n",
    "s_name = \"test\""
   ]
  },
  {
   "cell_type": "markdown",
   "id": "fb3c5567",
   "metadata": {},
   "source": [
    "### 4 Clients"
   ]
  },
  {
   "cell_type": "markdown",
   "id": "702b314c",
   "metadata": {},
   "source": [
    "Four different clients are provided to interact with the various components of the File Share Service:\n",
    "\n",
    "ShareServiceClient - this client represents interaction with the Azure storage account itself, and allows you to acquire preconfigured client instances to access the file shares within. It provides operations to retrieve and configure the service properties as well as list, create, and delete shares within the account. To perform operations on a specific share, retrieve a client using the get_share_client method.\n",
    "ShareClient - this client represents interaction with a specific file share (which need not exist yet), and allows you to acquire preconfigured client instances to access the directories and files within. It provides operations to create, delete, configure, or create snapshots of a share and includes operations to create and enumerate the contents of directories within it. To perform operations on a specific directory or file, retrieve a client using the get_directory_client or get_file_client methods.\n",
    "ShareDirectoryClient - this client represents interaction with a specific directory (which need not exist yet). It provides operations to create, delete, or enumerate the contents of an immediate or nested subdirectory, and includes operations to create and delete files within it. For operations relating to a specific subdirectory or file, a client for that entity can also be retrieved using the get_subdirectory_client and get_file_client functions.\n",
    "ShareFileClient - this client represents interaction with a specific file (which need not exist yet). It provides operations to upload, download, create, delete, and copy a file."
   ]
  },
  {
   "cell_type": "markdown",
   "id": "4dc2f925",
   "metadata": {},
   "source": [
    "### Create the client\n"
   ]
  },
  {
   "cell_type": "markdown",
   "id": "99ac9247",
   "metadata": {},
   "source": [
    "The Azure Storage File Share client library for Python allows you to interact with four types of resources:\n",
    "- the storage account itself\n",
    "- file shares\n",
    "- directories\n",
    "- files\n",
    "\n",
    "<br>\n",
    "Interaction with these resources starts with an instance of a client. To create a client object, you will need:\n",
    "\n",
    "- the storage account's file service URL\n",
    "- a credential that allows you to access the storage account"
   ]
  },
  {
   "cell_type": "markdown",
   "id": "284490ef",
   "metadata": {},
   "source": [
    "## Functions"
   ]
  },
  {
   "cell_type": "markdown",
   "id": "635637e6-5bfd-4e06-aca9-8b277d5671c6",
   "metadata": {},
   "source": [
    "#### Create a new fileshare"
   ]
  },
  {
   "cell_type": "code",
   "execution_count": null,
   "id": "2a2e33bc",
   "metadata": {},
   "outputs": [],
   "source": [
    "from azure.storage.fileshare import ShareClient\n",
    "\n",
    "share = ShareClient.from_connection_string(conn_str=conn_str, share_name=s_name)\n",
    "share.create_share()"
   ]
  },
  {
   "cell_type": "markdown",
   "id": "52b4525e",
   "metadata": {},
   "source": [
    "### Uploading a file"
   ]
  },
  {
   "cell_type": "code",
   "execution_count": null,
   "id": "19958fb5",
   "metadata": {},
   "outputs": [],
   "source": [
    "# Create a file and get path\n",
    "\n",
    "# Not working yet\n",
    "from azure.storage.fileshare import ShareFileClient\n",
    "\n",
    "file_client = ShareFileClient.from_connection_string(conn_str=conn_str, share_name=s_name, file_path=\"my_file\")\n",
    "\n",
    "with open(\"./SampleSource.txt\", \"rb\") as source_file:\n",
    "    file_client.upload_file(source_file)"
   ]
  },
  {
   "cell_type": "markdown",
   "id": "72545a76",
   "metadata": {},
   "source": [
    "### Download a file"
   ]
  },
  {
   "cell_type": "code",
   "execution_count": null,
   "id": "2681cac6",
   "metadata": {},
   "outputs": [],
   "source": [
    "# NOt  tested yet\n",
    "\n",
    "from azure.storage.fileshare import ShareFileClient\n",
    "\n",
    "file_client = ShareFileClient.from_connection_string(conn_str=conn_str, share_name=s_name, file_path=\"my_file\")\n",
    "\n",
    "with open(\"DEST_FILE\", \"wb\") as file_handle:\n",
    "    data = file_client.download_file()\n",
    "    data.readinto(file_handle)"
   ]
  },
  {
   "cell_type": "markdown",
   "id": "26c1b3e8",
   "metadata": {},
   "source": [
    "### Listing contents of a directory"
   ]
  },
  {
   "cell_type": "code",
   "execution_count": null,
   "id": "6b6d3cf3",
   "metadata": {},
   "outputs": [],
   "source": [
    "# Not tested yet!\n",
    "\n",
    "from azure.storage.fileshare import ShareDirectoryClient\n",
    "\n",
    "parent_dir = ShareDirectoryClient.from_connection_string(conn_str=conn_str, share_name=\"my_share\", directory_path=\"parent_dir\")\n",
    "\n",
    "my_list = list(parent_dir.list_directories_and_files())\n",
    "print(my_list)"
   ]
  }
 ],
 "metadata": {
  "kernelspec": {
   "display_name": "Python 3 (ipykernel)",
   "language": "python",
   "name": "python3"
  },
  "language_info": {
   "codemirror_mode": {
    "name": "ipython",
    "version": 3
   },
   "file_extension": ".py",
   "mimetype": "text/x-python",
   "name": "python",
   "nbconvert_exporter": "python",
   "pygments_lexer": "ipython3",
   "version": "3.8.10"
  }
 },
 "nbformat": 4,
 "nbformat_minor": 5
}
