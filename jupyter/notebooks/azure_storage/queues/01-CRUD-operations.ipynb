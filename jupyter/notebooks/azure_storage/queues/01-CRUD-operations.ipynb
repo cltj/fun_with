{
 "cells": [
  {
   "cell_type": "markdown",
   "id": "4f32b3bd-424a-4599-abbe-0fe892b97183",
   "metadata": {},
   "source": [
    "# CRUD operations with queue"
   ]
  },
  {
   "cell_type": "markdown",
   "id": "75c77ed4",
   "metadata": {},
   "source": [
    "## Setup"
   ]
  },
  {
   "cell_type": "markdown",
   "id": "6e89820b-d976-4799-a06f-0a5351dff0eb",
   "metadata": {},
   "source": [
    "Import [azure data tables](https://pypi.org/project/azure-data-tables/) (version 12.2.0 Updated nov.2021)\n",
    "\n",
    "> pip install azure-data-tables"
   ]
  },
  {
   "cell_type": "markdown",
   "id": "6d0d8c08-201a-473d-9d87-16f8cf61fbc3",
   "metadata": {},
   "source": [
    "INSERT ENVIRONMENT VARIABLES"
   ]
  },
  {
   "cell_type": "code",
   "execution_count": 2,
   "id": "38de681e-2120-411c-9621-f1abc1b253da",
   "metadata": {},
   "outputs": [],
   "source": [
    "import os\n",
    "from dotenv import load_dotenv\n",
    "load_dotenv()\n",
    "conn_str = os.getenv(\"YOUR_CONNECTION_STRING\") # AZURE_STORAGE_TABLE\n",
    "q_name = \"test\"\n",
    "\n",
    "from azure.storage.queue import (\n",
    "        QueueClient,\n",
    "        BinaryBase64EncodePolicy,\n",
    "        BinaryBase64DecodePolicy\n",
    ")"
   ]
  },
  {
   "cell_type": "markdown",
   "id": "284490ef",
   "metadata": {},
   "source": [
    "## Functions"
   ]
  },
  {
   "cell_type": "markdown",
   "id": "635637e6-5bfd-4e06-aca9-8b277d5671c6",
   "metadata": {},
   "source": [
    "#### Create a new queue"
   ]
  },
  {
   "cell_type": "code",
   "execution_count": 4,
   "id": "189a5d71-8355-46af-972d-30ae01be7c17",
   "metadata": {},
   "outputs": [
    {
     "name": "stdout",
     "output_type": "stream",
     "text": [
      "Creating queue: test2\n"
     ]
    },
    {
     "data": {
      "text/plain": [
       "{'x-ms-request-id': 'e226ea0b-1003-003f-3c9d-2fb787000000',\n",
       " 'x-ms-version': '2018-03-28',\n",
       " 'Date': datetime.datetime(2022, 3, 4, 7, 54, 9, tzinfo=datetime.timezone.utc)}"
      ]
     },
     "execution_count": 4,
     "metadata": {},
     "output_type": "execute_result"
    }
   ],
   "source": [
    "# Instantiate a QueueClient object which will\n",
    "# be used to create and manipulate the queue\n",
    "print(\"Creating queue: \" + q_name)\n",
    "queue_client = QueueClient.from_connection_string(conn_str, q_name)\n",
    "\n",
    "# Create the queue\n",
    "queue_client.create_queue()"
   ]
  },
  {
   "cell_type": "markdown",
   "id": "1b4b9b7b",
   "metadata": {},
   "source": [
    "Azure queue messages are stored as text. If you want to store binary data, setup Base64 encoding and decoding functions before putting a message in the queue.\n",
    "\n",
    "Configure Base64 encoding and decoding functions when creating the client object."
   ]
  },
  {
   "cell_type": "code",
   "execution_count": null,
   "id": "af260101",
   "metadata": {},
   "outputs": [],
   "source": [
    "# Setup Base64 encoding and decoding functions\n",
    "base64_queue_client = QueueClient.from_connection_string(\n",
    "                            conn_str=conn_str, queue_name=q_name,\n",
    "                            message_encode_policy = BinaryBase64EncodePolicy(),\n",
    "                            message_decode_policy = BinaryBase64DecodePolicy()\n",
    "                        )"
   ]
  },
  {
   "cell_type": "markdown",
   "id": "52b4525e",
   "metadata": {},
   "source": [
    "### Insert a message into the queue"
   ]
  },
  {
   "cell_type": "code",
   "execution_count": 5,
   "id": "3b53a769",
   "metadata": {},
   "outputs": [
    {
     "name": "stdout",
     "output_type": "stream",
     "text": [
      "Adding message: Hello World\n"
     ]
    },
    {
     "data": {
      "text/plain": [
       "{'id': '1c1d92cd-7a93-4a51-bb82-b3440e7a7957', 'inserted_on': datetime.datetime(2022, 3, 4, 7, 57, 5, tzinfo=datetime.timezone.utc), 'expires_on': datetime.datetime(2022, 3, 11, 7, 57, 5, tzinfo=datetime.timezone.utc), 'dequeue_count': None, 'content': 'Hello World', 'pop_receipt': 'AgAAAAMAAAAAAAAArLm0cJ0v2AE=', 'next_visible_on': datetime.datetime(2022, 3, 4, 7, 57, 5, tzinfo=datetime.timezone.utc)}"
      ]
     },
     "execution_count": 5,
     "metadata": {},
     "output_type": "execute_result"
    }
   ],
   "source": [
    "message = u\"Hello World\"\n",
    "print(\"Adding message: \" + message)\n",
    "queue_client.send_message(message)\n"
   ]
  },
  {
   "cell_type": "markdown",
   "id": "72545a76",
   "metadata": {},
   "source": [
    "### Peek at message without removing it"
   ]
  },
  {
   "cell_type": "code",
   "execution_count": 6,
   "id": "06ed70df",
   "metadata": {},
   "outputs": [
    {
     "name": "stdout",
     "output_type": "stream",
     "text": [
      "Peeked message: Hello World\n"
     ]
    }
   ],
   "source": [
    "# Peek at the first message\n",
    "messages = queue_client.peek_messages()\n",
    "\n",
    "for peeked_message in messages:\n",
    "    print(\"Peeked message: \" + peeked_message.content)"
   ]
  },
  {
   "cell_type": "markdown",
   "id": "00b7cba0",
   "metadata": {},
   "source": [
    "### Change the contents of a queued message\n",
    "\n",
    "You can change the contents of a message in-place in the queue. If the message represents a task, you can use this feature to update the status of the task."
   ]
  },
  {
   "cell_type": "code",
   "execution_count": 7,
   "id": "e20c187e",
   "metadata": {},
   "outputs": [
    {
     "name": "stdout",
     "output_type": "stream",
     "text": [
      "Updated message to: Hello World Again\n"
     ]
    }
   ],
   "source": [
    "messages = queue_client.receive_messages()\n",
    "list_result = next(messages)\n",
    "\n",
    "message = queue_client.update_message(\n",
    "        list_result.id, list_result.pop_receipt,\n",
    "        visibility_timeout=0, content=u'Hello World Again')\n",
    "\n",
    "print(\"Updated message to: \" + message.content)"
   ]
  },
  {
   "cell_type": "markdown",
   "id": "040a3acb",
   "metadata": {},
   "source": [
    "### Get the queue length\n",
    "You can get an estimate of the number of messages in a queue.\n",
    "\n",
    "PS! The result is only approximate because messages can be added or removed after the service responds to your request."
   ]
  },
  {
   "cell_type": "code",
   "execution_count": 10,
   "id": "f8cb79b4",
   "metadata": {},
   "outputs": [
    {
     "name": "stdout",
     "output_type": "stream",
     "text": [
      "Message count: 1\n"
     ]
    }
   ],
   "source": [
    "properties = queue_client.get_queue_properties()\n",
    "count = properties.approximate_message_count\n",
    "print(\"Message count: \" + str(count))"
   ]
  },
  {
   "cell_type": "markdown",
   "id": "1c1d2120",
   "metadata": {},
   "source": [
    "### Dequeue messages\n",
    "Remove a message from a queue in two steps. If your code fails to process a message, this two-step process ensures that you can get the same message and try again. Call delete_message after the message has been successfully processed.\n",
    "\n",
    "When you call receive_messages, you get the next message in the queue by default. A message returned from receive_messages becomes invisible to any other code reading messages from this queue. By default, this message stays invisible for 30 seconds. To finish removing the message from the queue, you must also call delete_message."
   ]
  },
  {
   "cell_type": "code",
   "execution_count": 12,
   "id": "25e31de9",
   "metadata": {},
   "outputs": [],
   "source": [
    "messages = queue_client.receive_messages()\n",
    "\n",
    "for message in messages:\n",
    "    print(\"Dequeueing message: \" + message.content)\n",
    "    queue_client.delete_message(message.id, message.pop_receipt)"
   ]
  },
  {
   "cell_type": "markdown",
   "id": "52e94b02",
   "metadata": {},
   "source": [
    "There are two ways you can customize message retrieval from a queue. First, you can get a batch of messages (up to 32). Second, you can set a longer or shorter invisibility timeout, allowing your code more or less time to fully process each message."
   ]
  },
  {
   "cell_type": "code",
   "execution_count": null,
   "id": "6984235a",
   "metadata": {},
   "outputs": [],
   "source": [
    "messages = queue_client.receive_messages(messages_per_page=5, visibility_timeout=5*60)\n",
    "\n",
    "for msg_batch in messages.by_page():\n",
    "    for msg in msg_batch:\n",
    "        print(\"Batch dequeue message: \" + msg.content)\n",
    "        queue_client.delete_message(msg)"
   ]
  },
  {
   "cell_type": "markdown",
   "id": "26c1b3e8",
   "metadata": {},
   "source": [
    "### Delete a queue"
   ]
  },
  {
   "cell_type": "code",
   "execution_count": 13,
   "id": "b00cafa9",
   "metadata": {},
   "outputs": [
    {
     "name": "stdout",
     "output_type": "stream",
     "text": [
      "Deleting queue: test2\n"
     ]
    }
   ],
   "source": [
    "print(\"Deleting queue: \" + queue_client.queue_name)\n",
    "queue_client.delete_queue()"
   ]
  }
 ],
 "metadata": {
  "kernelspec": {
   "display_name": "Python 3 (ipykernel)",
   "language": "python",
   "name": "python3"
  },
  "language_info": {
   "codemirror_mode": {
    "name": "ipython",
    "version": 3
   },
   "file_extension": ".py",
   "mimetype": "text/x-python",
   "name": "python",
   "nbconvert_exporter": "python",
   "pygments_lexer": "ipython3",
   "version": "3.8.10"
  }
 },
 "nbformat": 4,
 "nbformat_minor": 5
}
