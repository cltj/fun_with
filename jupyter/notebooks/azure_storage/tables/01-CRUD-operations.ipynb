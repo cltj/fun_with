{
 "cells": [
  {
   "cell_type": "markdown",
   "id": "4f32b3bd-424a-4599-abbe-0fe892b97183",
   "metadata": {},
   "source": [
    "# CRUD operations with entities"
   ]
  },
  {
   "cell_type": "markdown",
   "id": "75c77ed4",
   "metadata": {},
   "source": [
    "## Setup"
   ]
  },
  {
   "cell_type": "markdown",
   "id": "6e89820b-d976-4799-a06f-0a5351dff0eb",
   "metadata": {},
   "source": [
    "Import [azure data tables](https://pypi.org/project/azure-data-tables/) (version 12.2.0 Updated nov.2021)\n",
    "> pip install azure-data-tables"
   ]
  },
  {
   "cell_type": "code",
   "execution_count": 1,
   "id": "36b920da-c8a5-4301-9bf9-31c4fa3df8cf",
   "metadata": {},
   "outputs": [],
   "source": [
    "from azure.data.tables import TableClient, UpdateMode\n",
    "from azure.core.exceptions import ResourceExistsError, HttpResponseError, ResourceNotFoundError\n"
   ]
  },
  {
   "cell_type": "markdown",
   "id": "6d0d8c08-201a-473d-9d87-16f8cf61fbc3",
   "metadata": {},
   "source": [
    "INSERT ENVIRONMENT VARIABLES"
   ]
  },
  {
   "cell_type": "code",
   "execution_count": 2,
   "id": "38de681e-2120-411c-9621-f1abc1b253da",
   "metadata": {},
   "outputs": [
    {
     "name": "stdout",
     "output_type": "stream",
     "text": [
      "DefaultEndpointsProtocol=https;AccountName=cltj;AccountKey=L05Ry3adMrjgT66XX2/IXJb2v7UNNv3YYX4p8Qi04dGlGWMvz1gCW0lJ/1Rp9rKqHazX+nsAuje044km0mKtOA==;BlobEndpoint=https://cltj.blob.core.windows.net/;QueueEndpoint=https://cltj.queue.core.windows.net/;TableEndpoint=https://cltj.table.core.windows.net/;FileEndpoint=https://cltj.file.core.windows.net/;\n"
     ]
    }
   ],
   "source": [
    "import os\n",
    "from dotenv import load_dotenv\n",
    "load_dotenv()\n",
    "connection = os.getenv(\"AZURE_TABLE_STORAGE\")\n",
    "print(connection)\n",
    "table = \"test\""
   ]
  },
  {
   "cell_type": "markdown",
   "id": "284490ef",
   "metadata": {},
   "source": [
    "## Functions"
   ]
  },
  {
   "cell_type": "markdown",
   "id": "6affeb44",
   "metadata": {},
   "source": [
    "### The CRUD Function"
   ]
  },
  {
   "cell_type": "markdown",
   "id": "635637e6-5bfd-4e06-aca9-8b277d5671c6",
   "metadata": {},
   "source": [
    "##### To run the funciton needs:\n",
    "\n",
    "- ```connection_string```   (needs to be extracted from azure storage account)\n",
    "- ```table_name```          (create one in the portal, in azure storage explorer or programatically)\n",
    "- ```operation```           (create, query, update, delete)\n",
    "- ```entity```               (the entity that you want to handle, PS the entity needs to have \"PartitionKey\" and \"RowKey\")"
   ]
  },
  {
   "cell_type": "code",
   "execution_count": 3,
   "id": "189a5d71-8355-46af-972d-30ae01be7c17",
   "metadata": {},
   "outputs": [],
   "source": [
    "def entity_crud(connection_string, table_name, operation, entity):\n",
    "    with TableClient.from_connection_string(connection_string, table_name) as table_client:\n",
    "        if operation == 'create':\n",
    "            try:\n",
    "                response = table_client.create_entity(entity=entity)\n",
    "                return(response)\n",
    "            except ResourceExistsError:\n",
    "                print(\"Entity already exists\")\n",
    "        elif operation == 'query':\n",
    "            try:\n",
    "                queried_entity = table_client.get_entity(partition_key=entity['PartitionKey'],row_key=entity['RowKey'])\n",
    "                return (queried_entity)\n",
    "            except HttpResponseError as e:\n",
    "                print(e.message)\n",
    "        elif operation == 'update':\n",
    "            try:\n",
    "                response = table_client.update_entity(mode=UpdateMode.MERGE, entity=entity)\n",
    "                return response\n",
    "            except HttpResponseError as e:\n",
    "                print(e.message)\n",
    "        elif operation == 'delete':\n",
    "            try:\n",
    "                response = table_client.delete_entity(partition_key=entity['PartitionKey'],row_key=entity['RowKey'])\n",
    "                return (response)\n",
    "            except ResourceNotFoundError:\n",
    "                print(\"Entity does not exists\")"
   ]
  },
  {
   "cell_type": "markdown",
   "id": "2422e7aa-0b02-4d54-8ef7-05f86333982e",
   "metadata": {},
   "source": [
    "### Query multiple function"
   ]
  },
  {
   "cell_type": "code",
   "execution_count": 17,
   "id": "4f491a60-3ccc-442a-954a-43869e1cd68e",
   "metadata": {},
   "outputs": [],
   "source": [
    "def list_entities(connection_string, table_name, select):\n",
    "    with TableClient.from_connection_string(connection_string, table_name=table_name) as table_client:\n",
    "        try:\n",
    "            entities = list(table_client.list_entities(select=select))\n",
    "            return entities\n",
    "        except HttpResponseError as e:\n",
    "                print(e.message)"
   ]
  },
  {
   "cell_type": "markdown",
   "id": "ce1b1709-c358-4469-b241-5f910444aeea",
   "metadata": {},
   "source": [
    "## Playtime\n",
    "<p>Now that we have our two functions, lets play with them</p>"
   ]
  },
  {
   "cell_type": "markdown",
   "id": "63551c56",
   "metadata": {},
   "source": [
    "### Single CRUD operations"
   ]
  },
  {
   "cell_type": "markdown",
   "id": "4a02c7f6",
   "metadata": {},
   "source": [
    "First let us create a entity in a table. <br>\n",
    "We already specified ```connection_string``` and the ```table```.<br>\n",
    "So we only need to pass the ```operation``` and the ```entity```"
   ]
  },
  {
   "cell_type": "code",
   "execution_count": 7,
   "id": "318cbef1",
   "metadata": {},
   "outputs": [
    {
     "name": "stdout",
     "output_type": "stream",
     "text": [
      "{'PartitionKey': 'ThisIsATest', 'RowKey': '1', 'firstName': 'Sam', 'surName': 'Harris', 'age': 57, 'woman': False}\n"
     ]
    }
   ],
   "source": [
    "my_data = {}\n",
    "my_data['PartitionKey'] = \"ThisIsATest\"\n",
    "my_data['RowKey'] = \"1\"\n",
    "my_data['firstName'] = \"Sam\"\n",
    "my_data['surName'] = \"Harris\"\n",
    "my_data['age'] = 57\n",
    "my_data['woman'] = False\n",
    "\n",
    "print(my_data)"
   ]
  },
  {
   "cell_type": "code",
   "execution_count": 8,
   "id": "335f3d5d",
   "metadata": {},
   "outputs": [
    {
     "name": "stdout",
     "output_type": "stream",
     "text": [
      "{'date': datetime.datetime(2022, 2, 20, 8, 18, 58, tzinfo=datetime.timezone.utc), 'etag': 'W/\"datetime\\'2022-02-20T08%3A18%3A58.5715454Z\\'\"', 'version': '2019-02-02'}\n"
     ]
    }
   ],
   "source": [
    "# Create a new record in the table\n",
    "response = entity_crud(connection_string=connection, table_name=table, operation='create', entity=my_data)\n",
    "print(response)"
   ]
  },
  {
   "cell_type": "code",
   "execution_count": 9,
   "id": "826869b6",
   "metadata": {},
   "outputs": [
    {
     "name": "stdout",
     "output_type": "stream",
     "text": [
      "{'PartitionKey': 'ThisIsATest', 'RowKey': '1', 'firstName': 'Sam', 'surName': 'Harris', 'age': 57, 'woman': False}\n"
     ]
    }
   ],
   "source": [
    "# Query entity\n",
    "response = entity_crud(connection_string=connection, table_name=table, operation=\"query\", entity=my_data)\n",
    "print(response)"
   ]
  },
  {
   "cell_type": "markdown",
   "id": "68778c59",
   "metadata": {},
   "source": [
    "The query actually needs a partitionkey and a rowkey to do the search. As long as these keys is within the my_data entity it will manage to get a sepsific entity. PS 'PartitionKey' and 'RowKey' is case sensitive"
   ]
  },
  {
   "cell_type": "code",
   "execution_count": 12,
   "id": "63b205d2",
   "metadata": {},
   "outputs": [
    {
     "name": "stdout",
     "output_type": "stream",
     "text": [
      "{'PartitionKey': 'ThisIsATest', 'RowKey': '1', 'firstName': 'Camala', 'surName': 'Harris', 'age': 59, 'woman': True}\n",
      "{'date': datetime.datetime(2022, 2, 20, 8, 31, 12, tzinfo=datetime.timezone.utc), 'etag': 'W/\"datetime\\'2022-02-20T08%3A31%3A13.1798331Z\\'\"', 'version': '2019-02-02'}\n"
     ]
    }
   ],
   "source": [
    "# Now we will update our entity\n",
    "my_data['firstName'] = \"Camala\"\n",
    "my_data['age'] = 59\n",
    "my_data['woman'] = True\n",
    "\n",
    "print(my_data)\n",
    "\n",
    "response = entity_crud(connection,table,operation=\"update\", entity=my_data)\n",
    "print(response)"
   ]
  },
  {
   "cell_type": "code",
   "execution_count": 13,
   "id": "135d6703",
   "metadata": {},
   "outputs": [
    {
     "name": "stdout",
     "output_type": "stream",
     "text": [
      "None\n"
     ]
    }
   ],
   "source": [
    "# Lastly we will delete our entity\n",
    "response = entity_crud(connection,table,operation=\"delete\", entity=my_data)\n",
    "print(response)"
   ]
  },
  {
   "cell_type": "markdown",
   "id": "718bc55d",
   "metadata": {},
   "source": [
    "As with query, delete also needs 'PartitionKey' and 'RowKey' in the my_data/entity <br>\n",
    "PS! Note the the response is a ```None```. <br>\n",
    "This signifies that the entity was deleted."
   ]
  }
 ],
 "metadata": {
  "kernelspec": {
   "display_name": "Python 3 (ipykernel)",
   "language": "python",
   "name": "python3"
  },
  "language_info": {
   "codemirror_mode": {
    "name": "ipython",
    "version": 3
   },
   "file_extension": ".py",
   "mimetype": "text/x-python",
   "name": "python",
   "nbconvert_exporter": "python",
   "pygments_lexer": "ipython3",
   "version": "3.8.10"
  }
 },
 "nbformat": 4,
 "nbformat_minor": 5
}
