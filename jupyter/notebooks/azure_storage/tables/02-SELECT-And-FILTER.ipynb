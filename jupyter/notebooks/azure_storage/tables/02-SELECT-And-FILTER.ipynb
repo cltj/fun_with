{
 "cells": [
  {
   "cell_type": "markdown",
   "id": "4f32b3bd-424a-4599-abbe-0fe892b97183",
   "metadata": {},
   "source": [
    "# SELECT AND FILTER entities"
   ]
  },
  {
   "cell_type": "markdown",
   "id": "75c77ed4",
   "metadata": {},
   "source": [
    "## Setup"
   ]
  },
  {
   "cell_type": "markdown",
   "id": "6e89820b-d976-4799-a06f-0a5351dff0eb",
   "metadata": {},
   "source": [
    "Import [azure data tables](https://pypi.org/project/azure-data-tables/) (version 12.2.0 Updated nov.2021)\n",
    "> pip install azure-data-tables"
   ]
  },
  {
   "cell_type": "code",
   "execution_count": 1,
   "id": "36b920da-c8a5-4301-9bf9-31c4fa3df8cf",
   "metadata": {},
   "outputs": [],
   "source": [
    "from azure.data.tables import TableClient, UpdateMode\n",
    "from azure.core.exceptions import ResourceExistsError, HttpResponseError, ResourceNotFoundError\n"
   ]
  },
  {
   "cell_type": "markdown",
   "id": "6d0d8c08-201a-473d-9d87-16f8cf61fbc3",
   "metadata": {},
   "source": [
    "INSERT ENVIRONMENT VARIABLES"
   ]
  },
  {
   "cell_type": "code",
   "execution_count": 2,
   "id": "38de681e-2120-411c-9621-f1abc1b253da",
   "metadata": {},
   "outputs": [],
   "source": [
    "import os\n",
    "from dotenv import load_dotenv\n",
    "load_dotenv()\n",
    "connection = os.getenv(\"YOUR_CONNECTION_STRING\") # AZURE_STORAGE_TABLE\n",
    "table = \"test\""
   ]
  },
  {
   "cell_type": "code",
   "execution_count": 4,
   "id": "c3eb1bb8",
   "metadata": {},
   "outputs": [],
   "source": [
    "# Define function for create\n",
    "def entity_crud(connection_string, table_name, operation, entity):\n",
    "    with TableClient.from_connection_string(connection_string, table_name) as table_client:\n",
    "        if operation == 'create':\n",
    "            try:\n",
    "                response = table_client.create_entity(entity=entity)\n",
    "                return(response)\n",
    "            except ResourceExistsError:\n",
    "                print(\"Entity already exists\")"
   ]
  },
  {
   "cell_type": "code",
   "execution_count": 5,
   "id": "55b3e275",
   "metadata": {},
   "outputs": [
    {
     "name": "stdout",
     "output_type": "stream",
     "text": [
      "{'PartitionKey': 'ThisIsATest', 'RowKey': '1', 'firstName': 'Sam', 'surName': 'Harris', 'age': 57, 'woman': False}\n",
      "Entity already exists\n",
      "{'PartitionKey': 'ThisIsATest', 'RowKey': '2', 'firstName': 'Camala', 'surName': 'Harris', 'age': 59, 'woman': True}\n",
      "Entity already exists\n",
      "{'PartitionKey': 'ThisIsATest', 'RowKey': '3', 'firstName': 'Eric', 'surName': 'Hanson', 'age': 45, 'woman': False}\n",
      "Entity already exists\n"
     ]
    }
   ],
   "source": [
    "# Input test data\n",
    "\n",
    "my_data = {}\n",
    "my_data['PartitionKey'] = \"ThisIsATest\"\n",
    "my_data['RowKey'] = \"1\"\n",
    "my_data['firstName'] = \"Sam\"\n",
    "my_data['surName'] = \"Harris\"\n",
    "my_data['age'] = 57\n",
    "my_data['woman'] = False\n",
    "print(my_data)\n",
    "entity_crud(connection_string=connection, table_name=table, operation='create', entity=my_data)\n",
    "\n",
    "two_my_data = {}\n",
    "two_my_data['PartitionKey'] = \"ThisIsATest\"\n",
    "two_my_data['RowKey'] = \"2\"\n",
    "two_my_data['firstName'] = \"Camala\"\n",
    "two_my_data['surName'] = \"Harris\"\n",
    "two_my_data['age'] = 59\n",
    "two_my_data['woman'] = True\n",
    "print(two_my_data)\n",
    "entity_crud(connection_string=connection, table_name=table, operation='create', entity=two_my_data)\n",
    "\n",
    "three_my_data = {}\n",
    "three_my_data['PartitionKey'] = \"ThisIsATest\"\n",
    "three_my_data['RowKey'] = \"3\"\n",
    "three_my_data['firstName'] = \"Eric\"\n",
    "three_my_data['surName'] = \"Hanson\"\n",
    "three_my_data['age'] = 45\n",
    "three_my_data['woman'] = False\n",
    "print(three_my_data)\n",
    "entity_crud(connection_string=connection, table_name=table, operation='create', entity=three_my_data)"
   ]
  },
  {
   "cell_type": "markdown",
   "id": "284490ef",
   "metadata": {},
   "source": [
    "## Function"
   ]
  },
  {
   "cell_type": "markdown",
   "id": "2422e7aa-0b02-4d54-8ef7-05f86333982e",
   "metadata": {},
   "source": [
    "### Query multiple with SELECT"
   ]
  },
  {
   "cell_type": "code",
   "execution_count": 6,
   "id": "4f491a60-3ccc-442a-954a-43869e1cd68e",
   "metadata": {},
   "outputs": [],
   "source": [
    "def list_entities(connection_string, table_name, select):\n",
    "    with TableClient.from_connection_string(connection_string, table_name=table_name) as table_client:\n",
    "        try:\n",
    "            entities = list(table_client.list_entities(select=select))\n",
    "            return entities\n",
    "        except HttpResponseError as e:\n",
    "                print(e.message)"
   ]
  },
  {
   "cell_type": "markdown",
   "id": "40dd3476",
   "metadata": {},
   "source": [
    "### Query with FILTER"
   ]
  },
  {
   "cell_type": "code",
   "execution_count": 3,
   "id": "a389b008",
   "metadata": {},
   "outputs": [],
   "source": [
    "def sample_query_entities_values(connection_string,table_name, select, parameters, filter):\n",
    "    with TableClient.from_connection_string(connection_string, table_name) as table_client:\n",
    "        try:\n",
    "            queried_entities = table_client.query_entities(\n",
    "                query_filter=filter, select=[select], parameters=parameters\n",
    "            )\n",
    "            for entity_chosen in queried_entities:\n",
    "                print(entity_chosen)\n",
    "        except HttpResponseError as e:\n",
    "            print(e.message)"
   ]
  },
  {
   "cell_type": "markdown",
   "id": "ce1b1709-c358-4469-b241-5f910444aeea",
   "metadata": {},
   "source": [
    "## Playtime\n",
    "<p>Now that we have our SELECT multiple, lets try it out</p>"
   ]
  },
  {
   "cell_type": "markdown",
   "id": "a8b9de9d",
   "metadata": {},
   "source": [
    "### SELECT"
   ]
  },
  {
   "cell_type": "code",
   "execution_count": 7,
   "id": "0e828e10",
   "metadata": {},
   "outputs": [
    {
     "ename": "AttributeError",
     "evalue": "'NoneType' object has no attribute 'strip'",
     "output_type": "error",
     "traceback": [
      "\u001b[0;31m---------------------------------------------------------------------------\u001b[0m",
      "\u001b[0;31mAttributeError\u001b[0m                            Traceback (most recent call last)",
      "\u001b[1;32m/mnt/c/dev/fun_with/jupyter/notebooks/azure_storage/tables/02-SELECT-And-FILTER.ipynb Cell 16'\u001b[0m in \u001b[0;36m<module>\u001b[0;34m\u001b[0m\n\u001b[1;32m      <a href='vscode-notebook-cell://wsl%2Bubuntu-20.04/mnt/c/dev/fun_with/jupyter/notebooks/azure_storage/tables/02-SELECT-And-FILTER.ipynb#ch0000015vscode-remote?line=0'>1</a>\u001b[0m \u001b[39m# We can pass a single string as the select parameter\u001b[39;00m\n\u001b[0;32m----> <a href='vscode-notebook-cell://wsl%2Bubuntu-20.04/mnt/c/dev/fun_with/jupyter/notebooks/azure_storage/tables/02-SELECT-And-FILTER.ipynb#ch0000015vscode-remote?line=1'>2</a>\u001b[0m response \u001b[39m=\u001b[39m list_entities(connection_string\u001b[39m=\u001b[39;49mconnection, table_name\u001b[39m=\u001b[39;49mtable, select\u001b[39m=\u001b[39;49m\u001b[39m\"\u001b[39;49m\u001b[39mPartitionKey\u001b[39;49m\u001b[39m\"\u001b[39;49m)\n\u001b[1;32m      <a href='vscode-notebook-cell://wsl%2Bubuntu-20.04/mnt/c/dev/fun_with/jupyter/notebooks/azure_storage/tables/02-SELECT-And-FILTER.ipynb#ch0000015vscode-remote?line=2'>3</a>\u001b[0m \u001b[39mprint\u001b[39m(response)\n",
      "\u001b[1;32m/mnt/c/dev/fun_with/jupyter/notebooks/azure_storage/tables/02-SELECT-And-FILTER.ipynb Cell 11'\u001b[0m in \u001b[0;36mlist_entities\u001b[0;34m(connection_string, table_name, select)\u001b[0m\n\u001b[1;32m      <a href='vscode-notebook-cell://wsl%2Bubuntu-20.04/mnt/c/dev/fun_with/jupyter/notebooks/azure_storage/tables/02-SELECT-And-FILTER.ipynb#ch0000010vscode-remote?line=0'>1</a>\u001b[0m \u001b[39mdef\u001b[39;00m \u001b[39mlist_entities\u001b[39m(connection_string, table_name, select):\n\u001b[0;32m----> <a href='vscode-notebook-cell://wsl%2Bubuntu-20.04/mnt/c/dev/fun_with/jupyter/notebooks/azure_storage/tables/02-SELECT-And-FILTER.ipynb#ch0000010vscode-remote?line=1'>2</a>\u001b[0m     \u001b[39mwith\u001b[39;00m TableClient\u001b[39m.\u001b[39;49mfrom_connection_string(connection_string, table_name\u001b[39m=\u001b[39;49mtable_name) \u001b[39mas\u001b[39;00m table_client:\n\u001b[1;32m      <a href='vscode-notebook-cell://wsl%2Bubuntu-20.04/mnt/c/dev/fun_with/jupyter/notebooks/azure_storage/tables/02-SELECT-And-FILTER.ipynb#ch0000010vscode-remote?line=2'>3</a>\u001b[0m         \u001b[39mtry\u001b[39;00m:\n\u001b[1;32m      <a href='vscode-notebook-cell://wsl%2Bubuntu-20.04/mnt/c/dev/fun_with/jupyter/notebooks/azure_storage/tables/02-SELECT-And-FILTER.ipynb#ch0000010vscode-remote?line=3'>4</a>\u001b[0m             entities \u001b[39m=\u001b[39m \u001b[39mlist\u001b[39m(table_client\u001b[39m.\u001b[39mlist_entities(select\u001b[39m=\u001b[39mselect))\n",
      "File \u001b[0;32m~/.local/lib/python3.8/site-packages/azure/data/tables/_table_client.py:114\u001b[0m, in \u001b[0;36mTableClient.from_connection_string\u001b[0;34m(cls, conn_str, table_name, **kwargs)\u001b[0m\n\u001b[1;32m     <a href='file:///~/.local/lib/python3.8/site-packages/azure/data/tables/_table_client.py?line=89'>90</a>\u001b[0m \u001b[39m@classmethod\u001b[39m\n\u001b[1;32m     <a href='file:///~/.local/lib/python3.8/site-packages/azure/data/tables/_table_client.py?line=90'>91</a>\u001b[0m \u001b[39mdef\u001b[39;00m \u001b[39mfrom_connection_string\u001b[39m(\n\u001b[1;32m     <a href='file:///~/.local/lib/python3.8/site-packages/azure/data/tables/_table_client.py?line=91'>92</a>\u001b[0m     \u001b[39mcls\u001b[39m,\n\u001b[0;32m   (...)\u001b[0m\n\u001b[1;32m     <a href='file:///~/.local/lib/python3.8/site-packages/azure/data/tables/_table_client.py?line=95'>96</a>\u001b[0m ):\n\u001b[1;32m     <a href='file:///~/.local/lib/python3.8/site-packages/azure/data/tables/_table_client.py?line=96'>97</a>\u001b[0m     \u001b[39m# type: (...) -> TableClient\u001b[39;00m\n\u001b[1;32m     <a href='file:///~/.local/lib/python3.8/site-packages/azure/data/tables/_table_client.py?line=97'>98</a>\u001b[0m     \u001b[39m\"\"\"Create TableClient from a Connection String.\u001b[39;00m\n\u001b[1;32m     <a href='file:///~/.local/lib/python3.8/site-packages/azure/data/tables/_table_client.py?line=98'>99</a>\u001b[0m \n\u001b[1;32m    <a href='file:///~/.local/lib/python3.8/site-packages/azure/data/tables/_table_client.py?line=99'>100</a>\u001b[0m \u001b[39m    :param str conn_str: A connection string to an Azure Tables account.\u001b[39;00m\n\u001b[0;32m   (...)\u001b[0m\n\u001b[1;32m    <a href='file:///~/.local/lib/python3.8/site-packages/azure/data/tables/_table_client.py?line=111'>112</a>\u001b[0m \u001b[39m            :caption: Authenticating a TableServiceClient from a connection_string\u001b[39;00m\n\u001b[1;32m    <a href='file:///~/.local/lib/python3.8/site-packages/azure/data/tables/_table_client.py?line=112'>113</a>\u001b[0m \u001b[39m    \"\"\"\u001b[39;00m\n\u001b[0;32m--> <a href='file:///~/.local/lib/python3.8/site-packages/azure/data/tables/_table_client.py?line=113'>114</a>\u001b[0m     endpoint, credential \u001b[39m=\u001b[39m parse_connection_str(\n\u001b[1;32m    <a href='file:///~/.local/lib/python3.8/site-packages/azure/data/tables/_table_client.py?line=114'>115</a>\u001b[0m         conn_str\u001b[39m=\u001b[39;49mconn_str, credential\u001b[39m=\u001b[39;49m\u001b[39mNone\u001b[39;49;00m, keyword_args\u001b[39m=\u001b[39;49mkwargs\n\u001b[1;32m    <a href='file:///~/.local/lib/python3.8/site-packages/azure/data/tables/_table_client.py?line=115'>116</a>\u001b[0m     )\n\u001b[1;32m    <a href='file:///~/.local/lib/python3.8/site-packages/azure/data/tables/_table_client.py?line=116'>117</a>\u001b[0m     \u001b[39mreturn\u001b[39;00m \u001b[39mcls\u001b[39m(endpoint, table_name\u001b[39m=\u001b[39mtable_name, credential\u001b[39m=\u001b[39mcredential, \u001b[39m*\u001b[39m\u001b[39m*\u001b[39mkwargs)\n",
      "File \u001b[0;32m~/.local/lib/python3.8/site-packages/azure/data/tables/_base_client.py:342\u001b[0m, in \u001b[0;36mparse_connection_str\u001b[0;34m(conn_str, credential, keyword_args)\u001b[0m\n\u001b[1;32m    <a href='file:///~/.local/lib/python3.8/site-packages/azure/data/tables/_base_client.py?line=340'>341</a>\u001b[0m \u001b[39mdef\u001b[39;00m \u001b[39mparse_connection_str\u001b[39m(conn_str, credential, keyword_args):\n\u001b[0;32m--> <a href='file:///~/.local/lib/python3.8/site-packages/azure/data/tables/_base_client.py?line=341'>342</a>\u001b[0m     conn_settings \u001b[39m=\u001b[39m parse_connection_string(conn_str)\n\u001b[1;32m    <a href='file:///~/.local/lib/python3.8/site-packages/azure/data/tables/_base_client.py?line=342'>343</a>\u001b[0m     primary \u001b[39m=\u001b[39m \u001b[39mNone\u001b[39;00m\n\u001b[1;32m    <a href='file:///~/.local/lib/python3.8/site-packages/azure/data/tables/_base_client.py?line=343'>344</a>\u001b[0m     secondary \u001b[39m=\u001b[39m \u001b[39mNone\u001b[39;00m\n",
      "File \u001b[0;32m~/.local/lib/python3.8/site-packages/azure/core/utils/_connection_string_parser.py:26\u001b[0m, in \u001b[0;36mparse_connection_string\u001b[0;34m(conn_str, case_sensitive_keys)\u001b[0m\n\u001b[1;32m     <a href='file:///~/.local/lib/python3.8/site-packages/azure/core/utils/_connection_string_parser.py?line=9'>10</a>\u001b[0m \u001b[39mdef\u001b[39;00m \u001b[39mparse_connection_string\u001b[39m(conn_str, case_sensitive_keys\u001b[39m=\u001b[39m\u001b[39mFalse\u001b[39;00m):\n\u001b[1;32m     <a href='file:///~/.local/lib/python3.8/site-packages/azure/core/utils/_connection_string_parser.py?line=10'>11</a>\u001b[0m     \u001b[39m# type: (str, bool) -> Mapping[str, str]\u001b[39;00m\n\u001b[1;32m     <a href='file:///~/.local/lib/python3.8/site-packages/azure/core/utils/_connection_string_parser.py?line=11'>12</a>\u001b[0m     \u001b[39m\"\"\"Parses the connection string into a dict of its component parts, with the option of preserving case\u001b[39;00m\n\u001b[1;32m     <a href='file:///~/.local/lib/python3.8/site-packages/azure/core/utils/_connection_string_parser.py?line=12'>13</a>\u001b[0m \u001b[39m    of keys, and validates that each key in the connection string has a provided value. If case of keys\u001b[39;00m\n\u001b[1;32m     <a href='file:///~/.local/lib/python3.8/site-packages/azure/core/utils/_connection_string_parser.py?line=13'>14</a>\u001b[0m \u001b[39m    is not preserved (ie. `case_sensitive_keys=False`), then a dict with LOWERCASE KEYS will be returned.\u001b[39;00m\n\u001b[0;32m   (...)\u001b[0m\n\u001b[1;32m     <a href='file:///~/.local/lib/python3.8/site-packages/azure/core/utils/_connection_string_parser.py?line=22'>23</a>\u001b[0m \u001b[39m            args, bad syntax, etc.\u001b[39;00m\n\u001b[1;32m     <a href='file:///~/.local/lib/python3.8/site-packages/azure/core/utils/_connection_string_parser.py?line=23'>24</a>\u001b[0m \u001b[39m    \"\"\"\u001b[39;00m\n\u001b[0;32m---> <a href='file:///~/.local/lib/python3.8/site-packages/azure/core/utils/_connection_string_parser.py?line=25'>26</a>\u001b[0m     cs_args \u001b[39m=\u001b[39m [s\u001b[39m.\u001b[39msplit(\u001b[39m\"\u001b[39m\u001b[39m=\u001b[39m\u001b[39m\"\u001b[39m, \u001b[39m1\u001b[39m) \u001b[39mfor\u001b[39;00m s \u001b[39min\u001b[39;00m conn_str\u001b[39m.\u001b[39;49mstrip()\u001b[39m.\u001b[39mrstrip(\u001b[39m\"\u001b[39m\u001b[39m;\u001b[39m\u001b[39m\"\u001b[39m)\u001b[39m.\u001b[39msplit(\u001b[39m\"\u001b[39m\u001b[39m;\u001b[39m\u001b[39m\"\u001b[39m)]\n\u001b[1;32m     <a href='file:///~/.local/lib/python3.8/site-packages/azure/core/utils/_connection_string_parser.py?line=26'>27</a>\u001b[0m     \u001b[39mif\u001b[39;00m \u001b[39many\u001b[39m(\u001b[39mlen\u001b[39m(tup) \u001b[39m!=\u001b[39m \u001b[39m2\u001b[39m \u001b[39mor\u001b[39;00m \u001b[39mnot\u001b[39;00m \u001b[39mall\u001b[39m(tup) \u001b[39mfor\u001b[39;00m tup \u001b[39min\u001b[39;00m cs_args):\n\u001b[1;32m     <a href='file:///~/.local/lib/python3.8/site-packages/azure/core/utils/_connection_string_parser.py?line=27'>28</a>\u001b[0m         \u001b[39mraise\u001b[39;00m \u001b[39mValueError\u001b[39;00m(\u001b[39m\"\u001b[39m\u001b[39mConnection string is either blank or malformed.\u001b[39m\u001b[39m\"\u001b[39m)\n",
      "\u001b[0;31mAttributeError\u001b[0m: 'NoneType' object has no attribute 'strip'"
     ]
    }
   ],
   "source": [
    "# We can pass a single string as the select parameter\n",
    "response = list_entities(connection_string=connection, table_name=table, select=\"PartitionKey\")\n",
    "print(response)"
   ]
  },
  {
   "cell_type": "markdown",
   "id": "5b4ab7cf",
   "metadata": {},
   "source": [
    "As expected, a list with the data we selected for is returned. <br>\n",
    "PS. The result is a list of dictionaries"
   ]
  },
  {
   "cell_type": "code",
   "execution_count": 9,
   "id": "2ca5764a",
   "metadata": {},
   "outputs": [
    {
     "name": "stdout",
     "output_type": "stream",
     "text": [
      "[{'age': 57, 'firstName': 'Sam', 'surName': 'Harris'}, {'age': 59, 'firstName': 'Camala', 'surName': 'Harris'}, {'age': 45, 'firstName': 'Eric', 'surName': 'Hanson'}]\n"
     ]
    }
   ],
   "source": [
    "# We can also pass a list of strings (column names)\n",
    "response = list_entities(connection_string=connection, table_name=table, select=[\"firstName\",\"surName\",\"age\"])\n",
    "print(response)"
   ]
  },
  {
   "cell_type": "markdown",
   "id": "42b89608",
   "metadata": {},
   "source": [
    "### SELECT & FILTER"
   ]
  },
  {
   "cell_type": "code",
   "execution_count": 5,
   "id": "d7625437",
   "metadata": {},
   "outputs": [
    {
     "ename": "AttributeError",
     "evalue": "'NoneType' object has no attribute 'strip'",
     "output_type": "error",
     "traceback": [
      "\u001b[0;31m---------------------------------------------------------------------------\u001b[0m",
      "\u001b[0;31mAttributeError\u001b[0m                            Traceback (most recent call last)",
      "\u001b[1;32m/mnt/c/dev/fun_with/jupyter/notebooks/azure_storage/tables/02-SELECT-And-FILTER.ipynb Cell 20'\u001b[0m in \u001b[0;36m<module>\u001b[0;34m\u001b[0m\n\u001b[1;32m      <a href='vscode-notebook-cell://wsl%2Bubuntu-20.04/mnt/c/dev/fun_with/jupyter/notebooks/azure_storage/tables/02-SELECT-And-FILTER.ipynb#ch0000019vscode-remote?line=2'>3</a>\u001b[0m \u001b[39mfilter\u001b[39m \u001b[39m=\u001b[39m \u001b[39mu\u001b[39m\u001b[39m\"\u001b[39m\u001b[39mage gt @lower and age lt @upper\u001b[39m\u001b[39m\"\u001b[39m\n\u001b[1;32m      <a href='vscode-notebook-cell://wsl%2Bubuntu-20.04/mnt/c/dev/fun_with/jupyter/notebooks/azure_storage/tables/02-SELECT-And-FILTER.ipynb#ch0000019vscode-remote?line=3'>4</a>\u001b[0m select \u001b[39m=\u001b[39m \u001b[39mu\u001b[39m\u001b[39m\"\u001b[39m\u001b[39mage, firstName, surName\u001b[39m\u001b[39m\"\u001b[39m\n\u001b[0;32m----> <a href='vscode-notebook-cell://wsl%2Bubuntu-20.04/mnt/c/dev/fun_with/jupyter/notebooks/azure_storage/tables/02-SELECT-And-FILTER.ipynb#ch0000019vscode-remote?line=5'>6</a>\u001b[0m sample_query_entities_values(connection,table, select, parameters, \u001b[39mfilter\u001b[39;49m)\n",
      "\u001b[1;32m/mnt/c/dev/fun_with/jupyter/notebooks/azure_storage/tables/02-SELECT-And-FILTER.ipynb Cell 13'\u001b[0m in \u001b[0;36msample_query_entities_values\u001b[0;34m(connection_string, table_name, select, parameters, filter)\u001b[0m\n\u001b[1;32m      <a href='vscode-notebook-cell://wsl%2Bubuntu-20.04/mnt/c/dev/fun_with/jupyter/notebooks/azure_storage/tables/02-SELECT-And-FILTER.ipynb#ch0000012vscode-remote?line=0'>1</a>\u001b[0m \u001b[39mdef\u001b[39;00m \u001b[39msample_query_entities_values\u001b[39m(connection_string,table_name, select, parameters, \u001b[39mfilter\u001b[39m):\n\u001b[0;32m----> <a href='vscode-notebook-cell://wsl%2Bubuntu-20.04/mnt/c/dev/fun_with/jupyter/notebooks/azure_storage/tables/02-SELECT-And-FILTER.ipynb#ch0000012vscode-remote?line=1'>2</a>\u001b[0m     \u001b[39mwith\u001b[39;00m TableClient\u001b[39m.\u001b[39;49mfrom_connection_string(connection_string, table_name) \u001b[39mas\u001b[39;00m table_client:\n\u001b[1;32m      <a href='vscode-notebook-cell://wsl%2Bubuntu-20.04/mnt/c/dev/fun_with/jupyter/notebooks/azure_storage/tables/02-SELECT-And-FILTER.ipynb#ch0000012vscode-remote?line=2'>3</a>\u001b[0m         \u001b[39mtry\u001b[39;00m:\n\u001b[1;32m      <a href='vscode-notebook-cell://wsl%2Bubuntu-20.04/mnt/c/dev/fun_with/jupyter/notebooks/azure_storage/tables/02-SELECT-And-FILTER.ipynb#ch0000012vscode-remote?line=3'>4</a>\u001b[0m             queried_entities \u001b[39m=\u001b[39m table_client\u001b[39m.\u001b[39mquery_entities(\n\u001b[1;32m      <a href='vscode-notebook-cell://wsl%2Bubuntu-20.04/mnt/c/dev/fun_with/jupyter/notebooks/azure_storage/tables/02-SELECT-And-FILTER.ipynb#ch0000012vscode-remote?line=4'>5</a>\u001b[0m                 query_filter\u001b[39m=\u001b[39m\u001b[39mfilter\u001b[39m, select\u001b[39m=\u001b[39m[select], parameters\u001b[39m=\u001b[39mparameters\n\u001b[1;32m      <a href='vscode-notebook-cell://wsl%2Bubuntu-20.04/mnt/c/dev/fun_with/jupyter/notebooks/azure_storage/tables/02-SELECT-And-FILTER.ipynb#ch0000012vscode-remote?line=5'>6</a>\u001b[0m             )\n",
      "File \u001b[0;32m~/.local/lib/python3.8/site-packages/azure/data/tables/_table_client.py:114\u001b[0m, in \u001b[0;36mTableClient.from_connection_string\u001b[0;34m(cls, conn_str, table_name, **kwargs)\u001b[0m\n\u001b[1;32m     <a href='file:///~/.local/lib/python3.8/site-packages/azure/data/tables/_table_client.py?line=89'>90</a>\u001b[0m \u001b[39m@classmethod\u001b[39m\n\u001b[1;32m     <a href='file:///~/.local/lib/python3.8/site-packages/azure/data/tables/_table_client.py?line=90'>91</a>\u001b[0m \u001b[39mdef\u001b[39;00m \u001b[39mfrom_connection_string\u001b[39m(\n\u001b[1;32m     <a href='file:///~/.local/lib/python3.8/site-packages/azure/data/tables/_table_client.py?line=91'>92</a>\u001b[0m     \u001b[39mcls\u001b[39m,\n\u001b[0;32m   (...)\u001b[0m\n\u001b[1;32m     <a href='file:///~/.local/lib/python3.8/site-packages/azure/data/tables/_table_client.py?line=95'>96</a>\u001b[0m ):\n\u001b[1;32m     <a href='file:///~/.local/lib/python3.8/site-packages/azure/data/tables/_table_client.py?line=96'>97</a>\u001b[0m     \u001b[39m# type: (...) -> TableClient\u001b[39;00m\n\u001b[1;32m     <a href='file:///~/.local/lib/python3.8/site-packages/azure/data/tables/_table_client.py?line=97'>98</a>\u001b[0m     \u001b[39m\"\"\"Create TableClient from a Connection String.\u001b[39;00m\n\u001b[1;32m     <a href='file:///~/.local/lib/python3.8/site-packages/azure/data/tables/_table_client.py?line=98'>99</a>\u001b[0m \n\u001b[1;32m    <a href='file:///~/.local/lib/python3.8/site-packages/azure/data/tables/_table_client.py?line=99'>100</a>\u001b[0m \u001b[39m    :param str conn_str: A connection string to an Azure Tables account.\u001b[39;00m\n\u001b[0;32m   (...)\u001b[0m\n\u001b[1;32m    <a href='file:///~/.local/lib/python3.8/site-packages/azure/data/tables/_table_client.py?line=111'>112</a>\u001b[0m \u001b[39m            :caption: Authenticating a TableServiceClient from a connection_string\u001b[39;00m\n\u001b[1;32m    <a href='file:///~/.local/lib/python3.8/site-packages/azure/data/tables/_table_client.py?line=112'>113</a>\u001b[0m \u001b[39m    \"\"\"\u001b[39;00m\n\u001b[0;32m--> <a href='file:///~/.local/lib/python3.8/site-packages/azure/data/tables/_table_client.py?line=113'>114</a>\u001b[0m     endpoint, credential \u001b[39m=\u001b[39m parse_connection_str(\n\u001b[1;32m    <a href='file:///~/.local/lib/python3.8/site-packages/azure/data/tables/_table_client.py?line=114'>115</a>\u001b[0m         conn_str\u001b[39m=\u001b[39;49mconn_str, credential\u001b[39m=\u001b[39;49m\u001b[39mNone\u001b[39;49;00m, keyword_args\u001b[39m=\u001b[39;49mkwargs\n\u001b[1;32m    <a href='file:///~/.local/lib/python3.8/site-packages/azure/data/tables/_table_client.py?line=115'>116</a>\u001b[0m     )\n\u001b[1;32m    <a href='file:///~/.local/lib/python3.8/site-packages/azure/data/tables/_table_client.py?line=116'>117</a>\u001b[0m     \u001b[39mreturn\u001b[39;00m \u001b[39mcls\u001b[39m(endpoint, table_name\u001b[39m=\u001b[39mtable_name, credential\u001b[39m=\u001b[39mcredential, \u001b[39m*\u001b[39m\u001b[39m*\u001b[39mkwargs)\n",
      "File \u001b[0;32m~/.local/lib/python3.8/site-packages/azure/data/tables/_base_client.py:342\u001b[0m, in \u001b[0;36mparse_connection_str\u001b[0;34m(conn_str, credential, keyword_args)\u001b[0m\n\u001b[1;32m    <a href='file:///~/.local/lib/python3.8/site-packages/azure/data/tables/_base_client.py?line=340'>341</a>\u001b[0m \u001b[39mdef\u001b[39;00m \u001b[39mparse_connection_str\u001b[39m(conn_str, credential, keyword_args):\n\u001b[0;32m--> <a href='file:///~/.local/lib/python3.8/site-packages/azure/data/tables/_base_client.py?line=341'>342</a>\u001b[0m     conn_settings \u001b[39m=\u001b[39m parse_connection_string(conn_str)\n\u001b[1;32m    <a href='file:///~/.local/lib/python3.8/site-packages/azure/data/tables/_base_client.py?line=342'>343</a>\u001b[0m     primary \u001b[39m=\u001b[39m \u001b[39mNone\u001b[39;00m\n\u001b[1;32m    <a href='file:///~/.local/lib/python3.8/site-packages/azure/data/tables/_base_client.py?line=343'>344</a>\u001b[0m     secondary \u001b[39m=\u001b[39m \u001b[39mNone\u001b[39;00m\n",
      "File \u001b[0;32m~/.local/lib/python3.8/site-packages/azure/core/utils/_connection_string_parser.py:26\u001b[0m, in \u001b[0;36mparse_connection_string\u001b[0;34m(conn_str, case_sensitive_keys)\u001b[0m\n\u001b[1;32m     <a href='file:///~/.local/lib/python3.8/site-packages/azure/core/utils/_connection_string_parser.py?line=9'>10</a>\u001b[0m \u001b[39mdef\u001b[39;00m \u001b[39mparse_connection_string\u001b[39m(conn_str, case_sensitive_keys\u001b[39m=\u001b[39m\u001b[39mFalse\u001b[39;00m):\n\u001b[1;32m     <a href='file:///~/.local/lib/python3.8/site-packages/azure/core/utils/_connection_string_parser.py?line=10'>11</a>\u001b[0m     \u001b[39m# type: (str, bool) -> Mapping[str, str]\u001b[39;00m\n\u001b[1;32m     <a href='file:///~/.local/lib/python3.8/site-packages/azure/core/utils/_connection_string_parser.py?line=11'>12</a>\u001b[0m     \u001b[39m\"\"\"Parses the connection string into a dict of its component parts, with the option of preserving case\u001b[39;00m\n\u001b[1;32m     <a href='file:///~/.local/lib/python3.8/site-packages/azure/core/utils/_connection_string_parser.py?line=12'>13</a>\u001b[0m \u001b[39m    of keys, and validates that each key in the connection string has a provided value. If case of keys\u001b[39;00m\n\u001b[1;32m     <a href='file:///~/.local/lib/python3.8/site-packages/azure/core/utils/_connection_string_parser.py?line=13'>14</a>\u001b[0m \u001b[39m    is not preserved (ie. `case_sensitive_keys=False`), then a dict with LOWERCASE KEYS will be returned.\u001b[39;00m\n\u001b[0;32m   (...)\u001b[0m\n\u001b[1;32m     <a href='file:///~/.local/lib/python3.8/site-packages/azure/core/utils/_connection_string_parser.py?line=22'>23</a>\u001b[0m \u001b[39m            args, bad syntax, etc.\u001b[39;00m\n\u001b[1;32m     <a href='file:///~/.local/lib/python3.8/site-packages/azure/core/utils/_connection_string_parser.py?line=23'>24</a>\u001b[0m \u001b[39m    \"\"\"\u001b[39;00m\n\u001b[0;32m---> <a href='file:///~/.local/lib/python3.8/site-packages/azure/core/utils/_connection_string_parser.py?line=25'>26</a>\u001b[0m     cs_args \u001b[39m=\u001b[39m [s\u001b[39m.\u001b[39msplit(\u001b[39m\"\u001b[39m\u001b[39m=\u001b[39m\u001b[39m\"\u001b[39m, \u001b[39m1\u001b[39m) \u001b[39mfor\u001b[39;00m s \u001b[39min\u001b[39;00m conn_str\u001b[39m.\u001b[39;49mstrip()\u001b[39m.\u001b[39mrstrip(\u001b[39m\"\u001b[39m\u001b[39m;\u001b[39m\u001b[39m\"\u001b[39m)\u001b[39m.\u001b[39msplit(\u001b[39m\"\u001b[39m\u001b[39m;\u001b[39m\u001b[39m\"\u001b[39m)]\n\u001b[1;32m     <a href='file:///~/.local/lib/python3.8/site-packages/azure/core/utils/_connection_string_parser.py?line=26'>27</a>\u001b[0m     \u001b[39mif\u001b[39;00m \u001b[39many\u001b[39m(\u001b[39mlen\u001b[39m(tup) \u001b[39m!=\u001b[39m \u001b[39m2\u001b[39m \u001b[39mor\u001b[39;00m \u001b[39mnot\u001b[39;00m \u001b[39mall\u001b[39m(tup) \u001b[39mfor\u001b[39;00m tup \u001b[39min\u001b[39;00m cs_args):\n\u001b[1;32m     <a href='file:///~/.local/lib/python3.8/site-packages/azure/core/utils/_connection_string_parser.py?line=27'>28</a>\u001b[0m         \u001b[39mraise\u001b[39;00m \u001b[39mValueError\u001b[39;00m(\u001b[39m\"\u001b[39m\u001b[39mConnection string is either blank or malformed.\u001b[39m\u001b[39m\"\u001b[39m)\n",
      "\u001b[0;31mAttributeError\u001b[0m: 'NoneType' object has no attribute 'strip'"
     ]
    }
   ],
   "source": [
    "# We search for all entities with an age greater than 25 and less than 50.\n",
    "parameters = {u\"lower\": 25, u\"upper\": 50}\n",
    "filter = u\"age gt @lower and age lt @upper\"\n",
    "select = u\"age, firstName, surName\"\n",
    "\n",
    "sample_query_entities_values(connection,table, select, parameters, filter)"
   ]
  },
  {
   "cell_type": "markdown",
   "id": "8adce0d8",
   "metadata": {},
   "source": [
    "As we can se there are quite a bit of setup to be able to select and filter. <br>\n",
    "We need to know the colum name, the column data type, and the [operators](https://docs.microsoft.com/en-us/rest/api/storageservices/querying-tables-and-entities#supported-comparison-operators) available. <br>\n",
    "Depending on the use case, we might just filter the data in our program instead."
   ]
  },
  {
   "cell_type": "markdown",
   "id": "45f6e519",
   "metadata": {},
   "source": [
    "##### SUPPORTED QUERY OPTIONS\n",
    "- $filter<br>\n",
    "Returns only tables or entities that satisfy the specified filter. <br>\n",
    "- $top<br>\n",
    "Returns only the top n tables or entities from the set. <br>\n",
    "- $select<br>\n",
    "Returns the desired properties of an entity from the set. This query option is only supported for requests using version 2011-08-18 or newer.<br>"
   ]
  },
  {
   "cell_type": "markdown",
   "id": "c244fd7f",
   "metadata": {},
   "source": [
    "#### Supported Comparison Operators\n",
    "Within a $filter clause, you can use comparison operators to specify the criteria against which to filter the query results.\n",
    "\n",
    "For all property types, the following comparison operators are supported:\n"
   ]
  },
  {
   "cell_type": "markdown",
   "id": "1e294923",
   "metadata": {},
   "source": [
    "| Operator           | URI expression |\n",
    "|--------------------|----------------|\n",
    "| Equal              | eq             |\n",
    "| GreaterThan        | gt             |\n",
    "| GreaterThanOrEqual | ge             |\n",
    "| LessThan           | lt             |\n",
    "| LessThanOrEqual    | le             |\n",
    "| NotEqual           | ne             |\n",
    "\n",
    "Additionally, the following operators are supported for Boolean properties:\n",
    "\n",
    "| Operator | URI expression |\n",
    "|----------|----------------|\n",
    "| And      | and            |\n",
    "| Not      | not            |\n",
    "| Or       | or             |"
   ]
  }
 ],
 "metadata": {
  "kernelspec": {
   "display_name": "Python 3 (ipykernel)",
   "language": "python",
   "name": "python3"
  },
  "language_info": {
   "codemirror_mode": {
    "name": "ipython",
    "version": 3
   },
   "file_extension": ".py",
   "mimetype": "text/x-python",
   "name": "python",
   "nbconvert_exporter": "python",
   "pygments_lexer": "ipython3",
   "version": "3.8.10"
  }
 },
 "nbformat": 4,
 "nbformat_minor": 5
}
