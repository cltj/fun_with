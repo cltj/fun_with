{
 "cells": [
  {
   "cell_type": "markdown",
   "metadata": {},
   "source": []
  },
  {
   "cell_type": "code",
   "execution_count": 1,
   "metadata": {},
   "outputs": [],
   "source": [
    "import pandas as pd"
   ]
  },
  {
   "cell_type": "code",
   "execution_count": 10,
   "metadata": {},
   "outputs": [
    {
     "name": "stdout",
     "output_type": "stream",
     "text": [
      "(102, 76)\n"
     ]
    }
   ],
   "source": [
    "df = pd.read_parquet('myfile.parquet')\n",
    "print(df.shape)"
   ]
  },
  {
   "cell_type": "code",
   "execution_count": 17,
   "metadata": {},
   "outputs": [
    {
     "name": "stdout",
     "output_type": "stream",
     "text": [
      "(102, 2)\n"
     ]
    },
    {
     "data": {
      "text/plain": [
       "Index(['unit_of_measure', 'quantity'], dtype='object')"
      ]
     },
     "execution_count": 17,
     "metadata": {},
     "output_type": "execute_result"
    }
   ],
   "source": [
    "cols = ['unit_of_measure', 'quantity']\n",
    "# cols = ['meter_name','meter_region','meter_category','meter_sub_category']\n",
    "df2 = pd.DataFrame(data=df)\n",
    "df2 = df.filter(cols, axis=1)\n",
    "print(df2.shape)\n",
    "df2.columns"
   ]
  },
  {
   "cell_type": "code",
   "execution_count": 18,
   "metadata": {},
   "outputs": [
    {
     "name": "stdout",
     "output_type": "stream",
     "text": [
      "(7, 2)\n",
      "<bound method NDFrame.head of    unit_of_measure  quantity\n",
      "0              10K  0.000300\n",
      "2       1 GB/Month  0.000085\n",
      "21               1  0.032258\n",
      "25              1M  0.000001\n",
      "42         1/Month  0.022849\n",
      "47             50K  0.000020\n",
      "56            1 GB  0.000010>\n"
     ]
    }
   ],
   "source": [
    "# drop duplicates for unit_of_measure column\n",
    "\n",
    "df2 = df2.drop_duplicates(subset='unit_of_measure')\n",
    "print(df2.shape)\n",
    "print(df2.head)"
   ]
  },
  {
   "cell_type": "code",
   "execution_count": null,
   "metadata": {},
   "outputs": [],
   "source": [
    "df2.dropna()\n",
    "print(df2.shape)\n",
    "print(df2.head)"
   ]
  }
 ],
 "metadata": {
  "kernelspec": {
   "display_name": "Python 3.8.10 64-bit",
   "language": "python",
   "name": "python3"
  },
  "language_info": {
   "codemirror_mode": {
    "name": "ipython",
    "version": 3
   },
   "file_extension": ".py",
   "mimetype": "text/x-python",
   "name": "python",
   "nbconvert_exporter": "python",
   "pygments_lexer": "ipython3",
   "version": "3.8.10"
  },
  "orig_nbformat": 4,
  "vscode": {
   "interpreter": {
    "hash": "916dbcbb3f70747c44a77c7bcd40155683ae19c65e1c03b4aa3499c5328201f1"
   }
  }
 },
 "nbformat": 4,
 "nbformat_minor": 2
}
