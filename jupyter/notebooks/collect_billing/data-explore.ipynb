{
 "cells": [
  {
   "cell_type": "markdown",
   "metadata": {},
   "source": [
    "# Explore the data from AWS/GCP/AZ"
   ]
  },
  {
   "cell_type": "code",
   "execution_count": 1,
   "metadata": {},
   "outputs": [],
   "source": [
    "# Imports\n",
    "from matplotlib import pyplot as plt\n",
    "from config import My_Config as cfg\n",
    "import pandas as pd\n",
    "import seaborn as sns"
   ]
  },
  {
   "cell_type": "code",
   "execution_count": 2,
   "metadata": {},
   "outputs": [],
   "source": [
    "CONNECTION_STRING = cfg.storage_connection_string()\n",
    "BILLING_CONTAINER = cfg.storage_container_name()\n",
    "DEST_FILE = cfg.local_files_path()"
   ]
  },
  {
   "cell_type": "code",
   "execution_count": 11,
   "metadata": {},
   "outputs": [
    {
     "name": "stderr",
     "output_type": "stream",
     "text": [
      "\n",
      "KeyboardInterrupt\n",
      "\n"
     ]
    }
   ],
   "source": [
    "def block_blob_sample():\n",
    "    from azure.storage.blob import BlobServiceClient\n",
    "    blob_service_client = BlobServiceClient.from_connection_string(CONNECTION_STRING)   \n",
    "    container_client = blob_service_client.get_container_client(\"testcollect\")\n",
    "    blob_client = container_client.get_blob_client(\"Azure-Billing-Data.parquet\")\n",
    "    with open(\"myfile.parquet\", \"wb\") as my_blob:\n",
    "        download_stream = blob_client.download_blob()\n",
    "        my_blob.write(download_stream.readall())\n",
    "\n",
    "\n",
    "block_blob_sample()"
   ]
  },
  {
   "cell_type": "code",
   "execution_count": 19,
   "metadata": {},
   "outputs": [
    {
     "name": "stdout",
     "output_type": "stream",
     "text": [
      "Rows:102 Cols:76\n"
     ]
    }
   ],
   "source": [
    "df = pd.read_parquet('myfile.parquet')\n",
    "df_len, df_width = df.shape\n",
    "print('Rows:' +str(df_len),'Cols:' + str(df_width))"
   ]
  }
 ],
 "metadata": {
  "kernelspec": {
   "display_name": "Python 3.8.10 64-bit",
   "language": "python",
   "name": "python3"
  },
  "language_info": {
   "codemirror_mode": {
    "name": "ipython",
    "version": 3
   },
   "file_extension": ".py",
   "mimetype": "text/x-python",
   "name": "python",
   "nbconvert_exporter": "python",
   "pygments_lexer": "ipython3",
   "version": "3.8.10"
  },
  "orig_nbformat": 4,
  "vscode": {
   "interpreter": {
    "hash": "916dbcbb3f70747c44a77c7bcd40155683ae19c65e1c03b4aa3499c5328201f1"
   }
  }
 },
 "nbformat": 4,
 "nbformat_minor": 2
}
