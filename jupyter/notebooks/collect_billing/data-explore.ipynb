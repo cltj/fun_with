{
 "cells": [
  {
   "cell_type": "markdown",
   "metadata": {},
   "source": [
    "# Explore the data from AWS/GCP/AZ"
   ]
  },
  {
   "cell_type": "code",
   "execution_count": 1,
   "metadata": {},
   "outputs": [],
   "source": [
    "# Imports\n",
    "from matplotlib import pyplot as plt\n",
    "from config import My_Config as cfg\n",
    "import pandas as pd\n",
    "import seaborn as sns"
   ]
  },
  {
   "cell_type": "code",
   "execution_count": 2,
   "metadata": {},
   "outputs": [],
   "source": [
    "CONNECTION_STRING = cfg.storage_connection_string()\n",
    "BILLING_CONTAINER = cfg.storage_container_name()\n",
    "DEST_FILE = cfg.local_files_path()"
   ]
  },
  {
   "cell_type": "code",
   "execution_count": 11,
   "metadata": {},
   "outputs": [
    {
     "name": "stderr",
     "output_type": "stream",
     "text": [
      "\n",
      "KeyboardInterrupt\n",
      "\n"
     ]
    }
   ],
   "source": [
    "def block_blob_sample():\n",
    "    from azure.storage.blob import BlobServiceClient\n",
    "    blob_service_client = BlobServiceClient.from_connection_string(CONNECTION_STRING)   \n",
    "    container_client = blob_service_client.get_container_client(\"testcollect\")\n",
    "    blob_client = container_client.get_blob_client(\"Azure-Billing-Data.parquet\")\n",
    "    with open(\"myfile.parquet\", \"wb\") as my_blob:\n",
    "        download_stream = blob_client.download_blob()\n",
    "        my_blob.write(download_stream.readall())\n",
    "\n",
    "\n",
    "block_blob_sample()"
   ]
  },
  {
   "cell_type": "code",
   "execution_count": 4,
   "metadata": {},
   "outputs": [
    {
     "name": "stdout",
     "output_type": "stream",
     "text": [
      "Rows:102 Cols:77\n"
     ]
    }
   ],
   "source": [
    "df = pd.read_csv('myfile.csv')\n",
    "df_len, df_width = df.shape\n",
    "print('Rows:' +str(df_len),'Cols:' + str(df_width))"
   ]
  },
  {
   "cell_type": "code",
   "execution_count": 11,
   "metadata": {},
   "outputs": [
    {
     "name": "stdout",
     "output_type": "stream",
     "text": [
      "Unnamed: 0 102\n",
      "id 102\n",
      "name 102\n",
      "type 1\n",
      "tags 5\n",
      "kind 1\n",
      "billing_account_id 1\n",
      "effective_price 4\n",
      "pricing_model 1\n",
      "billing_account_name 1\n",
      "billing_period_start_date 1\n",
      "billing_period_end_date 1\n",
      "billing_profile_id 1\n",
      "billing_profile_name 1\n",
      "subscription_guid 1\n",
      "subscription_name 1\n",
      "date 2\n",
      "product 13\n",
      "meter_id 21\n",
      "meter_name 17\n",
      "meter_region 3\n",
      "meter_category 6\n",
      "meter_sub_category 9\n",
      "service_family 5\n",
      "quantity 45\n",
      "unit_of_measure 7\n",
      "instance_name 21\n",
      "cost_in_usd 1\n",
      "unit_price 17\n",
      "billing_currency_code 1\n",
      "resource_location 3\n",
      "consumed_service 6\n",
      "service_info1 0\n",
      "service_info2 0\n",
      "additional_info 0\n",
      "invoice_section_id 1\n",
      "invoice_section_name 1\n",
      "cost_center 0\n",
      "resource_group 12\n",
      "reservation_id 0\n",
      "reservation_name 0\n",
      "product_order_id 1\n",
      "product_order_name 1\n",
      "is_azure_credit_eligible 1\n",
      "term 0\n",
      "publisher_name 1\n",
      "publisher_type 1\n",
      "charge_type 1\n",
      "frequency 0\n",
      "cost_in_billing_currency 9\n",
      "cost_in_pricing_currency 9\n",
      "exchange_rate 1\n",
      "exchange_rate_date 1\n",
      "invoice_id 0\n",
      "previous_invoice_id 0\n",
      "pricing_currency_code 1\n",
      "product_identifier 13\n",
      "resource_location_normalized 4\n",
      "service_period_start_date 1\n",
      "service_period_end_date 1\n",
      "customer_tenant_id 0\n",
      "customer_name 0\n",
      "partner_tenant_id 0\n",
      "partner_name 0\n",
      "reseller_mpn_id 0\n",
      "reseller_name 0\n",
      "publisher_id 0\n",
      "exchange_rate_pricing_to_billing 1\n",
      "payg_cost_in_billing_currency 57\n",
      "payg_cost_in_usd 57\n",
      "partner_earned_credit_rate 1\n",
      "partner_earned_credit_applied 0\n",
      "pay_g_price 18\n",
      "benefit_id 0\n",
      "benefit_name 0\n",
      "provider 0\n",
      "cost_allocation_rule_name 0\n"
     ]
    }
   ],
   "source": [
    "\n",
    "for column in df:\n",
    "    x = df\n",
    "    x = x[column].drop_duplicates().dropna()\n",
    "    print(column,x.shape[0])\n",
    "    "
   ]
  }
 ],
 "metadata": {
  "kernelspec": {
   "display_name": "Python 3.8.10 64-bit",
   "language": "python",
   "name": "python3"
  },
  "language_info": {
   "codemirror_mode": {
    "name": "ipython",
    "version": 3
   },
   "file_extension": ".py",
   "mimetype": "text/x-python",
   "name": "python",
   "nbconvert_exporter": "python",
   "pygments_lexer": "ipython3",
   "version": "3.8.10"
  },
  "orig_nbformat": 4,
  "vscode": {
   "interpreter": {
    "hash": "916dbcbb3f70747c44a77c7bcd40155683ae19c65e1c03b4aa3499c5328201f1"
   }
  }
 },
 "nbformat": 4,
 "nbformat_minor": 2
}
