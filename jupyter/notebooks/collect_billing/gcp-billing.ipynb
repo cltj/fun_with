{
 "cells": [
  {
   "cell_type": "markdown",
   "metadata": {},
   "source": [
    "# Testing out GCP billing export"
   ]
  },
  {
   "cell_type": "code",
   "execution_count": 1,
   "metadata": {},
   "outputs": [],
   "source": [
    "from google.cloud import bigquery\n",
    "import os\n",
    "import tqdm\n",
    "import numpy as np\n",
    "import pandas as pd\n",
    "import pandas_gbq\n",
    "from config import My_Config as cfg"
   ]
  },
  {
   "cell_type": "code",
   "execution_count": 2,
   "metadata": {},
   "outputs": [],
   "source": [
    "credential_path = cfg.gcp_credential_path()\n",
    "os.environ['GOOGLE_APPLICATION_CREDENTIALS'] = credential_path\n",
    "project_id='gcp-prices-358310'\n",
    "dataset_location='europe-west4'"
   ]
  },
  {
   "cell_type": "code",
   "execution_count": 3,
   "metadata": {},
   "outputs": [],
   "source": [
    "client = bigquery.Client(project=project_id, location=dataset_location)"
   ]
  },
  {
   "cell_type": "code",
   "execution_count": 4,
   "metadata": {},
   "outputs": [],
   "source": [
    "query = \"\"\"SELECT invoice.month as invoiceMonth,billing_account_id,sum(cost) as cost,service.id as serviceId,service.description as serviceDescription,sku.description as sku,resource.name as resourceName,project.id as projectId,project.name as projectName,TO_JSON_STRING(project.labels) as labelsid,currency,location.location as region,usage.unit as usageUnit,sum(usage.amount) as usageAmount,cost_type, cast(usage_start_time as date) as startdate,cast(usage_end_time as date) as enddate FROM {table} WHERE billing_account_id = {billing_account_id} AND invoice.month = '202208' AND cast(usage_start_time as date) >= date_add(CURRENT_DATE(),INTERVAL -30 DAY) AND usage.amount > 0 GROUP BY startdate, enddate, billing_account_id, cost_type, serviceId, region, usageUnit, projectName, projectId,currency, invoiceMonth, serviceDescription, sku, resourceName, labelsid\"\"\".format(table=cfg.gcp_gbq_table, billing_account_id=cfg.gcp_billing_account_id, )"
   ]
  },
  {
   "cell_type": "code",
   "execution_count": 5,
   "metadata": {},
   "outputs": [
    {
     "name": "stderr",
     "output_type": "stream",
     "text": [
      "Downloading: 100%|██████████| 109/109 [00:00<00:00, 372.77rows/s]\n"
     ]
    }
   ],
   "source": [
    "query = \"\"\"SELECT invoice.month as invoiceMonth,billing_account_id,sum(cost) as cost,service.id as serviceId,service.description as serviceDescription,sku.description as sku,project.id as projectId,project.name as projectName,TO_JSON_STRING(project.labels) as labelsid,currency,location.location as region, resource.name as resourceName, usage.unit as usageUnit,sum(usage.amount) as usageAmount,cost_type, cast(usage_start_time as date) as startdate,cast(usage_end_time as date) as enddate FROM `gcp-prices-358310.billing.gcp_billing_export_resource_v1_017DA2_854255_CCEB23` GROUP BY startdate, enddate, billing_account_id, cost_type, serviceId, region, resourceName, usageUnit, projectName, projectId,currency, invoiceMonth, serviceDescription, sku, labelsid\"\"\"\n",
    "data = pandas_gbq.read_gbq(query, project_id=project_id, dialect='standard')"
   ]
  },
  {
   "cell_type": "code",
   "execution_count": 6,
   "metadata": {},
   "outputs": [
    {
     "name": "stdout",
     "output_type": "stream",
     "text": [
      "(109, 17)\n",
      "Index(['invoiceMonth', 'billing_account_id', 'cost', 'serviceId',\n",
      "       'serviceDescription', 'sku', 'projectId', 'projectName', 'labelsid',\n",
      "       'currency', 'region', 'resourceName', 'usageUnit', 'usageAmount',\n",
      "       'cost_type', 'startdate', 'enddate'],\n",
      "      dtype='object')\n"
     ]
    }
   ],
   "source": [
    "df = pd.DataFrame(data)\n",
    "len_row, len_col = df.shape\n",
    "print(df.shape)\n",
    "print(df.columns)"
   ]
  },
  {
   "cell_type": "code",
   "execution_count": 7,
   "metadata": {},
   "outputs": [],
   "source": [
    "#Make a directory if it doesn't exist\n",
    "if not os.path.exists('gcp'):\n",
    "    os.makedirs('gcp')\n",
    "\n",
    "df.to_csv('gcp/GCP-Billing-Data-v1.csv', index=False)\n",
    "df.to_parquet('gcp/GCP-Billing-Data-v1.parquet', index=False)"
   ]
  },
  {
   "cell_type": "code",
   "execution_count": 8,
   "metadata": {},
   "outputs": [
    {
     "name": "stdout",
     "output_type": "stream",
     "text": [
      "    invoiceMonth    billing_account_id  cost       serviceId  \\\n",
      "0         202208  017DA2-854255-CCEB23   0.0  24E6-581D-38E5   \n",
      "1         202208  017DA2-854255-CCEB23   0.0  24E6-581D-38E5   \n",
      "2         202208  017DA2-854255-CCEB23   0.0  95FF-2EF5-5EA1   \n",
      "3         202209  017DA2-854255-CCEB23   0.0  5490-F7B7-8DF6   \n",
      "4         202208  017DA2-854255-CCEB23   0.0  5490-F7B7-8DF6   \n",
      "..           ...                   ...   ...             ...   \n",
      "104       202208  017DA2-854255-CCEB23   0.0  5490-F7B7-8DF6   \n",
      "105       202208  017DA2-854255-CCEB23   0.0  24E6-581D-38E5   \n",
      "106       202208  017DA2-854255-CCEB23   0.0  5490-F7B7-8DF6   \n",
      "107       202208  017DA2-854255-CCEB23   0.0  5490-F7B7-8DF6   \n",
      "108       202208  017DA2-854255-CCEB23   0.0  24E6-581D-38E5   \n",
      "\n",
      "    serviceDescription                                   sku  \\\n",
      "0             BigQuery               Analysis (europe-west4)   \n",
      "1             BigQuery         Active Storage (europe-west4)   \n",
      "2        Cloud Storage  Regional Standard Class B Operations   \n",
      "3        Cloud Logging                            Log Volume   \n",
      "4        Cloud Logging                            Log Volume   \n",
      "..                 ...                                   ...   \n",
      "104      Cloud Logging                            Log Volume   \n",
      "105           BigQuery         Active Storage (europe-west4)   \n",
      "106      Cloud Logging                            Log Volume   \n",
      "107      Cloud Logging                            Log Volume   \n",
      "108           BigQuery         Active Storage (europe-west4)   \n",
      "\n",
      "             projectId projectName labelsid currency        region  \\\n",
      "0    gcp-prices-358310  GCP-Prices       []      NOK  europe-west4   \n",
      "1    gcp-prices-358310  GCP-Prices       []      NOK  europe-west4   \n",
      "2    gcp-prices-358310  GCP-Prices       []      NOK  europe-west4   \n",
      "3    gcp-prices-358310  GCP-Prices       []      NOK            us   \n",
      "4    gcp-prices-358310  GCP-Prices       []      NOK            us   \n",
      "..                 ...         ...      ...      ...           ...   \n",
      "104  gcp-prices-358310  GCP-Prices       []      NOK            us   \n",
      "105  gcp-prices-358310  GCP-Prices       []      NOK  europe-west4   \n",
      "106  gcp-prices-358310  GCP-Prices       []      NOK            us   \n",
      "107  gcp-prices-358310  GCP-Prices       []      NOK            us   \n",
      "108  gcp-prices-358310  GCP-Prices       []      NOK  europe-west4   \n",
      "\n",
      "    resourceName     usageUnit  usageAmount cost_type   startdate     enddate  \n",
      "0           None         bytes   31457280.0   regular  2022-08-26  2022-08-26  \n",
      "1           None  byte-seconds  614465536.0   regular  2022-08-25  2022-08-26  \n",
      "2           None      requests          1.0   regular  2022-08-26  2022-08-26  \n",
      "3           None         bytes       1599.0   regular  2022-09-02  2022-09-03  \n",
      "4           None         bytes      97462.0   regular  2022-08-30  2022-08-30  \n",
      "..           ...           ...          ...       ...         ...         ...  \n",
      "104         None         bytes     542285.0   regular  2022-08-17  2022-08-17  \n",
      "105         None  byte-seconds   87031808.0   regular  2022-08-16  2022-08-17  \n",
      "106         None         bytes       1591.0   regular  2022-08-21  2022-08-22  \n",
      "107         None         bytes       1595.0   regular  2022-08-23  2022-08-24  \n",
      "108         None  byte-seconds  139460608.0   regular  2022-08-17  2022-08-18  \n",
      "\n",
      "[109 rows x 17 columns]\n"
     ]
    }
   ],
   "source": [
    "print(df)"
   ]
  }
 ],
 "metadata": {
  "kernelspec": {
   "display_name": "Python 3.8.10 64-bit",
   "language": "python",
   "name": "python3"
  },
  "language_info": {
   "codemirror_mode": {
    "name": "ipython",
    "version": 3
   },
   "file_extension": ".py",
   "mimetype": "text/x-python",
   "name": "python",
   "nbconvert_exporter": "python",
   "pygments_lexer": "ipython3",
   "version": "3.8.10"
  },
  "orig_nbformat": 4,
  "vscode": {
   "interpreter": {
    "hash": "916dbcbb3f70747c44a77c7bcd40155683ae19c65e1c03b4aa3499c5328201f1"
   }
  }
 },
 "nbformat": 4,
 "nbformat_minor": 2
}
