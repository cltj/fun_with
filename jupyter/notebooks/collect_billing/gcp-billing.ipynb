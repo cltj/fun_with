{
 "cells": [
  {
   "cell_type": "markdown",
   "metadata": {},
   "source": [
    "# Testing out GCP billing export"
   ]
  },
  {
   "cell_type": "code",
   "execution_count": 1,
   "metadata": {},
   "outputs": [],
   "source": [
    "from google.cloud import bigquery\n",
    "import os\n",
    "import tqdm\n",
    "import numpy as np\n",
    "import pandas as pd\n",
    "import pandas_gbq\n",
    "from config import My_Config as cfg"
   ]
  },
  {
   "cell_type": "code",
   "execution_count": 2,
   "metadata": {},
   "outputs": [],
   "source": [
    "credential_path = cfg.gcp_credential_path()\n",
    "os.environ['GOOGLE_APPLICATION_CREDENTIALS'] = credential_path\n",
    "project_id='gcp-prices-358310'\n",
    "dataset_location='europe-west4'"
   ]
  },
  {
   "cell_type": "code",
   "execution_count": 3,
   "metadata": {},
   "outputs": [],
   "source": [
    "client = bigquery.Client(project=project_id, location=dataset_location)"
   ]
  },
  {
   "cell_type": "code",
   "execution_count": 4,
   "metadata": {},
   "outputs": [],
   "source": [
    "query = \"\"\"SELECT invoice.month as invoiceMonth,billing_account_id,sum(cost) as cost,service.id as serviceId,service.description as serviceDescription,sku.description as sku,resource.name as resourceName,project.id as projectId,project.name as projectName,TO_JSON_STRING(project.labels) as labelsid,currency,location.location as region,usage.unit as usageUnit,sum(usage.amount) as usageAmount,cost_type, cast(usage_start_time as date) as startdate,cast(usage_end_time as date) as enddate FROM {table} WHERE billing_account_id = {billing_account_id} AND invoice.month = '202208' AND cast(usage_start_time as date) >= date_add(CURRENT_DATE(),INTERVAL -30 DAY) AND usage.amount > 0 GROUP BY startdate, enddate, billing_account_id, cost_type, serviceId, region, usageUnit, projectName, projectId,currency, invoiceMonth, serviceDescription, sku, resourceName, labelsid\"\"\".format(table=cfg.gcp_gbq_table, billing_account_id=cfg.gcp_billing_account_id, )"
   ]
  },
  {
   "cell_type": "code",
   "execution_count": 4,
   "metadata": {},
   "outputs": [
    {
     "name": "stderr",
     "output_type": "stream",
     "text": [
      "Downloading: 100%|██████████| 170/170 [00:00<00:00, 391.98rows/s]\n"
     ]
    }
   ],
   "source": [
    "query = \"\"\"SELECT invoice.month as invoiceMonth,billing_account_id,sum(cost) as cost,service.id as serviceId,service.description as serviceDescription,sku.description as sku,project.id as projectId,project.name as projectName,TO_JSON_STRING(project.labels) as labelsid,currency,location.location as region, resource.name as resourceName, usage.unit as usageUnit,sum(usage.amount) as usageAmount,cost_type, cast(usage_start_time as date) as startdate,cast(usage_end_time as date) as enddate FROM `gcp-prices-358310.billing.gcp_billing_export_resource_v1_017DA2_854255_CCEB23` GROUP BY startdate, enddate, billing_account_id, cost_type, serviceId, region, resourceName, usageUnit, projectName, projectId,currency, invoiceMonth, serviceDescription, sku, labelsid\"\"\"\n",
    "data = pandas_gbq.read_gbq(query, project_id=project_id, dialect='standard')"
   ]
  },
  {
   "cell_type": "code",
   "execution_count": 5,
   "metadata": {},
   "outputs": [
    {
     "name": "stdout",
     "output_type": "stream",
     "text": [
      "(170, 17)\n",
      "Index(['invoiceMonth', 'billing_account_id', 'cost', 'serviceId',\n",
      "       'serviceDescription', 'sku', 'projectId', 'projectName', 'labelsid',\n",
      "       'currency', 'region', 'resourceName', 'usageUnit', 'usageAmount',\n",
      "       'cost_type', 'startdate', 'enddate'],\n",
      "      dtype='object')\n"
     ]
    }
   ],
   "source": [
    "df = pd.DataFrame(data)\n",
    "len_row, len_col = df.shape\n",
    "print(df.shape)\n",
    "print(df.columns)"
   ]
  },
  {
   "cell_type": "code",
   "execution_count": 17,
   "metadata": {},
   "outputs": [],
   "source": [
    "#Make a directory if it doesn't exist\n",
    "if not os.path.exists('gcp'):\n",
    "    os.makedirs('gcp')\n",
    "\n",
    "df.to_csv('gcp/GCP-Billing-Data-v1.csv', index=False)\n",
    "df.to_parquet('gcp/GCP-Billing-Data-v1.parquet', index=False)"
   ]
  }
 ],
 "metadata": {
  "kernelspec": {
   "display_name": "Python 3.8.10 64-bit",
   "language": "python",
   "name": "python3"
  },
  "language_info": {
   "codemirror_mode": {
    "name": "ipython",
    "version": 3
   },
   "file_extension": ".py",
   "mimetype": "text/x-python",
   "name": "python",
   "nbconvert_exporter": "python",
   "pygments_lexer": "ipython3",
   "version": "3.8.10"
  },
  "orig_nbformat": 4,
  "vscode": {
   "interpreter": {
    "hash": "916dbcbb3f70747c44a77c7bcd40155683ae19c65e1c03b4aa3499c5328201f1"
   }
  }
 },
 "nbformat": 4,
 "nbformat_minor": 2
}
