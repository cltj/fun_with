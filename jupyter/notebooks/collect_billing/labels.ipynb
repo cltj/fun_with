{
 "cells": [
  {
   "cell_type": "code",
   "execution_count": 1,
   "metadata": {},
   "outputs": [],
   "source": [
    "import pandas as pd\n",
    "import json"
   ]
  },
  {
   "cell_type": "code",
   "execution_count": 2,
   "metadata": {},
   "outputs": [
    {
     "data": {
      "text/html": [
       "<div>\n",
       "<style scoped>\n",
       "    .dataframe tbody tr th:only-of-type {\n",
       "        vertical-align: middle;\n",
       "    }\n",
       "\n",
       "    .dataframe tbody tr th {\n",
       "        vertical-align: top;\n",
       "    }\n",
       "\n",
       "    .dataframe thead th {\n",
       "        text-align: right;\n",
       "    }\n",
       "</style>\n",
       "<table border=\"1\" class=\"dataframe\">\n",
       "  <thead>\n",
       "    <tr style=\"text-align: right;\">\n",
       "      <th></th>\n",
       "      <th>labelsid</th>\n",
       "    </tr>\n",
       "  </thead>\n",
       "  <tbody>\n",
       "    <tr>\n",
       "      <th>0</th>\n",
       "      <td>[{\"key\":\"Environment\",\"value\":\"Prod\"},{\"key\":\"...</td>\n",
       "    </tr>\n",
       "    <tr>\n",
       "      <th>1</th>\n",
       "      <td>[{\"key\":\"Environment\",\"value\":\"Dev\"},{\"key\":\"P...</td>\n",
       "    </tr>\n",
       "    <tr>\n",
       "      <th>2</th>\n",
       "      <td>[{\"key\":\"Environment\",\"value\":\"Prod\"},{\"key\":\"...</td>\n",
       "    </tr>\n",
       "    <tr>\n",
       "      <th>3</th>\n",
       "      <td>[{\"key\":\"Environment\",\"value\":\"Dev\"},{\"key\":\"P...</td>\n",
       "    </tr>\n",
       "    <tr>\n",
       "      <th>4</th>\n",
       "      <td>[{\"key\":\"Environment\",\"value\":\"Test\"},{\"key\":\"...</td>\n",
       "    </tr>\n",
       "    <tr>\n",
       "      <th>...</th>\n",
       "      <td>...</td>\n",
       "    </tr>\n",
       "    <tr>\n",
       "      <th>104</th>\n",
       "      <td>[]</td>\n",
       "    </tr>\n",
       "    <tr>\n",
       "      <th>105</th>\n",
       "      <td>[]</td>\n",
       "    </tr>\n",
       "    <tr>\n",
       "      <th>106</th>\n",
       "      <td>[]</td>\n",
       "    </tr>\n",
       "    <tr>\n",
       "      <th>107</th>\n",
       "      <td>[]</td>\n",
       "    </tr>\n",
       "    <tr>\n",
       "      <th>108</th>\n",
       "      <td>[]</td>\n",
       "    </tr>\n",
       "  </tbody>\n",
       "</table>\n",
       "<p>109 rows × 1 columns</p>\n",
       "</div>"
      ],
      "text/plain": [
       "                                              labelsid\n",
       "0    [{\"key\":\"Environment\",\"value\":\"Prod\"},{\"key\":\"...\n",
       "1    [{\"key\":\"Environment\",\"value\":\"Dev\"},{\"key\":\"P...\n",
       "2    [{\"key\":\"Environment\",\"value\":\"Prod\"},{\"key\":\"...\n",
       "3    [{\"key\":\"Environment\",\"value\":\"Dev\"},{\"key\":\"P...\n",
       "4    [{\"key\":\"Environment\",\"value\":\"Test\"},{\"key\":\"...\n",
       "..                                                 ...\n",
       "104                                                 []\n",
       "105                                                 []\n",
       "106                                                 []\n",
       "107                                                 []\n",
       "108                                                 []\n",
       "\n",
       "[109 rows x 1 columns]"
      ]
     },
     "execution_count": 2,
     "metadata": {},
     "output_type": "execute_result"
    }
   ],
   "source": [
    "# df = pd.read_csv('GCP/GCP-Billing-Data-v1.csv')\n",
    "df = pd.read_parquet('gcp/GCP-Billing-Data-v1.parquet')\n",
    "df = pd.DataFrame(df['labelsid'], columns=['labelsid'])\n",
    "df"
   ]
  },
  {
   "cell_type": "code",
   "execution_count": 3,
   "metadata": {},
   "outputs": [],
   "source": [
    "def expand_json_column(row: pd.Series) -> pd.Series:\n",
    "  for d in json.loads(row[\"labelsid\"]):\n",
    "    key = d[\"key\"]\n",
    "    value = d[\"value\"]\n",
    "    row[key] = value\n",
    "  return row"
   ]
  },
  {
   "cell_type": "code",
   "execution_count": 4,
   "metadata": {},
   "outputs": [],
   "source": [
    "df = df.apply(expand_json_column, axis=1)\n",
    "df = df.drop(\"labelsid\", axis=1)"
   ]
  },
  {
   "cell_type": "code",
   "execution_count": 5,
   "metadata": {},
   "outputs": [
    {
     "name": "stdout",
     "output_type": "stream",
     "text": [
      "Index(['Cost Center', 'Environment', 'Project'], dtype='object')\n",
      "(109, 3)\n",
      "        Cost Center Environment     Project\n",
      "0    IT development        Prod        maga\n",
      "1    IT development         Dev        maga\n",
      "2    IT development        Prod  roundhouse\n",
      "3    IT development         Dev  roundhouse\n",
      "4    IT development        Test      ranger\n",
      "..              ...         ...         ...\n",
      "104             NaN         NaN         NaN\n",
      "105             NaN         NaN         NaN\n",
      "106             NaN         NaN         NaN\n",
      "107             NaN         NaN         NaN\n",
      "108             NaN         NaN         NaN\n",
      "\n",
      "[109 rows x 3 columns]\n"
     ]
    }
   ],
   "source": [
    "print(df.columns)\n",
    "print(df.shape)\n",
    "print(df)"
   ]
  }
 ],
 "metadata": {
  "kernelspec": {
   "display_name": "Python 3.8.10 64-bit",
   "language": "python",
   "name": "python3"
  },
  "language_info": {
   "codemirror_mode": {
    "name": "ipython",
    "version": 3
   },
   "file_extension": ".py",
   "mimetype": "text/x-python",
   "name": "python",
   "nbconvert_exporter": "python",
   "pygments_lexer": "ipython3",
   "version": "3.8.10"
  },
  "orig_nbformat": 4,
  "vscode": {
   "interpreter": {
    "hash": "916dbcbb3f70747c44a77c7bcd40155683ae19c65e1c03b4aa3499c5328201f1"
   }
  }
 },
 "nbformat": 4,
 "nbformat_minor": 2
}
