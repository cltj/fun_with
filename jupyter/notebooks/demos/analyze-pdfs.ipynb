{
 "cells": [
  {
   "cell_type": "code",
   "execution_count": 1,
   "metadata": {},
   "outputs": [],
   "source": [
    "import os\n",
    "from PyPDF2 import PdfReader"
   ]
  },
  {
   "cell_type": "code",
   "execution_count": 4,
   "metadata": {},
   "outputs": [
    {
     "name": "stdout",
     "output_type": "stream",
     "text": [
      "/mnt/c/dev/cl/fun_with/jupyter/notebooks/demos/pdfs\n",
      "['/mnt/c/dev/cl/fun_with/jupyter/notebooks/demos/pdfs/ISO27001 and 27701 Certificate.pdf', '/mnt/c/dev/cl/fun_with/jupyter/notebooks/demos/pdfs/Microsoft Global Services Center ISO 27001 Assessment Report.pdf', '/mnt/c/dev/cl/fun_with/jupyter/notebooks/demos/pdfs/Microsoft Office 365 27701-2019.pdf']\n"
     ]
    }
   ],
   "source": [
    "reports_path = os.path.join(\"/mnt/c/dev/cl/fun_with/jupyter/notebooks/demos/\",'pdfs')\n",
    "print(reports_path)\n",
    "all_reports = []\n",
    "\n",
    "for filename in os.listdir(reports_path):\n",
    "    f = os.path.join(reports_path, filename)\n",
    "    if os.path.isfile(f):\n",
    "        all_reports.append(f)\n",
    "print(all_reports)"
   ]
  },
  {
   "cell_type": "code",
   "execution_count": 10,
   "metadata": {},
   "outputs": [],
   "source": [
    "for report in all_reports:\n",
    "    report = all_reports.pop()\n",
    "\n",
    "    reader = PdfReader(report)\n",
    "    number_of_pages = len(reader.pages)\n",
    "    page = reader.pages[0]\n",
    "    text = page.extract_text()\n",
    "    print(number_of_pages)"
   ]
  }
 ],
 "metadata": {
  "kernelspec": {
   "display_name": "Python 3.8.10 64-bit",
   "language": "python",
   "name": "python3"
  },
  "language_info": {
   "codemirror_mode": {
    "name": "ipython",
    "version": 3
   },
   "file_extension": ".py",
   "mimetype": "text/x-python",
   "name": "python",
   "nbconvert_exporter": "python",
   "pygments_lexer": "ipython3",
   "version": "3.8.10"
  },
  "orig_nbformat": 4,
  "vscode": {
   "interpreter": {
    "hash": "916dbcbb3f70747c44a77c7bcd40155683ae19c65e1c03b4aa3499c5328201f1"
   }
  }
 },
 "nbformat": 4,
 "nbformat_minor": 2
}
