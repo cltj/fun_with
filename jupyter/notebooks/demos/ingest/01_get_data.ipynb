{
 "cells": [
  {
   "cell_type": "markdown",
   "metadata": {},
   "source": [
    "# Get the data\n",
    "Get data from a API or a site using requests and bs4"
   ]
  },
  {
   "cell_type": "code",
   "execution_count": 9,
   "metadata": {},
   "outputs": [],
   "source": [
    "import requests\n",
    "from bs4 import BeautifulSoup\n",
    "from pydantic import BaseModel\n",
    "import pandas as pd\n",
    "import os\n",
    "import openpyxl\n",
    "import numpy as np\n"
   ]
  },
  {
   "cell_type": "code",
   "execution_count": 10,
   "metadata": {},
   "outputs": [
    {
     "name": "stdout",
     "output_type": "stream",
     "text": [
      "\"Jakob Ingebrigtsen\"\n"
     ]
    }
   ],
   "source": [
    "# Test soup\n",
    "\"\"\"\n",
    "find 1500 meters winner for men in olympic games 2021\n",
    "\"\"\"\n",
    "url = f\"https://en.wikipedia.org/wiki/Athletics_at_the_2020_Summer_Olympics_%E2%80%93_Men%27s_1500_metres\"\n",
    "r = requests.get(url)\n",
    "soup = BeautifulSoup(r.content, 'html.parser')\n",
    "text = str(soup.find(\"td\", {\"class\": \"infobox-data infobox-data-b\"}))\n",
    "res = text.split(\"title=\", 1)[1].split(\"<\", 1)[0].split(\">\", 1)[0]\n",
    "print(res)"
   ]
  },
  {
   "cell_type": "code",
   "execution_count": 11,
   "metadata": {},
   "outputs": [
    {
     "name": "stdout",
     "output_type": "stream",
     "text": [
      "401\n",
      "application/json; charset=utf-8\n",
      "utf-8\n",
      "{\"message\":\"Requires authentication\",\"documentation_url\":\"https://docs.github.com/rest/reference/users#get-the-authenticated-user\"}\n",
      "{'message': 'Requires authentication', 'documentation_url': 'https://docs.github.com/rest/reference/users#get-the-authenticated-user'}\n"
     ]
    }
   ],
   "source": [
    "# Test requests\n",
    "r = requests.get('https://api.github.com/user', auth=('user', 'pass'))\n",
    "print(r.status_code)\n",
    "print(r.headers['content-type'])\n",
    "print(r.encoding)\n",
    "print(r.text)\n",
    "print(r.json())"
   ]
  },
  {
   "cell_type": "code",
   "execution_count": 12,
   "metadata": {},
   "outputs": [],
   "source": [
    "# Pydantic\n",
    "class User(BaseModel):\n",
    "    firstName: str\n",
    "    lastName: str\n",
    "    age: int\n",
    "    sex: str\n",
    "    mail: str\n",
    "    phone: int"
   ]
  },
  {
   "cell_type": "code",
   "execution_count": 13,
   "metadata": {},
   "outputs": [
    {
     "name": "stdout",
     "output_type": "stream",
     "text": [
      "firstName='mari' lastName='olsen' age=19 sex='kvinne' mail='mario@gmail.com' phone=40506070\n",
      "mari\n"
     ]
    }
   ],
   "source": [
    "# Test pandas\n",
    "\n",
    "def get_raw_data():\n",
    "    # Get the list of all files and directories\n",
    "    path = \"input_files\"\n",
    "    df = pd.DataFrame()\n",
    "    for x in os.listdir(path):\n",
    "        if x.endswith(\".xlsx\"):\n",
    "            excel_data_fragment = pd.read_excel(path+\"//\"+x, sheet_name=0)\n",
    "            df = pd.concat([df,excel_data_fragment],ignore_index=True)\n",
    "        # You can add more file extentions\n",
    "        # example:\n",
    "        if x.endswith(\".csv\"):\n",
    "            csv_data_fragment = pd.read_csv(path+\"//\"+x, delimiter= \";\") #.head(5)\n",
    "            df = pd.concat([df,csv_data_fragment],ignore_index=True)\n",
    "    records = df.to_dict('records')\n",
    "    return records\n",
    "\n",
    "raw_data = get_raw_data()\n",
    "data = raw_data[2]\n",
    "data['PartitionKey'] = \"ThisIsATest\"\n",
    "data['RowKey'] = \"4\"\n",
    "\n",
    "user = User(**data)\n",
    "print(user)\n",
    "print(user.firstName)"
   ]
  },
  {
   "cell_type": "code",
   "execution_count": 14,
   "metadata": {},
   "outputs": [
    {
     "ename": "SyntaxError",
     "evalue": "invalid syntax (3510990165.py, line 5)",
     "output_type": "error",
     "traceback": [
      "\u001b[0;36m  Input \u001b[0;32mIn [14]\u001b[0;36m\u001b[0m\n\u001b[0;31m    CONNECTION_STRING = # INSERT YOUR CONNECTION STRING HERE\u001b[0m\n\u001b[0m                        ^\u001b[0m\n\u001b[0;31mSyntaxError\u001b[0m\u001b[0;31m:\u001b[0m invalid syntax\n"
     ]
    }
   ],
   "source": [
    "def get_database(name):\n",
    "    from pymongo import MongoClient\n",
    "\n",
    "    # Provide the mongodb atlas url to connect python to mongodb using pymongo\n",
    "    CONNECTION_STRING = # INSERT YOUR CONNECTION STRING HERE\n",
    "\n",
    "    # Create a connection using MongoClient.\n",
    "    client = MongoClient(CONNECTION_STRING)\n",
    "\n",
    "    # Create the database\n",
    "    return client[name]\n",
    "\n",
    "\n",
    "def create_collection(db, name, data):\n",
    "    # Create collection name\n",
    "    collection_name = db[name]\n",
    "\n",
    "    # Insert into database collection\n",
    "    collection_name.insert_many(data)\n",
    "    print(\"Data inserted...\")\n",
    "\n",
    "\n",
    "def create_raw_db():\n",
    "    # Create the database\n",
    "    db = get_database(name=\"test_db\")\n",
    "    # Get data from excel\n",
    "    excel_data = get_raw_data()\n",
    "    # Insert into DB\n",
    "    create_collection(database=db,col_name=\"raw_data\",data=excel_data)\n",
    "    print(\"---------------------------------\")\n",
    "    return True"
   ]
  },
  {
   "cell_type": "code",
   "execution_count": 16,
   "metadata": {},
   "outputs": [
    {
     "name": "stdout",
     "output_type": "stream",
     "text": [
      "(1224, 76)\n"
     ]
    }
   ],
   "source": [
    "# Test parquet\n",
    "\n",
    "def get_raw_data():\n",
    "    # Get the list of all files and directories\n",
    "    path = \"input_files\"\n",
    "    df = pd.DataFrame()\n",
    "    for x in os.listdir(path):\n",
    "        if x.endswith(\".parquet\"):\n",
    "            parquet_data = pd.read_parquet(path+\"//\"+x)\n",
    "            df = pd.concat([df,parquet_data],ignore_index=True)\n",
    "            return df\n",
    "\n",
    "df = get_raw_data()\n",
    "print(df.shape)"
   ]
  }
 ],
 "metadata": {
  "interpreter": {
   "hash": "916dbcbb3f70747c44a77c7bcd40155683ae19c65e1c03b4aa3499c5328201f1"
  },
  "kernelspec": {
   "display_name": "Python 3.8.10 64-bit",
   "language": "python",
   "name": "python3"
  },
  "language_info": {
   "codemirror_mode": {
    "name": "ipython",
    "version": 3
   },
   "file_extension": ".py",
   "mimetype": "text/x-python",
   "name": "python",
   "nbconvert_exporter": "python",
   "pygments_lexer": "ipython3",
   "version": "3.8.10"
  },
  "orig_nbformat": 4
 },
 "nbformat": 4,
 "nbformat_minor": 2
}
