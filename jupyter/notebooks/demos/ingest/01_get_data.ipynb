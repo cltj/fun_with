{
 "cells": [
  {
   "cell_type": "markdown",
   "metadata": {},
   "source": [
    "# Get the data\n",
    "Get data from a API or a site using requests and bs4"
   ]
  },
  {
   "cell_type": "code",
   "execution_count": 6,
   "metadata": {},
   "outputs": [],
   "source": [
    "import requests\n",
    "from bs4 import BeautifulSoup\n",
    "from pydantic import BaseModel\n",
    "import pandas as pd\n",
    "import os\n",
    "import openpyxl\n",
    "import numpy as np"
   ]
  },
  {
   "cell_type": "code",
   "execution_count": 29,
   "metadata": {},
   "outputs": [
    {
     "name": "stdout",
     "output_type": "stream",
     "text": [
      "\"Jakob Ingebrigtsen\"\n"
     ]
    }
   ],
   "source": [
    "# Test soup\n",
    "\"\"\"\n",
    "find 1500 meters winner for men in olympic games 2021\n",
    "\"\"\"\n",
    "url = f\"https://en.wikipedia.org/wiki/Athletics_at_the_2020_Summer_Olympics_%E2%80%93_Men%27s_1500_metres\"\n",
    "r = requests.get(url)\n",
    "soup = BeautifulSoup(r.content, 'html.parser')\n",
    "text = str(soup.find(\"td\", {\"class\": \"infobox-data infobox-data-b\"}))\n",
    "res = text.split(\"title=\", 1)[1].split(\"<\", 1)[0].split(\">\", 1)[0]\n",
    "print(res)"
   ]
  },
  {
   "cell_type": "code",
   "execution_count": 4,
   "metadata": {},
   "outputs": [
    {
     "name": "stdout",
     "output_type": "stream",
     "text": [
      "401\n",
      "application/json; charset=utf-8\n",
      "utf-8\n",
      "{\"message\":\"Requires authentication\",\"documentation_url\":\"https://docs.github.com/rest/reference/users#get-the-authenticated-user\"}\n",
      "{'message': 'Requires authentication', 'documentation_url': 'https://docs.github.com/rest/reference/users#get-the-authenticated-user'}\n"
     ]
    }
   ],
   "source": [
    "# Test requests\n",
    "r = requests.get('https://api.github.com/user', auth=('user', 'pass'))\n",
    "print(r.status_code)\n",
    "print(r.headers['content-type'])\n",
    "print(r.encoding)\n",
    "print(r.text)\n",
    "print(r.json())"
   ]
  },
  {
   "cell_type": "code",
   "execution_count": 7,
   "metadata": {},
   "outputs": [],
   "source": [
    "# Pydantic\n",
    "class User(BaseModel):\n",
    "    id: int\n",
    "    firstName: str\n",
    "    lastName: str\n",
    "    age: int\n",
    "    sex: str\n",
    "    mail: str\n",
    "    phone: int"
   ]
  },
  {
   "cell_type": "code",
   "execution_count": 8,
   "metadata": {},
   "outputs": [
    {
     "ename": "ValidationError",
     "evalue": "1 validation error for User\nemail\n  field required (type=value_error.missing)",
     "output_type": "error",
     "traceback": [
      "\u001b[0;31m---------------------------------------------------------------------------\u001b[0m",
      "\u001b[0;31mValidationError\u001b[0m                           Traceback (most recent call last)",
      "\u001b[1;32m/mnt/c/dev/cl/fun_with/jupyter/notebooks/demos/ingest/01_get_data.ipynb Cell 6'\u001b[0m in \u001b[0;36m<module>\u001b[0;34m\u001b[0m\n\u001b[1;32m     <a href='vscode-notebook-cell://wsl%2Bubuntu-20.04/mnt/c/dev/cl/fun_with/jupyter/notebooks/demos/ingest/01_get_data.ipynb#ch0000004vscode-remote?line=18'>19</a>\u001b[0m raw_data \u001b[39m=\u001b[39m get_raw_data()\n\u001b[1;32m     <a href='vscode-notebook-cell://wsl%2Bubuntu-20.04/mnt/c/dev/cl/fun_with/jupyter/notebooks/demos/ingest/01_get_data.ipynb#ch0000004vscode-remote?line=19'>20</a>\u001b[0m data \u001b[39m=\u001b[39m raw_data[\u001b[39m2\u001b[39m]\n\u001b[0;32m---> <a href='vscode-notebook-cell://wsl%2Bubuntu-20.04/mnt/c/dev/cl/fun_with/jupyter/notebooks/demos/ingest/01_get_data.ipynb#ch0000004vscode-remote?line=21'>22</a>\u001b[0m user \u001b[39m=\u001b[39m User(\u001b[39m*\u001b[39;49m\u001b[39m*\u001b[39;49mdata)\n\u001b[1;32m     <a href='vscode-notebook-cell://wsl%2Bubuntu-20.04/mnt/c/dev/cl/fun_with/jupyter/notebooks/demos/ingest/01_get_data.ipynb#ch0000004vscode-remote?line=22'>23</a>\u001b[0m \u001b[39mprint\u001b[39m(user)\n",
      "File \u001b[0;32m~/.local/lib/python3.8/site-packages/pydantic/main.py:331\u001b[0m, in \u001b[0;36mpydantic.main.BaseModel.__init__\u001b[0;34m()\u001b[0m\n",
      "\u001b[0;31mValidationError\u001b[0m: 1 validation error for User\nemail\n  field required (type=value_error.missing)"
     ]
    }
   ],
   "source": [
    "# Test pandas\n",
    "\n",
    "def get_raw_data():\n",
    "    # Get the list of all files and directories\n",
    "    path = \"input_files\"\n",
    "    df = pd.DataFrame()\n",
    "    for x in os.listdir(path):\n",
    "        if x.endswith(\".xlsx\"):\n",
    "            excel_data_fragment = pd.read_excel(path+\"//\"+x, sheet_name=0)\n",
    "            df = pd.concat([df,excel_data_fragment],ignore_index=True)\n",
    "        # You can add more file extentions\n",
    "        # example:\n",
    "        if x.endswith(\".csv\"):\n",
    "            csv_data_fragment = pd.read_csv(path+\"//\"+x, delimiter= \";\") #.head(5)\n",
    "            df = pd.concat([df,csv_data_fragment],ignore_index=True)\n",
    "    records = df.to_dict('records')\n",
    "    return records\n",
    "\n",
    "raw_data = get_raw_data()\n",
    "data = raw_data[2]\n",
    "\n",
    "user = User(**data)\n",
    "print(user)"
   ]
  }
 ],
 "metadata": {
  "interpreter": {
   "hash": "916dbcbb3f70747c44a77c7bcd40155683ae19c65e1c03b4aa3499c5328201f1"
  },
  "kernelspec": {
   "display_name": "Python 3.8.10 64-bit",
   "language": "python",
   "name": "python3"
  },
  "language_info": {
   "codemirror_mode": {
    "name": "ipython",
    "version": 3
   },
   "file_extension": ".py",
   "mimetype": "text/x-python",
   "name": "python",
   "nbconvert_exporter": "python",
   "pygments_lexer": "ipython3",
   "version": "3.8.10"
  },
  "orig_nbformat": 4
 },
 "nbformat": 4,
 "nbformat_minor": 2
}
