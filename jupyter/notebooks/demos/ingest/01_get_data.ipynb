{
 "cells": [
  {
   "cell_type": "markdown",
   "metadata": {},
   "source": [
    "# Get the data\n",
    "Get data from a API or a site using requests and bs4"
   ]
  },
  {
   "cell_type": "code",
   "execution_count": 6,
   "metadata": {},
   "outputs": [],
   "source": [
    "import requests\n",
    "from bs4 import BeautifulSoup\n",
    "from pydantic import BaseModel\n",
    "import pandas as pd\n",
    "import os\n",
    "import openpyxl\n",
    "import numpy as np"
   ]
  },
  {
   "cell_type": "code",
   "execution_count": 29,
   "metadata": {},
   "outputs": [
    {
     "name": "stdout",
     "output_type": "stream",
     "text": [
      "\"Jakob Ingebrigtsen\"\n"
     ]
    }
   ],
   "source": [
    "# Test soup\n",
    "\"\"\"\n",
    "find 1500 meters winner for men in olympic games 2021\n",
    "\"\"\"\n",
    "url = f\"https://en.wikipedia.org/wiki/Athletics_at_the_2020_Summer_Olympics_%E2%80%93_Men%27s_1500_metres\"\n",
    "r = requests.get(url)\n",
    "soup = BeautifulSoup(r.content, 'html.parser')\n",
    "text = str(soup.find(\"td\", {\"class\": \"infobox-data infobox-data-b\"}))\n",
    "res = text.split(\"title=\", 1)[1].split(\"<\", 1)[0].split(\">\", 1)[0]\n",
    "print(res)"
   ]
  },
  {
   "cell_type": "code",
   "execution_count": 4,
   "metadata": {},
   "outputs": [
    {
     "name": "stdout",
     "output_type": "stream",
     "text": [
      "401\n",
      "application/json; charset=utf-8\n",
      "utf-8\n",
      "{\"message\":\"Requires authentication\",\"documentation_url\":\"https://docs.github.com/rest/reference/users#get-the-authenticated-user\"}\n",
      "{'message': 'Requires authentication', 'documentation_url': 'https://docs.github.com/rest/reference/users#get-the-authenticated-user'}\n"
     ]
    }
   ],
   "source": [
    "# Test requests\n",
    "r = requests.get('https://api.github.com/user', auth=('user', 'pass'))\n",
    "print(r.status_code)\n",
    "print(r.headers['content-type'])\n",
    "print(r.encoding)\n",
    "print(r.text)\n",
    "print(r.json())"
   ]
  },
  {
   "cell_type": "code",
   "execution_count": 9,
   "metadata": {},
   "outputs": [],
   "source": [
    "# Pydantic\n",
    "class User(BaseModel):\n",
    "    id: int\n",
    "    firstName: str\n",
    "    lastName: str\n",
    "    age: int\n",
    "    sex: str\n",
    "    mail: str\n",
    "    phone: int"
   ]
  },
  {
   "cell_type": "code",
   "execution_count": 11,
   "metadata": {},
   "outputs": [
    {
     "name": "stdout",
     "output_type": "stream",
     "text": [
      "id=3 firstName='mari' lastName='olsen' age=19 sex='kvinne' mail='mario@gmail.com' phone=40506070\n",
      "mari\n"
     ]
    }
   ],
   "source": [
    "# Test pandas\n",
    "\n",
    "def get_raw_data():\n",
    "    # Get the list of all files and directories\n",
    "    path = \"input_files\"\n",
    "    df = pd.DataFrame()\n",
    "    for x in os.listdir(path):\n",
    "        if x.endswith(\".xlsx\"):\n",
    "            excel_data_fragment = pd.read_excel(path+\"//\"+x, sheet_name=0)\n",
    "            df = pd.concat([df,excel_data_fragment],ignore_index=True)\n",
    "        # You can add more file extentions\n",
    "        # example:\n",
    "        if x.endswith(\".csv\"):\n",
    "            csv_data_fragment = pd.read_csv(path+\"//\"+x, delimiter= \";\") #.head(5)\n",
    "            df = pd.concat([df,csv_data_fragment],ignore_index=True)\n",
    "    records = df.to_dict('records')\n",
    "    return records\n",
    "\n",
    "raw_data = get_raw_data()\n",
    "data = raw_data[2]\n",
    "\n",
    "user = User(**data)\n",
    "print(user)\n",
    "print(user.firstName)"
   ]
  },
  {
   "cell_type": "code",
   "execution_count": 13,
   "metadata": {},
   "outputs": [
    {
     "name": "stdout",
     "output_type": "stream",
     "text": [
      "19\n"
     ]
    },
    {
     "ename": "NotImplementedError",
     "evalue": "'obj' should be a Series or a DataFrame",
     "output_type": "error",
     "traceback": [
      "\u001b[0;31m---------------------------------------------------------------------------\u001b[0m",
      "\u001b[0;31mNotImplementedError\u001b[0m                       Traceback (most recent call last)",
      "\u001b[1;32m/mnt/c/dev/cl/fun_with/jupyter/notebooks/demos/ingest/01_get_data.ipynb Cell 7'\u001b[0m in \u001b[0;36m<module>\u001b[0;34m\u001b[0m\n\u001b[1;32m      <a href='vscode-notebook-cell://wsl%2Bubuntu-20.04/mnt/c/dev/cl/fun_with/jupyter/notebooks/demos/ingest/01_get_data.ipynb#ch0000008vscode-remote?line=0'>1</a>\u001b[0m \u001b[39mprint\u001b[39m(user\u001b[39m.\u001b[39mage)\n\u001b[0;32m----> <a href='vscode-notebook-cell://wsl%2Bubuntu-20.04/mnt/c/dev/cl/fun_with/jupyter/notebooks/demos/ingest/01_get_data.ipynb#ch0000008vscode-remote?line=1'>2</a>\u001b[0m df \u001b[39m=\u001b[39m pd\u001b[39m.\u001b[39;49mDataFrame\u001b[39m.\u001b[39;49mto_json(user)\n\u001b[1;32m      <a href='vscode-notebook-cell://wsl%2Bubuntu-20.04/mnt/c/dev/cl/fun_with/jupyter/notebooks/demos/ingest/01_get_data.ipynb#ch0000008vscode-remote?line=2'>3</a>\u001b[0m \u001b[39mprint\u001b[39m(df)\n",
      "File \u001b[0;32m~/.local/lib/python3.8/site-packages/pandas/core/generic.py:2633\u001b[0m, in \u001b[0;36mNDFrame.to_json\u001b[0;34m(self, path_or_buf, orient, date_format, double_precision, force_ascii, date_unit, default_handler, lines, compression, index, indent, storage_options)\u001b[0m\n\u001b[1;32m   <a href='file:///home/tj/.local/lib/python3.8/site-packages/pandas/core/generic.py?line=2629'>2630</a>\u001b[0m config\u001b[39m.\u001b[39mis_nonnegative_int(indent)\n\u001b[1;32m   <a href='file:///home/tj/.local/lib/python3.8/site-packages/pandas/core/generic.py?line=2630'>2631</a>\u001b[0m indent \u001b[39m=\u001b[39m indent \u001b[39mor\u001b[39;00m \u001b[39m0\u001b[39m\n\u001b[0;32m-> <a href='file:///home/tj/.local/lib/python3.8/site-packages/pandas/core/generic.py?line=2632'>2633</a>\u001b[0m \u001b[39mreturn\u001b[39;00m json\u001b[39m.\u001b[39;49mto_json(\n\u001b[1;32m   <a href='file:///home/tj/.local/lib/python3.8/site-packages/pandas/core/generic.py?line=2633'>2634</a>\u001b[0m     path_or_buf\u001b[39m=\u001b[39;49mpath_or_buf,\n\u001b[1;32m   <a href='file:///home/tj/.local/lib/python3.8/site-packages/pandas/core/generic.py?line=2634'>2635</a>\u001b[0m     obj\u001b[39m=\u001b[39;49m\u001b[39mself\u001b[39;49m,\n\u001b[1;32m   <a href='file:///home/tj/.local/lib/python3.8/site-packages/pandas/core/generic.py?line=2635'>2636</a>\u001b[0m     orient\u001b[39m=\u001b[39;49morient,\n\u001b[1;32m   <a href='file:///home/tj/.local/lib/python3.8/site-packages/pandas/core/generic.py?line=2636'>2637</a>\u001b[0m     date_format\u001b[39m=\u001b[39;49mdate_format,\n\u001b[1;32m   <a href='file:///home/tj/.local/lib/python3.8/site-packages/pandas/core/generic.py?line=2637'>2638</a>\u001b[0m     double_precision\u001b[39m=\u001b[39;49mdouble_precision,\n\u001b[1;32m   <a href='file:///home/tj/.local/lib/python3.8/site-packages/pandas/core/generic.py?line=2638'>2639</a>\u001b[0m     force_ascii\u001b[39m=\u001b[39;49mforce_ascii,\n\u001b[1;32m   <a href='file:///home/tj/.local/lib/python3.8/site-packages/pandas/core/generic.py?line=2639'>2640</a>\u001b[0m     date_unit\u001b[39m=\u001b[39;49mdate_unit,\n\u001b[1;32m   <a href='file:///home/tj/.local/lib/python3.8/site-packages/pandas/core/generic.py?line=2640'>2641</a>\u001b[0m     default_handler\u001b[39m=\u001b[39;49mdefault_handler,\n\u001b[1;32m   <a href='file:///home/tj/.local/lib/python3.8/site-packages/pandas/core/generic.py?line=2641'>2642</a>\u001b[0m     lines\u001b[39m=\u001b[39;49mlines,\n\u001b[1;32m   <a href='file:///home/tj/.local/lib/python3.8/site-packages/pandas/core/generic.py?line=2642'>2643</a>\u001b[0m     compression\u001b[39m=\u001b[39;49mcompression,\n\u001b[1;32m   <a href='file:///home/tj/.local/lib/python3.8/site-packages/pandas/core/generic.py?line=2643'>2644</a>\u001b[0m     index\u001b[39m=\u001b[39;49mindex,\n\u001b[1;32m   <a href='file:///home/tj/.local/lib/python3.8/site-packages/pandas/core/generic.py?line=2644'>2645</a>\u001b[0m     indent\u001b[39m=\u001b[39;49mindent,\n\u001b[1;32m   <a href='file:///home/tj/.local/lib/python3.8/site-packages/pandas/core/generic.py?line=2645'>2646</a>\u001b[0m     storage_options\u001b[39m=\u001b[39;49mstorage_options,\n\u001b[1;32m   <a href='file:///home/tj/.local/lib/python3.8/site-packages/pandas/core/generic.py?line=2646'>2647</a>\u001b[0m )\n",
      "File \u001b[0;32m~/.local/lib/python3.8/site-packages/pandas/io/json/_json.py:108\u001b[0m, in \u001b[0;36mto_json\u001b[0;34m(path_or_buf, obj, orient, date_format, double_precision, force_ascii, date_unit, default_handler, lines, compression, index, indent, storage_options)\u001b[0m\n\u001b[1;32m    <a href='file:///home/tj/.local/lib/python3.8/site-packages/pandas/io/json/_json.py?line=105'>106</a>\u001b[0m     writer \u001b[39m=\u001b[39m FrameWriter\n\u001b[1;32m    <a href='file:///home/tj/.local/lib/python3.8/site-packages/pandas/io/json/_json.py?line=106'>107</a>\u001b[0m \u001b[39melse\u001b[39;00m:\n\u001b[0;32m--> <a href='file:///home/tj/.local/lib/python3.8/site-packages/pandas/io/json/_json.py?line=107'>108</a>\u001b[0m     \u001b[39mraise\u001b[39;00m \u001b[39mNotImplementedError\u001b[39;00m(\u001b[39m\"\u001b[39m\u001b[39m'\u001b[39m\u001b[39mobj\u001b[39m\u001b[39m'\u001b[39m\u001b[39m should be a Series or a DataFrame\u001b[39m\u001b[39m\"\u001b[39m)\n\u001b[1;32m    <a href='file:///home/tj/.local/lib/python3.8/site-packages/pandas/io/json/_json.py?line=109'>110</a>\u001b[0m s \u001b[39m=\u001b[39m writer(\n\u001b[1;32m    <a href='file:///home/tj/.local/lib/python3.8/site-packages/pandas/io/json/_json.py?line=110'>111</a>\u001b[0m     obj,\n\u001b[1;32m    <a href='file:///home/tj/.local/lib/python3.8/site-packages/pandas/io/json/_json.py?line=111'>112</a>\u001b[0m     orient\u001b[39m=\u001b[39morient,\n\u001b[0;32m   (...)\u001b[0m\n\u001b[1;32m    <a href='file:///home/tj/.local/lib/python3.8/site-packages/pandas/io/json/_json.py?line=118'>119</a>\u001b[0m     indent\u001b[39m=\u001b[39mindent,\n\u001b[1;32m    <a href='file:///home/tj/.local/lib/python3.8/site-packages/pandas/io/json/_json.py?line=119'>120</a>\u001b[0m )\u001b[39m.\u001b[39mwrite()\n\u001b[1;32m    <a href='file:///home/tj/.local/lib/python3.8/site-packages/pandas/io/json/_json.py?line=121'>122</a>\u001b[0m \u001b[39mif\u001b[39;00m lines:\n",
      "\u001b[0;31mNotImplementedError\u001b[0m: 'obj' should be a Series or a DataFrame"
     ]
    }
   ],
   "source": [
    "print(user.age)\n",
    "\n"
   ]
  }
 ],
 "metadata": {
  "interpreter": {
   "hash": "916dbcbb3f70747c44a77c7bcd40155683ae19c65e1c03b4aa3499c5328201f1"
  },
  "kernelspec": {
   "display_name": "Python 3.8.10 64-bit",
   "language": "python",
   "name": "python3"
  },
  "language_info": {
   "codemirror_mode": {
    "name": "ipython",
    "version": 3
   },
   "file_extension": ".py",
   "mimetype": "text/x-python",
   "name": "python",
   "nbconvert_exporter": "python",
   "pygments_lexer": "ipython3",
   "version": "3.8.10"
  },
  "orig_nbformat": 4
 },
 "nbformat": 4,
 "nbformat_minor": 2
}
