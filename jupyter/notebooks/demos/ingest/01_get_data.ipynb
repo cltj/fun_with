{
 "cells": [
  {
   "cell_type": "markdown",
   "metadata": {},
   "source": [
    "# Get the data\n",
    "Get data from a API or a site using requests and bs4"
   ]
  },
  {
   "cell_type": "code",
   "execution_count": 5,
   "metadata": {},
   "outputs": [],
   "source": [
    "import requests\n",
    "from bs4 import BeautifulSoup\n",
    "import pandas as pd\n",
    "import os\n",
    "import openpyxl\n",
    "import numpy as np"
   ]
  },
  {
   "cell_type": "code",
   "execution_count": 29,
   "metadata": {},
   "outputs": [
    {
     "name": "stdout",
     "output_type": "stream",
     "text": [
      "\"Jakob Ingebrigtsen\"\n"
     ]
    }
   ],
   "source": [
    "# Test soup\n",
    "\"\"\"\n",
    "find 1500 meters winner for men in olympic games 2021\n",
    "\"\"\"\n",
    "url = f\"https://en.wikipedia.org/wiki/Athletics_at_the_2020_Summer_Olympics_%E2%80%93_Men%27s_1500_metres\"\n",
    "r = requests.get(url)\n",
    "soup = BeautifulSoup(r.content, 'html.parser')\n",
    "text = str(soup.find(\"td\", {\"class\": \"infobox-data infobox-data-b\"}))\n",
    "res = text.split(\"title=\", 1)[1].split(\"<\", 1)[0].split(\">\", 1)[0]\n",
    "print(res)\n",
    "\n",
    "\n",
    "\n",
    "\n",
    "\n"
   ]
  },
  {
   "cell_type": "code",
   "execution_count": 3,
   "metadata": {},
   "outputs": [
    {
     "name": "stdout",
     "output_type": "stream",
     "text": [
      "401\n",
      "application/json; charset=utf-8\n",
      "utf-8\n",
      "{\"message\":\"Requires authentication\",\"documentation_url\":\"https://docs.github.com/rest/reference/users#get-the-authenticated-user\"}\n",
      "{'message': 'Requires authentication', 'documentation_url': 'https://docs.github.com/rest/reference/users#get-the-authenticated-user'}\n"
     ]
    }
   ],
   "source": [
    "# Test requests\n",
    "r = requests.get('https://api.github.com/user', auth=('user', 'pass'))\n",
    "print(r.status_code)\n",
    "print(r.headers['content-type'])\n",
    "print(r.encoding)\n",
    "print(r.text)\n",
    "print(r.json())"
   ]
  },
  {
   "cell_type": "code",
   "execution_count": 14,
   "metadata": {},
   "outputs": [
    {
     "name": "stdout",
     "output_type": "stream",
     "text": [
      "[{'id': 1, 'firstName': 'ole', 'surName': 'pettersen', 'age': 20, 'kjonn': 'mann', 'phone': 90807060, 'mail': 'olep@gmail.com', 'kjønn': nan}, {'id': 2, 'firstName': 'signe', 'surName': 'Storlien', 'age': 23, 'kjonn': 'kvinne', 'phone': 99887766, 'mail': 'signes@gmail.com', 'kjønn': nan}, {'id': 3, 'firstName': 'mari', 'surName': 'olsen', 'age': 19, 'kjonn': 'kvinne', 'phone': 40506070, 'mail': 'mario@gmail.com', 'kjønn': nan}, {'id': 4, 'firstName': 'espen', 'surName': 'moen', 'age': 22, 'kjonn': 'mann', 'phone': 44556677, 'mail': 'espenm@gmail.com', 'kjønn': nan}, {'id': 1, 'firstName': 'ole', 'surName': 'pettersen', 'age': 20, 'kjonn': nan, 'phone': 90807060, 'mail': 'olep@gmail.com', 'kjønn': 'mann'}, {'id': 2, 'firstName': 'signe', 'surName': 'Storlien', 'age': 23, 'kjonn': nan, 'phone': 99887766, 'mail': 'signes@gmail.com', 'kjønn': 'kvinne'}, {'id': 3, 'firstName': 'mari', 'surName': 'olsen', 'age': 19, 'kjonn': nan, 'phone': 40506070, 'mail': 'mario@gmail.com', 'kjønn': 'kvinne'}, {'id': 4, 'firstName': 'espen', 'surName': 'moen', 'age': 22, 'kjonn': nan, 'phone': 44556677, 'mail': 'espenm@gmail.com', 'kjønn': 'mann'}, {'id': 1, 'firstName': 'ole', 'surName': 'pettersen', 'age': 20, 'kjonn': nan, 'phone': 90807060, 'mail': 'olep@gmail.com', 'kjønn': 'mann'}, {'id': 2, 'firstName': 'signe', 'surName': 'Storlien', 'age': 23, 'kjonn': nan, 'phone': 99887766, 'mail': 'signes@gmail.com', 'kjønn': 'kvinne'}, {'id': 3, 'firstName': 'mari', 'surName': 'olsen', 'age': 19, 'kjonn': nan, 'phone': 40506070, 'mail': 'mario@gmail.com', 'kjønn': 'kvinne'}, {'id': 4, 'firstName': 'espen', 'surName': 'moen', 'age': 22, 'kjonn': nan, 'phone': 44556677, 'mail': 'espenm@gmail.com', 'kjønn': 'mann'}]\n"
     ]
    }
   ],
   "source": [
    "# Test pandas\n",
    "\n",
    "def get_raw_data():\n",
    "    # Get the list of all files and directories\n",
    "    path = \"input_files\"\n",
    "    df = pd.DataFrame()\n",
    "    for x in os.listdir(path):\n",
    "        if x.endswith(\".xlsx\"):\n",
    "            excel_data_fragment = pd.read_excel(path+\"//\"+x, sheet_name=0)\n",
    "            df = pd.concat([df,excel_data_fragment],ignore_index=True)\n",
    "        # You can add more file extentions\n",
    "        # example:\n",
    "        if x.endswith(\".csv\"):\n",
    "            csv_data_fragment = pd.read_csv(path+\"//\"+x, delimiter= \";\") #.head(5)\n",
    "            df = pd.concat([df,csv_data_fragment],ignore_index=True)\n",
    "    records = df.to_dict('records')\n",
    "    return records\n",
    "\n",
    "print(get_raw_data())"
   ]
  }
 ],
 "metadata": {
  "interpreter": {
   "hash": "916dbcbb3f70747c44a77c7bcd40155683ae19c65e1c03b4aa3499c5328201f1"
  },
  "kernelspec": {
   "display_name": "Python 3.8.10 64-bit",
   "language": "python",
   "name": "python3"
  },
  "language_info": {
   "codemirror_mode": {
    "name": "ipython",
    "version": 3
   },
   "file_extension": ".py",
   "mimetype": "text/x-python",
   "name": "python",
   "nbconvert_exporter": "python",
   "pygments_lexer": "ipython3",
   "version": "3.8.10"
  },
  "orig_nbformat": 4
 },
 "nbformat": 4,
 "nbformat_minor": 2
}
