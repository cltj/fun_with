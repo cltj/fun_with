{
 "cells": [
  {
   "cell_type": "markdown",
   "metadata": {},
   "source": [
    "# Creating, Altering, and Dropping a Table"
   ]
  },
  {
   "cell_type": "markdown",
   "metadata": {},
   "source": [
    "## Defining the Database Schema\n",
    "You can start by creating a database schema for an online movie rating system. The database will consist of three tables:\n",
    "\n",
    "1. movies contains general information about movies and has the following attributes:\n",
    "- id\n",
    "- title\n",
    "- release_year\n",
    "- genre\n",
    "- collection_in_mil\n",
    "2. reviewers contains information about people who posted reviews or ratings and has the following attributes:\n",
    "- id\n",
    "- first_name\n",
    "- last_name\n",
    "3. ratings contains information about ratings that have been posted and has the following attributes:\n",
    "- movie_id (foreign key)\n",
    "- reviewer_id (foreign key)\n",
    "- rating"
   ]
  },
  {
   "cell_type": "markdown",
   "metadata": {},
   "source": [
    "### Overview of schema\n",
    "\n",
    "![schema](schema.webp)"
   ]
  },
  {
   "cell_type": "markdown",
   "metadata": {},
   "source": []
  },
  {
   "cell_type": "markdown",
   "metadata": {},
   "source": [
    "## Creating Tables Using the CREATE TABLE Statement"
   ]
  },
  {
   "cell_type": "markdown",
   "metadata": {},
   "source": [
    "The sql\n",
    "\n",
    "```\n",
    "CREATE TABLE movies(\n",
    "    id INT AUTO_INCREMENT PRIMARY KEY,\n",
    "    title VARCHAR(100),\n",
    "    release_year YEAR(4),\n",
    "    genre VARCHAR(100),\n",
    "    collection_in_mil INT\n",
    ");\n",
    "```"
   ]
  },
  {
   "cell_type": "markdown",
   "metadata": {},
   "source": [
    "If you’ve looked at SQL statements before, then most of the above query might make sense. But there are some differences in the MySQL syntax that you should be aware of.\n",
    "\n",
    "For example, MySQL has a wide variety of data types for your perusal, including YEAR, INT, BIGINT, and so on. Also, MySQL uses the AUTO_INCREMENT keyword when a column value has to be incremented automatically on the insertion of new records.\n",
    "\n",
    "To create a new table, you need to pass this query to cursor.execute(), which accepts a MySQL query and executes the query on the connected MySQL database:"
   ]
  },
  {
   "cell_type": "code",
   "execution_count": 1,
   "metadata": {},
   "outputs": [],
   "source": [
    "# Setup connection\n",
    "\n",
    "from mysql.connector import connect, Error\n",
    "import os\n",
    "from dotenv import load_dotenv\n",
    "load_dotenv()\n",
    "\n",
    "server = os.getenv(\"mySQL_SERVER_NAME\") # mySQL_SERVER_NAME\n",
    "database = os.getenv(\"mySQL_DATABASE\") # mySQL_DATABASE\n",
    "username = os.getenv(\"mySQL_USER_NAME\") # mySQL_USER_NAME\n",
    "myPassword = os.getenv(\"mySQL_PASSWORD\") # mySQL_PASSWORD\n"
   ]
  },
  {
   "cell_type": "markdown",
   "metadata": {},
   "source": [
    "#### Create movies table"
   ]
  },
  {
   "cell_type": "code",
   "execution_count": 4,
   "metadata": {},
   "outputs": [],
   "source": [
    "try:\n",
    "    with connect(\n",
    "        host=server,\n",
    "        user=username,\n",
    "        password=myPassword,\n",
    "        database=\"online_movie_rating\",\n",
    "    ) as connection:\n",
    "        # Inject the SQL\n",
    "        create_movies_table_query = \"\"\"\n",
    "        CREATE TABLE movies(\n",
    "            id INT AUTO_INCREMENT PRIMARY KEY,\n",
    "            title VARCHAR(100),\n",
    "            release_year YEAR(4),\n",
    "            genre VARCHAR(100),\n",
    "            collection_in_mil INT\n",
    "        )\n",
    "        \"\"\"\n",
    "        with connection.cursor() as cursor:\n",
    "            cursor.execute(create_movies_table_query)\n",
    "            connection.commit()\n",
    "except Error as e:\n",
    "    print(e)"
   ]
  },
  {
   "cell_type": "markdown",
   "metadata": {},
   "source": [
    "#### Create reviewers table"
   ]
  },
  {
   "cell_type": "code",
   "execution_count": 6,
   "metadata": {},
   "outputs": [],
   "source": [
    "try:\n",
    "    with connect(\n",
    "        host=server,\n",
    "        user=username,\n",
    "        password=myPassword,\n",
    "        database=\"online_movie_rating\",\n",
    "    ) as connection:\n",
    "        # Inject the SQL\n",
    "        create_reviewers_table_query = \"\"\"\n",
    "        CREATE TABLE reviewers (\n",
    "            id INT AUTO_INCREMENT PRIMARY KEY,\n",
    "            first_name VARCHAR(100),\n",
    "            last_name VARCHAR(100)\n",
    "        )\n",
    "        \"\"\"\n",
    "        with connection.cursor() as cursor:\n",
    "            cursor.execute(create_reviewers_table_query)\n",
    "            connection.commit()\n",
    "except Error as e:\n",
    "    print(e)"
   ]
  },
  {
   "cell_type": "markdown",
   "metadata": {},
   "source": [
    "#### Create ratings table"
   ]
  },
  {
   "cell_type": "code",
   "execution_count": 7,
   "metadata": {},
   "outputs": [],
   "source": [
    "try:\n",
    "    with connect(\n",
    "        host=server,\n",
    "        user=username,\n",
    "        password=myPassword,\n",
    "        database=\"online_movie_rating\",\n",
    "    ) as connection:\n",
    "        # Inject the SQL\n",
    "        create_ratings_table_query = \"\"\"\n",
    "        CREATE TABLE ratings (\n",
    "            movie_id INT,\n",
    "            reviewer_id INT,\n",
    "            rating DECIMAL(2,1),\n",
    "            FOREIGN KEY(movie_id) REFERENCES movies(id),\n",
    "            FOREIGN KEY(reviewer_id) REFERENCES reviewers(id),\n",
    "            PRIMARY KEY(movie_id, reviewer_id)\n",
    "        )\n",
    "        \"\"\"\n",
    "        with connection.cursor() as cursor:\n",
    "            cursor.execute(create_ratings_table_query)\n",
    "            connection.commit()\n",
    "except Error as e:\n",
    "    print(e)"
   ]
  },
  {
   "cell_type": "markdown",
   "metadata": {},
   "source": [
    "### Showing a Table Schema Using the DESCRIBE Statemen\n",
    "\n",
    "To get some results back from the cursor object, you need to use ```cursor.fetchall()```"
   ]
  },
  {
   "cell_type": "code",
   "execution_count": 8,
   "metadata": {},
   "outputs": [],
   "source": [
    "# SQL => DESCRIBE <table_name>;"
   ]
  },
  {
   "cell_type": "code",
   "execution_count": 9,
   "metadata": {},
   "outputs": [
    {
     "name": "stdout",
     "output_type": "stream",
     "text": [
      "('id', b'int', 'NO', 'PRI', None, 'auto_increment')\n",
      "('title', b'varchar(100)', 'YES', '', None, '')\n",
      "('release_year', b'year', 'YES', '', None, '')\n",
      "('genre', b'varchar(100)', 'YES', '', None, '')\n",
      "('collection_in_mil', b'int', 'YES', '', None, '')\n"
     ]
    }
   ],
   "source": [
    "try:\n",
    "    with connect(\n",
    "        host=server,\n",
    "        user=username,\n",
    "        password=myPassword,\n",
    "        database=\"online_movie_rating\",\n",
    "    ) as connection:\n",
    "        show_table_query = \"DESCRIBE movies\"\n",
    "        with connection.cursor() as cursor:\n",
    "            cursor.execute(show_table_query)\n",
    "            # Fetch rows from last executed query\n",
    "            result = cursor.fetchall()\n",
    "            for row in result:\n",
    "                print(row)\n",
    "except Error as e:\n",
    "    print(e)"
   ]
  },
  {
   "cell_type": "markdown",
   "metadata": {},
   "source": [
    "### Modifying a Table Schema Using the ALTER Statement\n",
    "\n",
    "In the movies table, you have a column called collection_in_mil, which contains a movie’s box office collection in millions of dollars. You can write the following MySQL statement to modify the data type of collection_in_mil attribute from INT to DECIMAL:\n",
    "\n",
    "```ALTER TABLE movies MODIFY COLUMN collection_in_mil DECIMAL(4,1);```"
   ]
  },
  {
   "cell_type": "code",
   "execution_count": 10,
   "metadata": {},
   "outputs": [
    {
     "name": "stdout",
     "output_type": "stream",
     "text": [
      "Movie Table Schema after alteration:\n",
      "('id', b'int', 'NO', 'PRI', None, 'auto_increment')\n",
      "('title', b'varchar(100)', 'YES', '', None, '')\n",
      "('release_year', b'year', 'YES', '', None, '')\n",
      "('genre', b'varchar(100)', 'YES', '', None, '')\n",
      "('collection_in_mil', b'decimal(4,1)', 'YES', '', None, '')\n"
     ]
    }
   ],
   "source": [
    "try:\n",
    "    with connect(\n",
    "        host=server,\n",
    "        user=username,\n",
    "        password=myPassword,\n",
    "        database=\"online_movie_rating\",\n",
    "    ) as connection:\n",
    "        alter_table_query = \"\"\"\n",
    "        ALTER TABLE movies\n",
    "        MODIFY COLUMN collection_in_mil DECIMAL(4,1)\n",
    "        \"\"\"\n",
    "        show_table_query = \"DESCRIBE movies\"\n",
    "        with connection.cursor() as cursor:\n",
    "            cursor.execute(alter_table_query)\n",
    "            cursor.execute(show_table_query)\n",
    "            # Fetch rows from last executed query\n",
    "            result = cursor.fetchall()\n",
    "            print(\"Movie Table Schema after alteration:\")\n",
    "            for row in result:\n",
    "                print(row)\n",
    "except Error as e:\n",
    "    print(e)"
   ]
  },
  {
   "cell_type": "markdown",
   "metadata": {},
   "source": [
    "### Deleting Tables Using the DROP Statement\n",
    "To delete a table, you need to execute the DROP TABLE statement in MySQL. Deleting a table is an irreversible process. If you execute the code below, then you’ll ```need to call the CREATE TABLE query again to use the ratings table in the upcoming sections.```"
   ]
  },
  {
   "cell_type": "code",
   "execution_count": null,
   "metadata": {},
   "outputs": [],
   "source": [
    "try:\n",
    "    with connect(\n",
    "        host=server,\n",
    "        user=username,\n",
    "        password=myPassword,\n",
    "        database=\"online_movie_rating\",\n",
    "    ) as connection:\n",
    "        drop_table_query = \"DROP TABLE ratings\"\n",
    "        with connection.cursor() as cursor:\n",
    "            cursor.execute(drop_table_query)\n",
    "except Error as e:\n",
    "    print(e)"
   ]
  }
 ],
 "metadata": {
  "interpreter": {
   "hash": "916dbcbb3f70747c44a77c7bcd40155683ae19c65e1c03b4aa3499c5328201f1"
  },
  "kernelspec": {
   "display_name": "Python 3.8.10 64-bit",
   "language": "python",
   "name": "python3"
  },
  "language_info": {
   "codemirror_mode": {
    "name": "ipython",
    "version": 3
   },
   "file_extension": ".py",
   "mimetype": "text/x-python",
   "name": "python",
   "nbconvert_exporter": "python",
   "pygments_lexer": "ipython3",
   "version": "3.8.10"
  },
  "orig_nbformat": 4
 },
 "nbformat": 4,
 "nbformat_minor": 2
}
