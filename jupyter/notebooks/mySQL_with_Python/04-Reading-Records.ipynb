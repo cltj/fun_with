{
 "cells": [
  {
   "cell_type": "markdown",
   "metadata": {},
   "source": [
    "# Reading records\n",
    "\n",
    "Until now, you’ve been building your database. Now it’s time to perform some queries on it and find some interesting properties from this dataset. In this section, you’ll learn how to read records from database tables using the SELECT statement."
   ]
  },
  {
   "cell_type": "markdown",
   "metadata": {},
   "source": [
    "## Reading Records Using the SELECT Statement\n",
    "To retrieve records, you need to send a SELECT query to cursor.execute(). Then you use cursor.fetchall() to extract the retrieved table in the form of a list of rows or records.\n",
    "\n",
    "Try writing a MySQL query to select all records from the movies table and send it to .execute():"
   ]
  },
  {
   "cell_type": "code",
   "execution_count": 1,
   "metadata": {},
   "outputs": [],
   "source": [
    "# Setup connection\n",
    "\n",
    "from mysql.connector import connect, Error\n",
    "import os\n",
    "from dotenv import load_dotenv\n",
    "load_dotenv()\n",
    "\n",
    "server = os.getenv(\"mySQL_SERVER_NAME\") # mySQL_SERVER_NAME\n",
    "database = os.getenv(\"mySQL_DATABASE\") # mySQL_DATABASE\n",
    "username = os.getenv(\"mySQL_USER_NAME\") # mySQL_USER_NAME\n",
    "myPassword = os.getenv(\"mySQL_PASSWORD\") # mySQL_PASSWORD\n",
    "\n",
    "connection = connect(\n",
    "        host=server,\n",
    "        user=username,\n",
    "        password=myPassword,\n",
    "        database=\"online_movie_rating\",\n",
    "    )"
   ]
  },
  {
   "cell_type": "code",
   "execution_count": 2,
   "metadata": {},
   "outputs": [
    {
     "name": "stdout",
     "output_type": "stream",
     "text": [
      "(1, 'Forrest Gump', 1994, 'Drama', Decimal('330.2'))\n",
      "(2, '3 Idiots', 2009, 'Drama', Decimal('2.4'))\n",
      "(3, 'Eternal Sunshine of the Spotless Mind', 2004, 'Drama', Decimal('34.5'))\n",
      "(4, 'Good Will Hunting', 1997, 'Drama', Decimal('138.1'))\n",
      "(5, 'Skyfall', 2012, 'Action', Decimal('304.6'))\n"
     ]
    }
   ],
   "source": [
    "select_movies_query = \"SELECT * FROM movies LIMIT 5\"\n",
    "with connection.cursor() as cursor:\n",
    "    cursor.execute(select_movies_query)\n",
    "    result = cursor.fetchall()\n",
    "    for row in result:\n",
    "        print(row)"
   ]
  },
  {
   "cell_type": "markdown",
   "metadata": {},
   "source": [
    "You can also query for selected columns:"
   ]
  },
  {
   "cell_type": "code",
   "execution_count": 3,
   "metadata": {},
   "outputs": [
    {
     "name": "stdout",
     "output_type": "stream",
     "text": [
      "('Forrest Gump', 1994)\n",
      "('3 Idiots', 2009)\n",
      "('Eternal Sunshine of the Spotless Mind', 2004)\n",
      "('Good Will Hunting', 1997)\n",
      "('Skyfall', 2012)\n"
     ]
    }
   ],
   "source": [
    "select_movies_query = \"SELECT title, release_year FROM movies LIMIT 5\"\n",
    "with connection.cursor() as cursor:\n",
    "    cursor.execute(select_movies_query)\n",
    "    for row in cursor.fetchall():\n",
    "        print(row)"
   ]
  },
  {
   "cell_type": "markdown",
   "metadata": {},
   "source": [
    "### Filtering Results Using the WHERE Clause\n",
    "\n",
    "You can filter table records by specific criteria using the WHERE clause. For example, to retrieve all movies with a box office collection greater than $300 million, you could run the following query:\n",
    "\n",
    "```\n",
    "SELECT title, collection_in_mil\n",
    "FROM movies\n",
    "WHERE collection_in_mil > 300;\n",
    "```\n",
    "\n",
    "You can also use ORDER BY clause in the last query to sort the results from the highest to the lowest earner:"
   ]
  },
  {
   "cell_type": "code",
   "execution_count": 4,
   "metadata": {},
   "outputs": [
    {
     "name": "stdout",
     "output_type": "stream",
     "text": [
      "('Avengers: Endgame', Decimal('858.8'))\n",
      "('Titanic', Decimal('659.2'))\n",
      "('The Dark Knight', Decimal('535.4'))\n",
      "('Toy Story 4', Decimal('434.9'))\n",
      "('The Lion King', Decimal('423.6'))\n",
      "('Deadpool', Decimal('363.6'))\n",
      "('Forrest Gump', Decimal('330.2'))\n",
      "('Skyfall', Decimal('304.6'))\n"
     ]
    }
   ],
   "source": [
    "select_movies_query = \"\"\"\n",
    "SELECT title, collection_in_mil\n",
    "FROM movies\n",
    "WHERE collection_in_mil > 300\n",
    "ORDER BY collection_in_mil DESC\n",
    "\"\"\"\n",
    "with connection.cursor() as cursor:\n",
    "    cursor.execute(select_movies_query)\n",
    "    for movie in cursor.fetchall():\n",
    "        print(movie)"
   ]
  },
  {
   "cell_type": "markdown",
   "metadata": {},
   "source": [
    "MySQL offers a plethora of string formatting operations like CONCAT for concatenating strings. Often, websites will show the movie title along with its release year to avoid confusion. To retrieve the titles of the top five grossing movies, concatenated with their release years, you can write the following query:"
   ]
  },
  {
   "cell_type": "code",
   "execution_count": 5,
   "metadata": {},
   "outputs": [
    {
     "name": "stdout",
     "output_type": "stream",
     "text": [
      "('Avengers: Endgame (2019)', Decimal('858.8'))\n",
      "('Titanic (1997)', Decimal('659.2'))\n",
      "('The Dark Knight (2008)', Decimal('535.4'))\n",
      "('Toy Story 4 (2019)', Decimal('434.9'))\n",
      "('The Lion King (1994)', Decimal('423.6'))\n"
     ]
    }
   ],
   "source": [
    "select_movies_query = \"\"\"\n",
    "SELECT CONCAT(title, \" (\", release_year, \")\"),\n",
    "      collection_in_mil\n",
    "FROM movies\n",
    "ORDER BY collection_in_mil DESC\n",
    "LIMIT 5\n",
    "\"\"\"\n",
    "with connection.cursor() as cursor:\n",
    "    cursor.execute(select_movies_query)\n",
    "    for movie in cursor.fetchall():\n",
    "        print(movie)"
   ]
  },
  {
   "cell_type": "markdown",
   "metadata": {},
   "source": [
    "If you don’t want to use the LIMIT clause and you don’t need to fetch all the records, then the cursor object has ```.fetchone() and .fetchmany()``` methods as well:\n",
    "\n",
    "```.fetchone()``` retrieves either the next row of the result, as a tuple, or None if no more rows are available.\n",
    "```.fetchmany()``` retrieves the next set of rows from the result as a list of tuples. It has a size argument, which defaults to 1, that you can use to specify the number of rows you need to fetch.\n",
    "\n",
    "If no more rows are available, then the method returns an empty list.\n",
    "Try retrieving the titles of the five highest-grossing movies concatenated with their release years again, but this time use .fetchmany():"
   ]
  },
  {
   "cell_type": "code",
   "execution_count": 6,
   "metadata": {},
   "outputs": [
    {
     "name": "stdout",
     "output_type": "stream",
     "text": [
      "('Avengers: Endgame (2019)', Decimal('858.8'))\n",
      "('Titanic (1997)', Decimal('659.2'))\n",
      "('The Dark Knight (2008)', Decimal('535.4'))\n",
      "('Toy Story 4 (2019)', Decimal('434.9'))\n",
      "('The Lion King (1994)', Decimal('423.6'))\n"
     ]
    }
   ],
   "source": [
    "select_movies_query = \"\"\"\n",
    "SELECT CONCAT(title, \" (\", release_year, \")\"),\n",
    "      collection_in_mil\n",
    "FROM movies\n",
    "ORDER BY collection_in_mil DESC\n",
    "\"\"\"\n",
    "with connection.cursor() as cursor:\n",
    "    cursor.execute(select_movies_query)\n",
    "    for movie in cursor.fetchmany(size=5):\n",
    "        print(movie)\n",
    "    cursor.fetchall()"
   ]
  },
  {
   "cell_type": "markdown",
   "metadata": {},
   "source": [
    "The output with ```.fetchmany()``` is similar to what you received when you used the LIMIT clause. You might have noticed the additional cursor ```.fetchall()``` call at the end. You do this to clean all the remaining results that weren’t read by ```.fetchmany()```\n",
    "\n",
    "It’s necessary to clean all unread results before executing any other statements on the same connection. Otherwise, an InternalError: Unread result found exception will be raised."
   ]
  },
  {
   "cell_type": "markdown",
   "metadata": {},
   "source": []
  }
 ],
 "metadata": {
  "interpreter": {
   "hash": "916dbcbb3f70747c44a77c7bcd40155683ae19c65e1c03b4aa3499c5328201f1"
  },
  "kernelspec": {
   "display_name": "Python 3.8.10 64-bit",
   "language": "python",
   "name": "python3"
  },
  "language_info": {
   "codemirror_mode": {
    "name": "ipython",
    "version": 3
   },
   "file_extension": ".py",
   "mimetype": "text/x-python",
   "name": "python",
   "nbconvert_exporter": "python",
   "pygments_lexer": "ipython3",
   "version": "3.8.10"
  },
  "orig_nbformat": 4
 },
 "nbformat": 4,
 "nbformat_minor": 2
}
