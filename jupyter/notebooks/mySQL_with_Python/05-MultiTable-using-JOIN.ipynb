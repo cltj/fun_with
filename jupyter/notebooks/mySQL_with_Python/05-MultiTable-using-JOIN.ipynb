{
 "cells": [
  {
   "cell_type": "markdown",
   "metadata": {},
   "source": [
    "# Multiple Tables Using the JOIN"
   ]
  },
  {
   "cell_type": "markdown",
   "metadata": {},
   "source": [
    "If you found the queries in the last section to be quite straightforward, don’t worry. You can make your SELECT queries as complex as you want using the same methods from the last section.\n",
    "\n",
    "Let’s look at some slightly more complex JOIN queries. If you want to find out the name of the top five highest-rated movies in your database, then you can run the following query:"
   ]
  },
  {
   "cell_type": "code",
   "execution_count": 1,
   "metadata": {},
   "outputs": [],
   "source": [
    "# Setup connection\n",
    "\n",
    "from mysql.connector import connect, Error\n",
    "import os\n",
    "from dotenv import load_dotenv\n",
    "load_dotenv()\n",
    "\n",
    "server = os.getenv(\"mySQL_SERVER_NAME\") # mySQL_SERVER_NAME\n",
    "database = os.getenv(\"mySQL_DATABASE\") # mySQL_DATABASE\n",
    "username = os.getenv(\"mySQL_USER_NAME\") # mySQL_USER_NAME\n",
    "myPassword = os.getenv(\"mySQL_PASSWORD\") # mySQL_PASSWORD\n",
    "\n",
    "connection = connect(\n",
    "        host=server,\n",
    "        user=username,\n",
    "        password=myPassword,\n",
    "        database=\"online_movie_rating\",\n",
    "    )"
   ]
  },
  {
   "cell_type": "code",
   "execution_count": 2,
   "metadata": {},
   "outputs": [
    {
     "name": "stdout",
     "output_type": "stream",
     "text": [
      "('Mary Cooper', 4)\n"
     ]
    }
   ],
   "source": [
    "select_movies_query = \"\"\"\n",
    "SELECT CONCAT(first_name, \" \", last_name), COUNT(*) as num\n",
    "FROM reviewers\n",
    "INNER JOIN ratings\n",
    "    ON reviewers.id = ratings.reviewer_id\n",
    "GROUP BY reviewer_id\n",
    "ORDER BY num DESC\n",
    "LIMIT 1\n",
    "\"\"\"\n",
    "with connection.cursor() as cursor:\n",
    "    cursor.execute(select_movies_query)\n",
    "    for movie in cursor.fetchall():\n",
    "        print(movie)"
   ]
  },
  {
   "cell_type": "markdown",
   "metadata": {},
   "source": [
    "Mary Cooper is the most frequent reviewer in this database. As seen above, it doesn’t matter how complicated the query is because it’s ultimately handled by the MySQL server. Your process for executing a query will always remain the same: pass the query to cursor.execute() and fetch the results using ```.fetchall()```"
   ]
  }
 ],
 "metadata": {
  "interpreter": {
   "hash": "916dbcbb3f70747c44a77c7bcd40155683ae19c65e1c03b4aa3499c5328201f1"
  },
  "kernelspec": {
   "display_name": "Python 3.8.10 64-bit",
   "language": "python",
   "name": "python3"
  },
  "language_info": {
   "codemirror_mode": {
    "name": "ipython",
    "version": 3
   },
   "file_extension": ".py",
   "mimetype": "text/x-python",
   "name": "python",
   "nbconvert_exporter": "python",
   "pygments_lexer": "ipython3",
   "version": "3.8.10"
  },
  "orig_nbformat": 4
 },
 "nbformat": 4,
 "nbformat_minor": 2
}
