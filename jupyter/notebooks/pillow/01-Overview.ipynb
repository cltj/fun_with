{
 "cells": [
  {
   "cell_type": "markdown",
   "metadata": {},
   "source": [
    "# Pillow\n",
    "\n",
    "```Pillow is the friendly PIL fork by Alex Clark and Contributors. PIL is the Python Imaging Library by Fredrik Lundh and Contributors.```\n",
    "\n",
    "## Overview\n",
    "The Python Imaging Library adds image processing capabilities to your Python interpreter.\n",
    "\n",
    "This library provides extensive file format support, an efficient internal representation, and fairly powerful image processing capabilities.\n",
    "\n",
    "The core image library is designed for fast access to data stored in a few basic pixel formats. It should provide a solid foundation for a general image processing tool."
   ]
  },
  {
   "cell_type": "markdown",
   "metadata": {},
   "source": [
    "## Image Archives\n",
    "The Python Imaging Library is ideal for image archival and batch processing applications. You can use the library to create thumbnails, convert between file formats, print images, etc.\n",
    "\n",
    "The current version identifies and reads a large number of formats. Write support is intentionally restricted to the most commonly used interchange and presentation formats.\n",
    "\n",
    "## Image Display\n",
    "The current release includes Tk PhotoImage and BitmapImage interfaces, as well as a Windows DIB interface that can be used with PythonWin and other Windows-based toolkits. Many other GUI toolkits come with some kind of PIL support.\n",
    "\n",
    "For debugging, there’s also a show() method which saves an image to disk, and calls an external display utility.\n",
    "\n",
    "## Image Processing\n",
    "The library contains basic image processing functionality, including point operations, filtering with a set of built-in convolution kernels, and colour space conversions.\n",
    "\n",
    "The library also supports image resizing, rotation and arbitrary affine transforms.\n",
    "\n",
    "There’s a histogram method allowing you to pull some statistics out of an image. This can be used for automatic contrast enhancement, and for global statistical analysis."
   ]
  }
 ],
 "metadata": {
  "interpreter": {
   "hash": "916dbcbb3f70747c44a77c7bcd40155683ae19c65e1c03b4aa3499c5328201f1"
  },
  "kernelspec": {
   "display_name": "Python 3.8.10 64-bit",
   "language": "python",
   "name": "python3"
  },
  "language_info": {
   "codemirror_mode": {
    "name": "ipython",
    "version": 3
   },
   "file_extension": ".py",
   "mimetype": "text/x-python",
   "name": "python",
   "nbconvert_exporter": "python",
   "pygments_lexer": "ipython3",
   "version": "3.8.10"
  },
  "orig_nbformat": 4
 },
 "nbformat": 4,
 "nbformat_minor": 2
}
