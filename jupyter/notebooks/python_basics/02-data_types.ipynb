{
 "cells": [
  {
   "cell_type": "markdown",
   "id": "4f32b3bd-424a-4599-abbe-0fe892b97183",
   "metadata": {
    "tags": []
   },
   "source": [
    "# Some data types"
   ]
  },
  {
   "cell_type": "markdown",
   "id": "3fd4b58b-31ad-4dc1-94b0-525a5bcd3c97",
   "metadata": {
    "tags": []
   },
   "source": [
    "Built-in Data Types\n",
    "In programming, data type is an important concept.\n",
    "\n",
    "Variables can store data of different types, and different types can do different things.\n",
    "\n",
    "### Python has the following data types built-in by default, in these categories:\n",
    "\n",
    "- Text Type:\tstr\n",
    "- Numeric Types:\tint, float, complex\n",
    "- Sequence Types:\tlist, tuple, range\n",
    "- Mapping Type:\tdict\n",
    "- Set Types:\tset, frozenset\n",
    "- Boolean Type:\tbool\n",
    "- Binary Types:\tbytes, bytearray, memoryview"
   ]
  },
  {
   "cell_type": "code",
   "execution_count": 25,
   "id": "95d856d5-1b33-47e6-af9d-bcd287e8097e",
   "metadata": {},
   "outputs": [],
   "source": [
    "a = 5 # I am a integer\n",
    "b = \"hello\" # I am a string\n",
    "c = 99.90 # I am a float\n",
    "d = True # I am a boolean"
   ]
  },
  {
   "cell_type": "markdown",
   "id": "7d412e4f-26de-4130-837c-4469a6ab9654",
   "metadata": {
    "tags": []
   },
   "source": [
    "You can check a data type by using 'type(<variable>)'"
   ]
  },
  {
   "cell_type": "code",
   "execution_count": 26,
   "id": "91e8904a-a621-46d7-9164-61c9a4e519a3",
   "metadata": {},
   "outputs": [
    {
     "name": "stdout",
     "output_type": "stream",
     "text": [
      "<class 'int'>\n"
     ]
    }
   ],
   "source": [
    "print(type(a))"
   ]
  },
  {
   "cell_type": "code",
   "execution_count": 27,
   "id": "e670be18-e742-41c1-9926-94f0634fafb2",
   "metadata": {},
   "outputs": [
    {
     "data": {
      "text/plain": [
       "str"
      ]
     },
     "execution_count": 27,
     "metadata": {},
     "output_type": "execute_result"
    }
   ],
   "source": [
    "type(b)"
   ]
  },
  {
   "cell_type": "code",
   "execution_count": 28,
   "id": "ef2b2c84-4df7-4906-8174-237fe65dca91",
   "metadata": {},
   "outputs": [
    {
     "data": {
      "text/plain": [
       "float"
      ]
     },
     "execution_count": 28,
     "metadata": {},
     "output_type": "execute_result"
    }
   ],
   "source": [
    "type(c)"
   ]
  },
  {
   "cell_type": "code",
   "execution_count": 29,
   "id": "08fabfcc-22a9-4344-98d1-fffb5fe3c330",
   "metadata": {},
   "outputs": [
    {
     "data": {
      "text/plain": [
       "bool"
      ]
     },
     "execution_count": 29,
     "metadata": {},
     "output_type": "execute_result"
    }
   ],
   "source": [
    "type (d)"
   ]
  },
  {
   "cell_type": "markdown",
   "id": "b3422a7f-a695-4757-8c7a-327b018341e1",
   "metadata": {},
   "source": [
    "We also have other types like list, tuples and dictionary. These types want to store collections of data for us in a single variable"
   ]
  },
  {
   "cell_type": "code",
   "execution_count": 41,
   "id": "5b63e517-5230-4afe-96de-3f0c62bcb8fe",
   "metadata": {},
   "outputs": [],
   "source": [
    "my_list = [1,2,3]\n",
    "my_tuple = (\"apple\", \"banana\", \"cherry\")\n",
    "my_dictionary = {\"color\":\"red\"}\n",
    "my_set = {\"object\":\"car\"}"
   ]
  },
  {
   "cell_type": "code",
   "execution_count": 42,
   "id": "d8b02215-2158-43ee-8675-771a0ea5a18d",
   "metadata": {},
   "outputs": [
    {
     "name": "stdout",
     "output_type": "stream",
     "text": [
      "[1, 2, 3]\n",
      "('apple', 'banana', 'cherry')\n",
      "{'color': 'red'}\n",
      "{'object': 'car'}\n"
     ]
    }
   ],
   "source": [
    "print(a_list)\n",
    "print(my_tuple)\n",
    "print(my_dictionary)\n",
    "print(my_set)"
   ]
  }
 ],
 "metadata": {
  "kernelspec": {
   "display_name": "Python 3 (ipykernel)",
   "language": "python",
   "name": "python3"
  },
  "language_info": {
   "codemirror_mode": {
    "name": "ipython",
    "version": 3
   },
   "file_extension": ".py",
   "mimetype": "text/x-python",
   "name": "python",
   "nbconvert_exporter": "python",
   "pygments_lexer": "ipython3",
   "version": "3.8.10"
  }
 },
 "nbformat": 4,
 "nbformat_minor": 5
}
