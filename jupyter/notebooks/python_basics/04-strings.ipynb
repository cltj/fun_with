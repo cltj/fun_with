{
 "cells": [
  {
   "cell_type": "markdown",
   "id": "513b0033-d90a-4394-953d-30a4cf3fdefb",
   "metadata": {},
   "source": [
    "# Strings"
   ]
  },
  {
   "cell_type": "markdown",
   "id": "c66b45ad-eca6-469d-9f2c-4d2c5e6f7deb",
   "metadata": {},
   "source": [
    "Strings are Arrays\n",
    "Like many other popular programming languages, strings in Python are arrays of bytes representing unicode characters.\n",
    "\n",
    "However, Python does not have a character data type, a single character is simply a string with a length of 1.\n",
    "\n",
    "Square brackets can be used to access elements of the string.\n",
    "\n",
    "Example\n",
    "Get the character at position 1:"
   ]
  },
  {
   "cell_type": "code",
   "execution_count": null,
   "id": "3ab119a5-aeb9-41ac-acba-80aa15a86213",
   "metadata": {},
   "outputs": [],
   "source": [
    "a = \"Hello, World!\"\n",
    "print(a[1])"
   ]
  },
  {
   "cell_type": "markdown",
   "id": "0ef3c810-e29b-4b76-a927-baf984f281c0",
   "metadata": {},
   "source": [
    "Loop through the letters in the word \"banana\":"
   ]
  },
  {
   "cell_type": "code",
   "execution_count": null,
   "id": "3d54f9b6-87b8-4724-92eb-43d7af25856c",
   "metadata": {},
   "outputs": [],
   "source": [
    "for x in \"banana\":\n",
    "  print(x)"
   ]
  },
  {
   "cell_type": "markdown",
   "id": "93147dbc-08e6-415e-b1ec-f384704e1907",
   "metadata": {},
   "source": [
    "### in \n",
    "Check if \"free\" is present in the following text:"
   ]
  },
  {
   "cell_type": "code",
   "execution_count": null,
   "id": "5cfb216c-9e3f-46b1-92e7-dc5fb5592253",
   "metadata": {},
   "outputs": [],
   "source": [
    "txt = \"The best things in life are free!\"\n",
    "print(\"free\" in txt)"
   ]
  },
  {
   "cell_type": "markdown",
   "id": "f63d49fd-1a31-4d50-9d38-d4104d153a49",
   "metadata": {},
   "source": [
    "Print only if \"free\" is present:"
   ]
  },
  {
   "cell_type": "code",
   "execution_count": null,
   "id": "a6e5a88e-9708-4f4c-a23a-51d24101f879",
   "metadata": {},
   "outputs": [],
   "source": [
    "txt = \"The best things in life are free!\"\n",
    "if \"free\" in txt:\n",
    "  print(\"Yes, 'free' is present.\")"
   ]
  },
  {
   "cell_type": "markdown",
   "id": "84c5b4ab-08f2-4066-8190-942b0a0cab50",
   "metadata": {},
   "source": [
    "#### not in\n",
    "Check if \"expensive\" is NOT present in the following text:"
   ]
  },
  {
   "cell_type": "code",
   "execution_count": null,
   "id": "1848dd3d-d724-4807-bcdd-47c740207fe4",
   "metadata": {},
   "outputs": [],
   "source": [
    "txt = \"The best things in life are free!\"\n",
    "print(\"expensive\" not in txt)"
   ]
  },
  {
   "cell_type": "markdown",
   "id": "152e3df6-367a-4b10-a74c-17fe71817fe1",
   "metadata": {},
   "source": [
    "## Slicing\n",
    "You can return a range of characters by using the slice syntax.\n",
    "\n",
    "Specify the start index and the end index, separated by a colon, to return a part of the string."
   ]
  },
  {
   "cell_type": "code",
   "execution_count": null,
   "id": "ce0ef499-fed0-4723-985e-0d82bce42f85",
   "metadata": {},
   "outputs": [],
   "source": [
    "# Get the characters from position 2 to position 5 (not included):\n",
    "\n",
    "b = \"Hello, World!\"\n",
    "print(b[2:5])"
   ]
  },
  {
   "cell_type": "code",
   "execution_count": null,
   "id": "9137df19-16b3-4fdc-81cc-6054e6d77abe",
   "metadata": {},
   "outputs": [],
   "source": [
    "# Get the characters from the start to position 5 (not included):\n",
    "\n",
    "b = \"Hello, World!\"\n",
    "print(b[:5])"
   ]
  },
  {
   "cell_type": "code",
   "execution_count": null,
   "id": "de04f32f-beee-4565-9133-091de35bf5c3",
   "metadata": {},
   "outputs": [],
   "source": [
    "# Get the characters from position 2, and all the way to the end:\n",
    "\n",
    "b = \"Hello, World!\"\n",
    "print(b[2:])"
   ]
  },
  {
   "cell_type": "code",
   "execution_count": null,
   "id": "d7e65f1b-aff0-41c9-aab2-c38a8208ad38",
   "metadata": {},
   "outputs": [],
   "source": [
    "# Negative Indexing\n",
    "# Use negative indexes to start the slice from the end of the string:\n",
    "# Get the characters: From: \"o\" in \"World!\" (position -5)\n",
    "# To, but not included: \"d\" in \"World!\" (position -2):\n",
    "\n",
    "b = \"Hello, World!\"\n",
    "print(b[-5:-2])"
   ]
  },
  {
   "cell_type": "markdown",
   "id": "c53cb241-07bb-47fc-8dd2-61ed3c8fbf75",
   "metadata": {},
   "source": [
    "## Modify strings"
   ]
  },
  {
   "cell_type": "code",
   "execution_count": null,
   "id": "a5706ea5-dfc3-4ad0-80e9-0e2d91018e97",
   "metadata": {},
   "outputs": [],
   "source": [
    "# The upper() method returns the string in upper case:\n",
    "\n",
    "a = \"Hello, World!\"\n",
    "print(a.upper())"
   ]
  },
  {
   "cell_type": "code",
   "execution_count": null,
   "id": "59eca4df-ad82-4ea7-9521-a240d8abbc4f",
   "metadata": {},
   "outputs": [],
   "source": [
    "# The lower() method returns the string in lower case:\n",
    "\n",
    "a = \"Hello, World!\"\n",
    "print(a.lower())"
   ]
  },
  {
   "cell_type": "code",
   "execution_count": null,
   "id": "ad1f9de1-83de-404f-ae43-432cc98467b5",
   "metadata": {},
   "outputs": [],
   "source": [
    "# The strip() method removes any whitespace from the beginning or the end:\n",
    "\n",
    "a = \" Hello, World! \"\n",
    "print(a.strip()) # returns \"Hello, World!\""
   ]
  },
  {
   "cell_type": "code",
   "execution_count": null,
   "id": "30a329cb-55e5-458c-a684-ad72c25a3bc8",
   "metadata": {},
   "outputs": [],
   "source": [
    "# The replace() method replaces a string with another string:\n",
    "\n",
    "a = \"Hello, World!\"\n",
    "print(a.replace(\"H\", \"J\"))"
   ]
  },
  {
   "cell_type": "code",
   "execution_count": null,
   "id": "ddf2d027-cbec-4478-b5f3-ee74b8a45f43",
   "metadata": {},
   "outputs": [],
   "source": [
    "# The split() method splits the string into substrings if it finds instances of the separator:\n",
    "\n",
    "a = \"Hello, World!\"\n",
    "print(a.split(\",\")) # returns ['Hello', ' World!']"
   ]
  },
  {
   "cell_type": "markdown",
   "id": "4baaf23f-f3c8-46c6-8fa8-aa980750f4f4",
   "metadata": {},
   "source": [
    "## Format strings\n",
    "The format() method takes the passed arguments, formats them, and places them in the string where the placeholders {} are:\n"
   ]
  },
  {
   "cell_type": "code",
   "execution_count": null,
   "id": "1b9c0452-46f5-4006-b674-971dcd3733c1",
   "metadata": {},
   "outputs": [],
   "source": [
    "# Use the format() method to insert numbers into strings:\n",
    "\n",
    "age = 36\n",
    "txt = \"My name is John, and I am {}\"\n",
    "print(txt.format(age))"
   ]
  },
  {
   "cell_type": "code",
   "execution_count": null,
   "id": "17ec04c9-9ef6-4eee-9b88-ecd85b68acd4",
   "metadata": {},
   "outputs": [],
   "source": [
    "# The format() method takes unlimited number of arguments, and are placed into the respective placeholders:\n",
    "\n",
    "quantity = 3\n",
    "itemno = 567\n",
    "price = 49.95\n",
    "myorder = \"I want {} pieces of item {} for {} dollars.\"\n",
    "print(myorder.format(quantity, itemno, price))"
   ]
  },
  {
   "cell_type": "code",
   "execution_count": null,
   "id": "e7a823b2-baee-4555-9e56-54981dcb65b5",
   "metadata": {},
   "outputs": [],
   "source": [
    "# You can use index numbers {0} to be sure the arguments are placed in the correct placeholders:\n",
    "\n",
    "quantity = 3\n",
    "itemno = 567\n",
    "price = 49.95\n",
    "myorder = \"I want to pay {2} dollars for {0} pieces of item {1}.\"\n",
    "print(myorder.format(quantity, itemno, price))"
   ]
  },
  {
   "cell_type": "markdown",
   "id": "9c51787d-1b6d-4d15-925d-b8b08790bb82",
   "metadata": {},
   "source": [
    "## Escape Character\n",
    "To insert characters that are illegal in a string, use an escape character.\n",
    "\n",
    "An escape character is a backslash \\ followed by the character you want to insert."
   ]
  },
  {
   "cell_type": "code",
   "execution_count": null,
   "id": "475d48c5-13d5-4085-89f2-6dd1d7af268b",
   "metadata": {},
   "outputs": [],
   "source": [
    "# The escape character allows you to use double quotes when you normally would not be allowed:\n",
    "\n",
    "txt = \"We are the so-called \\\"Vikings\\\" from the north.\"\n",
    "print(txt)"
   ]
  },
  {
   "cell_type": "markdown",
   "id": "c156c6da-fc86-4633-9b67-a4fafed4ee5e",
   "metadata": {},
   "source": [
    "Other escape characters used in Python:\n",
    "\n",
    "| Code | Result          |\n",
    "|------|-----------------|\n",
    "| \\'   | Single Quote    |\n",
    "| \\\\   | Backslash       |\n",
    "| \\n   | New Line        |\n",
    "| \\r   | Carriage Return |\n",
    "| \\t   | Tab             |\n",
    "| \\b   | Backspace       |\n",
    "| \\f   | Form Feed       |\n",
    "| \\ooo | Octal value     |\n",
    "| \\xhh | Hex value       |"
   ]
  },
  {
   "cell_type": "markdown",
   "id": "b1a592c9-a780-4a9f-91d0-994118cc6be0",
   "metadata": {},
   "source": [
    "## More string methods include"
   ]
  },
  {
   "cell_type": "markdown",
   "id": "8528859d-3ad7-4bd0-9dd4-0793b5baf0bf",
   "metadata": {},
   "source": [
    "| Method         | Description                                                                                   |\n",
    "|----------------|-----------------------------------------------------------------------------------------------|\n",
    "| capitalize()   | Converts the first character to upper case                                                    |\n",
    "| casefold()     | Converts string into lower case                                                               |\n",
    "| center()       | Returns a centered string                                                                     |\n",
    "| count()        | Returns the number of times a specified value occurs in a string                              |\n",
    "| encode()       | Returns an encoded version of the string                                                      |\n",
    "| endswith()     | Returns true if the string ends with the specified value                                      |\n",
    "| expandtabs()   | Sets the tab size of the string                                                               |\n",
    "| find()         | Searches the string for a specified value and returns the position of where it was found      |\n",
    "| format()       | Formats specified values in a string                                                          |\n",
    "| format_map()   | Formats specified values in a string                                                          |\n",
    "| index()        | Searches the string for a specified value and returns the position of where it was found      |\n",
    "| isalnum()      | Returns True if all characters in the string are alphanumeric                                 |\n",
    "| isalpha()      | Returns True if all characters in the string are in the alphabet                              |\n",
    "| isdecimal()    | Returns True if all characters in the string are decimals                                     |\n",
    "| isdigit()      | Returns True if all characters in the string are digits                                       |\n",
    "| isidentifier() | Returns True if the string is an identifier                                                   |\n",
    "| islower()      | Returns True if all characters in the string are lower case                                   |\n",
    "| isnumeric()    | Returns True if all characters in the string are numeric                                      |\n",
    "| isprintable()  | Returns True if all characters in the string are printable                                    |\n",
    "| isspace()      | Returns True if all characters in the string are whitespaces                                  |\n",
    "| istitle()      | Returns True if the string follows the rules of a title                                       |\n",
    "| isupper()      | Returns True if all characters in the string are upper case                                   |\n",
    "| join()         | Joins the elements of an iterable to the end of the string                                    |\n",
    "| ljust()        | Returns a left justified version of the string                                                |\n",
    "| lower()        | Converts a string into lower case                                                             |\n",
    "| lstrip()       | Returns a left trim version of the string                                                     |\n",
    "| maketrans()    | Returns a translation table to be used in translations                                        |\n",
    "| partition()    | Returns a tuple where the string is parted into three parts                                   |\n",
    "| replace()      | Returns a string where a specified value is replaced with a specified value                   |\n",
    "| rfind()        | Searches the string for a specified value and returns the last position of where it was found |\n",
    "| rindex()       | Searches the string for a specified value and returns the last position of where it was found |\n",
    "| rjust()        | Returns a right justified version of the string                                               |\n",
    "| rpartition()   | Returns a tuple where the string is parted into three parts                                   |\n",
    "| rsplit()       | Splits the string at the specified separator, and returns a list                              |\n",
    "| rstrip()       | Returns a right trim version of the string                                                    |\n",
    "| split()        | Splits the string at the specified separator, and returns a list                              |\n",
    "| splitlines()   | Splits the string at line breaks and returns a list                                           |\n",
    "| startswith()   | Returns true if the string starts with the specified value                                    |\n",
    "| strip()        | Returns a trimmed version of the string                                                       |\n",
    "| swapcase()     | Swaps cases, lower case becomes upper case and vice versa                                     |\n",
    "| title()        | Converts the first character of each word to upper case                                       |\n",
    "| translate()    | Returns a translated string                                                                   |\n",
    "| upper()        | Converts a string into upper case                                                             |\n",
    "| zfill()        | Fills the string with a specified number of 0 values at the beginning                         |"
   ]
  }
 ],
 "metadata": {
  "kernelspec": {
   "display_name": "Python 3 (ipykernel)",
   "language": "python",
   "name": "python3"
  },
  "language_info": {
   "codemirror_mode": {
    "name": "ipython",
    "version": 3
   },
   "file_extension": ".py",
   "mimetype": "text/x-python",
   "name": "python",
   "nbconvert_exporter": "python",
   "pygments_lexer": "ipython3",
   "version": "3.8.10"
  }
 },
 "nbformat": 4,
 "nbformat_minor": 5
}
