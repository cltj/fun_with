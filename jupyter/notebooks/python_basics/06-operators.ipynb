{
 "cells": [
  {
   "cell_type": "markdown",
   "id": "56892fed-fe93-4298-bc83-739904806f8a",
   "metadata": {},
   "source": [
    "# Operators"
   ]
  },
  {
   "cell_type": "markdown",
   "id": "34f99367-4e84-4678-8180-ab0ca752532d",
   "metadata": {},
   "source": [
    "## Python Arithmetic Operators\n",
    "Arithmetic operators are used with numeric values to perform common mathematical operations:\n",
    "\n",
    "| Operator | Name           | Example |\n",
    "|----------|----------------|---------|\n",
    "| +        | Addition       | x + y   |\n",
    "| -        | Subtraction    | x - y   |\n",
    "| *        | Multiplication | x * y   |\n",
    "| /        | Division       | x / y   |\n",
    "| %        | Modulus        | x % y   |\n",
    "| **       | Exponentiation | x ** y  |\n",
    "| //       | Floor division | x // y  |"
   ]
  },
  {
   "cell_type": "markdown",
   "id": "decf105f-b593-42c2-8e9b-46b0b2dc8b8b",
   "metadata": {},
   "source": [
    "## Python Assignment Operators\n",
    "Assignment operators are used to assign values to variables:\n",
    "\n",
    "| Operator | Example | Same As    |\n",
    "|----------|---------|------------|\n",
    "| =        | x = 5   | x = 5      |\n",
    "| +=       | x += 3  | x = x + 3  |\n",
    "| -=       | x -= 3  | x = x - 3  |\n",
    "| *=       | x *= 3  | x = x * 3  |\n",
    "| /=       | x /= 3  | x = x / 3  |\n",
    "| %=       | x %= 3  | x = x % 3  |\n",
    "| //=      | x //= 3 | x = x // 3 |\n",
    "| **=      | x **= 3 | x = x ** 3 |\n",
    "| &=       | x &= 3  | x = x & 3  |\n",
    "| \\|=      | x \\|= 3 | x = x \\| 3 |\n",
    "| ^=       | x ^= 3  | x = x ^ 3  |\n",
    "| >>=      | x >>= 3 | x = x >> 3 |\n",
    "| <<=      | x <<= 3 | x = x << 3 |"
   ]
  },
  {
   "cell_type": "markdown",
   "id": "de0514db-b8c6-45e1-9f26-03df4002537b",
   "metadata": {},
   "source": [
    "## Python Comparison Operators\n",
    "Comparison operators are used to compare two values:\n",
    "\n",
    "| Operator | Name                     | Example |\n",
    "|----------|--------------------------|---------|\n",
    "| ==       | Equal                    | x == y  |\n",
    "| !=       | Not equal                | x != y  |\n",
    "| >        | Greater than             | x > y   |\n",
    "| <        | Less than                | x < y   |\n",
    "| >=       | Greater than or equal to | x >= y  |\n",
    "| <=       | Less than or equal to    | x <= y  |"
   ]
  },
  {
   "cell_type": "markdown",
   "id": "7d4c1706-a117-44dd-bf2f-ac16a4d2a87b",
   "metadata": {},
   "source": [
    "## Python Logical Operators\n",
    "Logical operators are used to combine conditional statements:\n",
    "\n",
    "| Operator | Description                                             | Example               |\n",
    "|----------|---------------------------------------------------------|-----------------------|\n",
    "| and      | Returns True if both statements are true                | x < 5 and  x < 10     |\n",
    "| or       | Returns True if one of the statements is true           | x < 5 or x < 4        |\n",
    "| not      | Reverse the result, returns False if the result is true | not(x < 5 and x < 10) |"
   ]
  },
  {
   "cell_type": "markdown",
   "id": "ac4ffbdf-098d-4498-a0bd-f935b4e89d5f",
   "metadata": {},
   "source": [
    "## Python Identity Operators\n",
    "\n",
    "Identity operators are used to compare the objects, not if they are equal, but if they are actually the same object, with the same memory location:\n",
    "\n",
    "| Operator | Description                                            | Example    |\n",
    "|----------|--------------------------------------------------------|------------|\n",
    "| is       | Returns True if both variables are the same object     | x is y     |\n",
    "| is not   | Returns True if both variables are not the same object | x is not y |"
   ]
  },
  {
   "cell_type": "markdown",
   "id": "9d025598-180f-4bd5-9858-0db38522b71a",
   "metadata": {},
   "source": [
    "## Python Membership Operators\n",
    "Membership operators are used to test if a sequence is presented in an object:\n",
    "\n",
    "| Operator | Description                                                                      | Example    |\n",
    "|----------|----------------------------------------------------------------------------------|------------|\n",
    "| in       | Returns True if a sequence with the specified value is present in the object     | x in y     |\n",
    "| not in   | Returns True if a sequence with the specified value is not present in the object | x not in y |"
   ]
  },
  {
   "cell_type": "markdown",
   "id": "9aa2182b-a5e7-4615-b7c4-8a224a170e6f",
   "metadata": {},
   "source": [
    "## Python Bitwise Operators\n",
    "Bitwise operators are used to compare (binary) numbers:\n",
    "\n",
    "| Operator | Name                 | Description                                                                                             |\n",
    "|----------|----------------------|---------------------------------------------------------------------------------------------------------|\n",
    "| &        | AND                  | Sets each bit to 1 if both bits are 1                                                                   |\n",
    "| \\|       | OR                   | Sets each bit to 1 if one of two bits is 1                                                              |\n",
    "|  ^       | XOR                  | Sets each bit to 1 if only one of two bits is 1                                                         |\n",
    "| ~        | NOT                  | Inverts all the bits                                                                                    |\n",
    "| <<       | Zero fill left shift | Shift left by pushing zeros in from the right and let the leftmost bits fall off                        |\n",
    "| >>       | Signed right shift   | Shift right by pushing copies of the leftmost bit in from the left, and let the rightmost bits fall off |"
   ]
  }
 ],
 "metadata": {
  "kernelspec": {
   "display_name": "Python 3 (ipykernel)",
   "language": "python",
   "name": "python3"
  },
  "language_info": {
   "codemirror_mode": {
    "name": "ipython",
    "version": 3
   },
   "file_extension": ".py",
   "mimetype": "text/x-python",
   "name": "python",
   "nbconvert_exporter": "python",
   "pygments_lexer": "ipython3",
   "version": "3.8.10"
  }
 },
 "nbformat": 4,
 "nbformat_minor": 5
}
