{
 "cells": [
  {
   "cell_type": "markdown",
   "id": "34ba6bee-e110-45cc-9009-bd63cc445a09",
   "metadata": {},
   "source": [
    "# List Items\n",
    "List items are ordered, changeable, and allow duplicate values.\n",
    "\n",
    "### Ordered\n",
    "When we say that lists are ordered, it means that the items have a defined order, and that order will not change.\n",
    "\n",
    "If you add new items to a list, the new items will be placed at the end of the list.\n",
    "\n",
    "### Changeable\n",
    "The list is changeable, meaning that we can change, add, and remove items in a list after it has been created.\n",
    "\n",
    "### Allow Duplicates\n",
    "Since lists are indexed, lists can have items with the same value:"
   ]
  },
  {
   "cell_type": "code",
   "execution_count": 1,
   "id": "bae8083a-63ec-4fb9-8b99-daec06d0a88f",
   "metadata": {},
   "outputs": [
    {
     "name": "stdout",
     "output_type": "stream",
     "text": [
      "['apple', 'banana', 'cherry', 'apple', 'cherry']\n"
     ]
    }
   ],
   "source": [
    "# Lists allow duplicate values:\n",
    "\n",
    "thislist = [\"apple\", \"banana\", \"cherry\", \"apple\", \"cherry\"]\n",
    "print(thislist)"
   ]
  },
  {
   "cell_type": "markdown",
   "id": "93ab5158-b06f-4a56-85ae-e432e9e2690e",
   "metadata": {},
   "source": [
    "## Access Items\n",
    "List items are indexed and you can access them by referring to the index number:"
   ]
  },
  {
   "cell_type": "code",
   "execution_count": 4,
   "id": "7628c1a7-8440-4d6d-b2bf-1019cc2195b7",
   "metadata": {},
   "outputs": [
    {
     "name": "stdout",
     "output_type": "stream",
     "text": [
      "banana\n"
     ]
    }
   ],
   "source": [
    "# Print the second item of the list:\n",
    "\n",
    "thislist = [\"apple\", \"banana\", \"cherry\"]\n",
    "print(thislist[1])"
   ]
  },
  {
   "cell_type": "markdown",
   "id": "49d16fdc-013b-4edd-9eba-aa23818c8815",
   "metadata": {},
   "source": [
    "### Negative Indexing\n",
    "Negative indexing means start from the end\n",
    "\n",
    "-1 refers to the last item, -2 refers to the second last item etc."
   ]
  },
  {
   "cell_type": "code",
   "execution_count": 3,
   "id": "b6519b82-ec67-47cb-95fa-d1495f3857fb",
   "metadata": {},
   "outputs": [
    {
     "name": "stdout",
     "output_type": "stream",
     "text": [
      "cherry\n"
     ]
    }
   ],
   "source": [
    "# Print the last item of the list:\n",
    "\n",
    "thislist = [\"apple\", \"banana\", \"cherry\"]\n",
    "print(thislist[-1])"
   ]
  },
  {
   "cell_type": "markdown",
   "id": "eda9bd11-f39e-437d-9f85-bf05f4435801",
   "metadata": {},
   "source": [
    "### Range of Indexes\n",
    "You can specify a range of indexes by specifying where to start and where to end the range. (See Slicing under 04-strings)\n",
    "\n",
    "When specifying a range, the return value will be a new list with the specified items."
   ]
  },
  {
   "cell_type": "code",
   "execution_count": 7,
   "id": "74821341-2248-4ad0-82a9-00582165b383",
   "metadata": {},
   "outputs": [
    {
     "name": "stdout",
     "output_type": "stream",
     "text": [
      "['cherry', 'orange', 'kiwi']\n"
     ]
    }
   ],
   "source": [
    "thislist = [\"apple\", \"banana\", \"cherry\", \"orange\", \"kiwi\", \"melon\", \"mango\"]\n",
    "print(thislist[2:5])"
   ]
  },
  {
   "cell_type": "markdown",
   "id": "5dfe37f9-c59e-48ce-b35f-2395d7cd24a0",
   "metadata": {},
   "source": [
    "## Change Item Value\n",
    "To change the value of a specific item, refer to the index number:"
   ]
  },
  {
   "cell_type": "code",
   "execution_count": 8,
   "id": "13b5c273-bb65-4828-b396-75840fb3a9f6",
   "metadata": {},
   "outputs": [
    {
     "name": "stdout",
     "output_type": "stream",
     "text": [
      "['apple', 'blackcurrant', 'cherry']\n"
     ]
    }
   ],
   "source": [
    "thislist = [\"apple\", \"banana\", \"cherry\"]\n",
    "thislist[1] = \"blackcurrant\"\n",
    "print(thislist)"
   ]
  },
  {
   "cell_type": "code",
   "execution_count": 11,
   "id": "2691e047-0419-49e9-9c3b-d76e07b2d5b7",
   "metadata": {},
   "outputs": [
    {
     "name": "stdout",
     "output_type": "stream",
     "text": [
      "['apple', 'blackcurrant', 'watermelon', 'orange', 'kiwi', 'mango']\n"
     ]
    }
   ],
   "source": [
    "# Change a Range of Item Values\n",
    "\n",
    "thislist = [\"apple\", \"banana\", \"cherry\", \"orange\", \"kiwi\", \"mango\"]\n",
    "thislist[1:3] = [\"blackcurrant\", \"watermelon\"]\n",
    "print(thislist)"
   ]
  },
  {
   "cell_type": "code",
   "execution_count": 12,
   "id": "1c871740-571b-425c-bfb5-483cfeb5cb24",
   "metadata": {},
   "outputs": [
    {
     "name": "stdout",
     "output_type": "stream",
     "text": [
      "['apple', 'blackcurrant', 'watermelon', 'cherry']\n"
     ]
    }
   ],
   "source": [
    "# Change the second value by replacing it with two new values:\n",
    "\n",
    "thislist = [\"apple\", \"banana\", \"cherry\"]\n",
    "thislist[1:2] = [\"blackcurrant\", \"watermelon\"]\n",
    "print(thislist)"
   ]
  },
  {
   "cell_type": "code",
   "execution_count": 13,
   "id": "70780f35-8d12-4439-80f7-ac1572bf23ab",
   "metadata": {},
   "outputs": [
    {
     "name": "stdout",
     "output_type": "stream",
     "text": [
      "['apple', 'watermelon']\n"
     ]
    }
   ],
   "source": [
    "# Change the second and third value by replacing it with one value:\n",
    "\n",
    "thislist = [\"apple\", \"banana\", \"cherry\"]\n",
    "thislist[1:3] = [\"watermelon\"]\n",
    "print(thislist)"
   ]
  },
  {
   "cell_type": "code",
   "execution_count": 14,
   "id": "61e9e369-2043-4f8b-8d3d-8ef1aba81ef7",
   "metadata": {},
   "outputs": [
    {
     "name": "stdout",
     "output_type": "stream",
     "text": [
      "['apple', 'banana', 'watermelon', 'cherry']\n"
     ]
    }
   ],
   "source": [
    "# Insert \"watermelon\" as the third item:\n",
    "\n",
    "thislist = [\"apple\", \"banana\", \"cherry\"]\n",
    "thislist.insert(2, \"watermelon\")\n",
    "print(thislist)"
   ]
  },
  {
   "cell_type": "markdown",
   "id": "8589a897-f9c5-4cb7-b924-b7d9bb34b97f",
   "metadata": {},
   "source": [
    "## Append\n",
    "To add an item to the end of the list, use the append() method:"
   ]
  },
  {
   "cell_type": "markdown",
   "id": "d7b4ddf4-182b-4fbe-8c38-cd4af987bd34",
   "metadata": {},
   "source": [
    "### Insert Items\n",
    "To insert a list item at a specified index, use the insert() method.\n",
    "\n",
    "The ```insert()``` method inserts an item at the specified index:"
   ]
  },
  {
   "cell_type": "code",
   "execution_count": 15,
   "id": "56bda7cc-a02d-4167-a4c6-21abdcc61606",
   "metadata": {},
   "outputs": [
    {
     "name": "stdout",
     "output_type": "stream",
     "text": [
      "['apple', 'orange', 'banana', 'cherry']\n"
     ]
    }
   ],
   "source": [
    "# Insert an item as the second position:\n",
    "\n",
    "thislist = [\"apple\", \"banana\", \"cherry\"]\n",
    "thislist.insert(1, \"orange\")\n",
    "print(thislist)"
   ]
  },
  {
   "cell_type": "markdown",
   "id": "a245affc-2041-4003-9355-1841efd18028",
   "metadata": {},
   "source": [
    "## Extend List\n",
    "To append elements from another list to the current list, use the ```extend()``` method."
   ]
  },
  {
   "cell_type": "code",
   "execution_count": 16,
   "id": "d62b5d0f-c0a7-4cdc-bf2b-097b05c19230",
   "metadata": {},
   "outputs": [
    {
     "name": "stdout",
     "output_type": "stream",
     "text": [
      "['apple', 'banana', 'cherry', 'mango', 'pineapple', 'papaya']\n"
     ]
    }
   ],
   "source": [
    "# Add the elements of tropical to thislist:\n",
    "\n",
    "thislist = [\"apple\", \"banana\", \"cherry\"]\n",
    "tropical = [\"mango\", \"pineapple\", \"papaya\"]\n",
    "thislist.extend(tropical)\n",
    "print(thislist)"
   ]
  },
  {
   "cell_type": "markdown",
   "id": "91b0f81a-400a-44bd-971f-8444fe1357ec",
   "metadata": {},
   "source": [
    "### Add Any Iterable\n",
    "The ```extend()``` method does not have to append lists, you can add any iterable object (tuples, sets, dictionaries etc.)"
   ]
  },
  {
   "cell_type": "code",
   "execution_count": 22,
   "id": "c21f7d2a-887e-46bc-a5b9-afe952027ee2",
   "metadata": {},
   "outputs": [
    {
     "name": "stdout",
     "output_type": "stream",
     "text": [
      "['apple', 'banana', 'cherry', 'kiwi', 'orange']\n"
     ]
    }
   ],
   "source": [
    "# Add elements of a tuple to a list:\n",
    "\n",
    "thislist = [\"apple\", \"banana\", \"cherry\"]\n",
    "thistuple = (\"kiwi\", \"orange\")\n",
    "thislist.extend(thistuple)\n",
    "print(thislist)"
   ]
  },
  {
   "cell_type": "markdown",
   "id": "3165d3b2-7dfb-4144-9c7c-6992c92b99b7",
   "metadata": {},
   "source": [
    "## Remove \n",
    "\n",
    "### Specified Item\n",
    "The ```remove()``` method removes the specified item."
   ]
  },
  {
   "cell_type": "code",
   "execution_count": 21,
   "id": "79806fb3-24bf-4ec0-9d87-ef33555c4e25",
   "metadata": {},
   "outputs": [
    {
     "name": "stdout",
     "output_type": "stream",
     "text": [
      "['apple', 'cherry']\n"
     ]
    }
   ],
   "source": [
    "# Remove \"banana\":\n",
    "\n",
    "thislist = [\"apple\", \"banana\", \"cherry\"]\n",
    "thislist.remove(\"banana\")\n",
    "print(thislist)"
   ]
  },
  {
   "cell_type": "markdown",
   "id": "b07698ac-4cc4-4e82-99a5-f6a2e29eb79a",
   "metadata": {},
   "source": [
    "### Remove Specified Index\n",
    "The ```pop()``` method removes the specified index."
   ]
  },
  {
   "cell_type": "code",
   "execution_count": 24,
   "id": "2650ac40-fc69-4520-9aea-858027493f66",
   "metadata": {},
   "outputs": [
    {
     "name": "stdout",
     "output_type": "stream",
     "text": [
      "['apple', 'cherry']\n"
     ]
    }
   ],
   "source": [
    "# Remove the second item:\n",
    "\n",
    "thislist = [\"apple\", \"banana\", \"cherry\"]\n",
    "thislist.pop(1)\n",
    "print(thislist)"
   ]
  },
  {
   "cell_type": "code",
   "execution_count": 25,
   "id": "2188ab94-7793-4cf3-a933-0cfc55a38164",
   "metadata": {},
   "outputs": [
    {
     "name": "stdout",
     "output_type": "stream",
     "text": [
      "['apple', 'banana']\n"
     ]
    }
   ],
   "source": [
    "#If you do not specify the index, the pop() method removes the last item.\n",
    "\n",
    "thislist = [\"apple\", \"banana\", \"cherry\"]\n",
    "thislist.pop()\n",
    "print(thislist)"
   ]
  },
  {
   "cell_type": "markdown",
   "id": "5f7bbaa1-8b1c-4fca-b148-893189e68b3d",
   "metadata": {},
   "source": [
    "The ```del``` keyword also removes the specified index:"
   ]
  },
  {
   "cell_type": "code",
   "execution_count": 29,
   "id": "2b11425e-dec1-40ea-9a1f-536a2fd1ae77",
   "metadata": {},
   "outputs": [
    {
     "name": "stdout",
     "output_type": "stream",
     "text": [
      "['banana', 'cherry']\n"
     ]
    }
   ],
   "source": [
    "thislist = [\"apple\", \"banana\", \"cherry\"]\n",
    "del thislist[0]\n",
    "print(thislist)"
   ]
  },
  {
   "cell_type": "code",
   "execution_count": 30,
   "id": "3cc9ac38-5572-4972-9ca2-e4665c6c417d",
   "metadata": {},
   "outputs": [],
   "source": [
    "# The del keyword can also delete the list completely.\n",
    "# Delete the entire list:\n",
    "\n",
    "thislist = [\"apple\", \"banana\", \"cherry\"]\n",
    "del thislist"
   ]
  },
  {
   "cell_type": "markdown",
   "id": "322d09ca-1c5c-47d8-b742-92746f8b867d",
   "metadata": {},
   "source": [
    "The ```clear()``` method empties the list.\n",
    "The list still remains, but it has no content."
   ]
  },
  {
   "cell_type": "code",
   "execution_count": 31,
   "id": "adcf682e-adc7-480b-b6bc-bab2ad81cb3d",
   "metadata": {},
   "outputs": [
    {
     "name": "stdout",
     "output_type": "stream",
     "text": [
      "[]\n"
     ]
    }
   ],
   "source": [
    "# Clear the list content:\n",
    "\n",
    "thislist = [\"apple\", \"banana\", \"cherry\"]\n",
    "thislist.clear()\n",
    "print(thislist)"
   ]
  },
  {
   "cell_type": "markdown",
   "id": "d76bb597-a009-447f-8777-58761d20ba49",
   "metadata": {},
   "source": [
    "## List Comprehension\n",
    "List comprehension offers a shorter syntax when you want to create a new list based on the values of an existing list.\n",
    "\n",
    "Example:\n",
    "\n",
    "Based on a list of fruits, you want a new list, containing only the fruits with the letter \"a\" in the name.\n",
    "\n",
    "Without list comprehension you will have to write a for statement with a conditional test inside:"
   ]
  },
  {
   "cell_type": "code",
   "execution_count": 35,
   "id": "909d12a0-3494-4715-9d21-41d4ee929c60",
   "metadata": {},
   "outputs": [
    {
     "name": "stdout",
     "output_type": "stream",
     "text": [
      "['apple', 'banana', 'mango']\n"
     ]
    }
   ],
   "source": [
    "# Example\n",
    "fruits = [\"apple\", \"banana\", \"cherry\", \"kiwi\", \"mango\"]\n",
    "newlist = []\n",
    "\n",
    "for x in fruits:\n",
    "  if \"a\" in x:\n",
    "    newlist.append(x)\n",
    "\n",
    "print(newlist)"
   ]
  },
  {
   "cell_type": "markdown",
   "id": "ebbd8d8c-ab90-42a2-8930-43182ede315d",
   "metadata": {},
   "source": [
    "With list comprehension you can do all that with only one line of code:"
   ]
  },
  {
   "cell_type": "code",
   "execution_count": 38,
   "id": "675ab43a-a674-4c03-ba66-5fbbacda136f",
   "metadata": {},
   "outputs": [
    {
     "name": "stdout",
     "output_type": "stream",
     "text": [
      "['apple', 'banana', 'mango']\n"
     ]
    }
   ],
   "source": [
    "# Example\n",
    "fruits = [\"apple\", \"banana\", \"cherry\", \"kiwi\", \"mango\"]\n",
    "\n",
    "newlist = [x for x in fruits if \"a\" in x]\n",
    "\n",
    "print(newlist)"
   ]
  },
  {
   "cell_type": "markdown",
   "id": "751ff132-3f5f-4332-a8fb-1e69c308e306",
   "metadata": {},
   "source": [
    "### The Syntax\n",
    "```newlist = [expression for item in iterable if condition == True]```\n",
    "<p> The return value is a new list, leaving the old list unchanged.</p>\n",
    "    \n",
    "- Condition (Optional)\n",
    "- Iterable\n",
    "- Expression"
   ]
  },
  {
   "cell_type": "markdown",
   "id": "e26fa3ef-0cd9-4c90-a54b-9cc5ad63d6f8",
   "metadata": {},
   "source": [
    "##### Condition\n",
    "The condition is like a filter that only accepts the items that valuate to True.\n",
    "\n",
    "Example\n",
    "Only accept items that are not \"apple\":\n",
    "\n",
    "```newlist = [x for x in fruits if x != \"apple\"]```\n",
    "\n",
    "The condition if x != \"apple\"  will return True for all elements other than \"apple\", making the new list contain all fruits except \"apple\".\n",
    "\n",
    "The condition is optional and can be omitted:\n",
    "\n",
    "Example\n",
    "With no if statement:\n",
    "\n",
    "```newlist = [x for x in fruits]```"
   ]
  },
  {
   "cell_type": "markdown",
   "id": "1ce8b075-ddfe-4777-901a-f6d3e0ae86cb",
   "metadata": {},
   "source": [
    "##### Iterable\n",
    "The iterable can be any iterable object, like a list, tuple, set etc.\n",
    "\n",
    "Example\n",
    "You can use the ```range()``` function to create an iterable:\n",
    "\n",
    "```newlist = [x for x in range(10)]```\n",
    "\n",
    "Same example, but with a condition:\n",
    "Accept only numbers lower than 5:\n",
    "\n",
    "```newlist = [x for x in range(10) if x < 5]```"
   ]
  },
  {
   "cell_type": "markdown",
   "id": "a0a21443-6c2f-440f-9e3d-71adda1269bb",
   "metadata": {},
   "source": [
    "##### Expression\n",
    "The expression is the current item in the iteration, but it is also the outcome, which you can manipulate before it ends up like a list item in the new list:\n",
    "\n",
    "Set the values in the new list to upper case:\n",
    "\n",
    "```newlist = [x.upper() for x in fruits]```\n",
    "\n",
    "You can set the outcome to whatever you like:\n",
    "Set all values in the new list to 'hello':\n",
    "\n",
    "```newlist = ['hello' for x in fruits]```\n",
    "\n",
    "The expression can also contain conditions, not like a filter, but as a way to manipulate the outcome:\n",
    "Return \"orange\" instead of \"banana\":\n",
    "\n",
    "```newlist = [x if x != \"banana\" else \"orange\" for x in fruits]```\n",
    "\n",
    "The expression in the example above says:\n",
    "\n",
    "\"Return the item if it is not banana, if it is banana return orange\".\n",
    "\n"
   ]
  },
  {
   "cell_type": "markdown",
   "id": "5d70306b-16a3-4a15-9542-38dbb33087fd",
   "metadata": {},
   "source": [
    "## Sort Lists"
   ]
  },
  {
   "cell_type": "markdown",
   "id": "6c67cf6e-ceae-436b-8943-eee400f383bb",
   "metadata": {},
   "source": [
    "### Sort List Alphanumerically\n",
    "List objects have a sort() method that will sort the list alphanumerically, ascending, by default:"
   ]
  },
  {
   "cell_type": "code",
   "execution_count": 43,
   "id": "a694a461-d643-4767-87ff-135be2edf98f",
   "metadata": {},
   "outputs": [
    {
     "name": "stdout",
     "output_type": "stream",
     "text": [
      "['banana', 'kiwi', 'mango', 'orange', 'pineapple']\n",
      "[23, 50, 65, 82, 100]\n"
     ]
    }
   ],
   "source": [
    "# Sort the list alphabetically:\n",
    "\n",
    "thislist = [\"orange\", \"mango\", \"kiwi\", \"pineapple\", \"banana\"]\n",
    "thislist.sort()\n",
    "print(thislist)\n",
    "\n",
    "# Sort the list numerically:\n",
    "\n",
    "thislist = [100, 50, 65, 82, 23]\n",
    "thislist.sort()\n",
    "print(thislist)"
   ]
  },
  {
   "cell_type": "markdown",
   "id": "d127dd59-1fe3-4c6b-a8f0-b11b18d2faa6",
   "metadata": {},
   "source": [
    "### Sort Descending\n",
    "To sort descending, use the keyword argument ```reverse = True:```"
   ]
  },
  {
   "cell_type": "code",
   "execution_count": 44,
   "id": "ee274e42-c6be-49c2-8106-c9b784eb0f6c",
   "metadata": {},
   "outputs": [
    {
     "name": "stdout",
     "output_type": "stream",
     "text": [
      "['pineapple', 'orange', 'mango', 'kiwi', 'banana']\n",
      "[100, 82, 65, 50, 23]\n"
     ]
    }
   ],
   "source": [
    "# Sort the list descending:\n",
    "\n",
    "thislist = [\"orange\", \"mango\", \"kiwi\", \"pineapple\", \"banana\"]\n",
    "thislist.sort(reverse = True)\n",
    "print(thislist)\n",
    "\n",
    "# Sort the list descending:\n",
    "\n",
    "thislist = [100, 50, 65, 82, 23]\n",
    "thislist.sort(reverse = True)\n",
    "print(thislist)"
   ]
  },
  {
   "cell_type": "markdown",
   "id": "d032b92c-1266-432a-8273-531665f9d79f",
   "metadata": {},
   "source": [
    "### Customize Sort Function\n",
    "You can also customize your own function by using the keyword argument key = function.\n",
    "\n",
    "The function will return a number that will be used to sort the list (the lowest number first):"
   ]
  },
  {
   "cell_type": "code",
   "execution_count": 45,
   "id": "aa705faf-e9a4-4447-886d-c7a3a5e2be47",
   "metadata": {},
   "outputs": [
    {
     "name": "stdout",
     "output_type": "stream",
     "text": [
      "[50, 65, 23, 82, 100]\n"
     ]
    }
   ],
   "source": [
    "# Sort the list based on how close the number is to 50:\n",
    "\n",
    "def myfunc(n):\n",
    "  return abs(n - 50)\n",
    "\n",
    "thislist = [100, 50, 65, 82, 23]\n",
    "thislist.sort(key = myfunc)\n",
    "print(thislist)"
   ]
  },
  {
   "cell_type": "markdown",
   "id": "21e92212-204f-4e20-bf7e-ce3848bd252b",
   "metadata": {},
   "source": [
    "### Case Insensitive Sort\n",
    "By default the ```sort()``` method is case sensitive, resulting in all capital letters being sorted before lower case letters:"
   ]
  },
  {
   "cell_type": "code",
   "execution_count": 47,
   "id": "70501e26-2fb5-40d2-8eb1-3f2b2bd63756",
   "metadata": {},
   "outputs": [
    {
     "name": "stdout",
     "output_type": "stream",
     "text": [
      "['Kiwi', 'Orange', 'banana', 'cherry']\n"
     ]
    }
   ],
   "source": [
    "# Case sensitive sorting can give an unexpected result:\n",
    "\n",
    "thislist = [\"banana\", \"Orange\", \"Kiwi\", \"cherry\"]\n",
    "thislist.sort()\n",
    "print(thislist)"
   ]
  },
  {
   "cell_type": "markdown",
   "id": "39c6d839-0662-4384-b872-8e956f8c40b8",
   "metadata": {},
   "source": [
    "Luckily we can use built-in functions as key functions when sorting a list.\n",
    "\n",
    "So if you want a case-insensitive sort function, use str.lower as a key function:"
   ]
  },
  {
   "cell_type": "code",
   "execution_count": 48,
   "id": "3eaafe41-c696-45c8-bfda-3bb95a0a2a0b",
   "metadata": {},
   "outputs": [
    {
     "name": "stdout",
     "output_type": "stream",
     "text": [
      "['banana', 'cherry', 'Kiwi', 'Orange']\n"
     ]
    }
   ],
   "source": [
    "# Perform a case-insensitive sort of the list:\n",
    "\n",
    "thislist = [\"banana\", \"Orange\", \"Kiwi\", \"cherry\"]\n",
    "thislist.sort(key = str.lower)\n",
    "print(thislist)"
   ]
  },
  {
   "cell_type": "markdown",
   "id": "c6a79b91-6a6e-4c85-a93e-d40b382b69d5",
   "metadata": {},
   "source": [
    "### Reverse Order\n",
    "What if you want to reverse the order of a list, regardless of the alphabet?\n",
    "\n",
    "The ```reverse()``` method reverses the current sorting order of the elements."
   ]
  },
  {
   "cell_type": "code",
   "execution_count": 52,
   "id": "7801b014-165a-4625-a5b2-411a4a2414db",
   "metadata": {},
   "outputs": [
    {
     "name": "stdout",
     "output_type": "stream",
     "text": [
      "['cherry', 'Kiwi', 'Orange', 'banana']\n"
     ]
    }
   ],
   "source": [
    "# Reverse the order of the list items:\n",
    "\n",
    "thislist = [\"banana\", \"Orange\", \"Kiwi\", \"cherry\"]\n",
    "thislist.reverse()\n",
    "print(thislist)"
   ]
  },
  {
   "cell_type": "markdown",
   "id": "f24ec34e-0ab3-4037-a5cb-55a9a9b75ab3",
   "metadata": {},
   "source": [
    "## Copy lists\n",
    "You cannot copy a list simply by typing ```list2 = list1```, because: ```list2``` will only be a reference to ```list1```, and changes made in ```list1``` will automatically also be made in ```list2```.\n",
    "\n",
    "There are ways to make a copy, one way is to use the built-in List method ```copy()```."
   ]
  },
  {
   "cell_type": "code",
   "execution_count": 55,
   "id": "2a49b05f-7a44-4fcc-9c2e-4a2c4b571662",
   "metadata": {},
   "outputs": [
    {
     "name": "stdout",
     "output_type": "stream",
     "text": [
      "['apple', 'banana', 'cherry']\n"
     ]
    }
   ],
   "source": [
    "#Make a copy of a list with the copy() method:\n",
    "\n",
    "thislist = [\"apple\", \"banana\", \"cherry\"]\n",
    "mylist = thislist.copy()\n",
    "print(mylist)"
   ]
  },
  {
   "cell_type": "markdown",
   "id": "db5c0b23-9560-4771-9646-31aba44211b5",
   "metadata": {},
   "source": [
    "Another way to make a copy is to use the built-in method ```list()```."
   ]
  },
  {
   "cell_type": "code",
   "execution_count": 56,
   "id": "1f848ad5-6b54-410d-b902-16d7a8f32838",
   "metadata": {},
   "outputs": [
    {
     "name": "stdout",
     "output_type": "stream",
     "text": [
      "['apple', 'banana', 'cherry']\n"
     ]
    }
   ],
   "source": [
    "# Make a copy of a list with the list() method:\n",
    "\n",
    "thislist = [\"apple\", \"banana\", \"cherry\"]\n",
    "mylist = list(thislist)\n",
    "print(mylist)"
   ]
  },
  {
   "cell_type": "markdown",
   "id": "5eb720e4-c750-470c-8308-da1f48861316",
   "metadata": {},
   "source": [
    "## Join Lists\n",
    "Join Two Lists\n",
    "There are several ways to join, or concatenate, two or more lists in Python.\n",
    "\n",
    "One of the easiest ways are by using the ```+``` operator."
   ]
  },
  {
   "cell_type": "code",
   "execution_count": 58,
   "id": "d3d8a3e3-db8b-4ca5-843b-784709c3d82a",
   "metadata": {},
   "outputs": [
    {
     "name": "stdout",
     "output_type": "stream",
     "text": [
      "['a', 'b', 'c', 1, 2, 3]\n",
      "['a', 'b', 'c', 1, 2, 3]\n",
      "['a', 'b', 'c', 1, 2, 3]\n"
     ]
    }
   ],
   "source": [
    "# Join two list:\n",
    "\n",
    "list1 = [\"a\", \"b\", \"c\"]\n",
    "list2 = [1, 2, 3]\n",
    "\n",
    "list3 = list1 + list2\n",
    "print(list3)\n",
    "\n",
    "# Append list2 into list1:\n",
    "\n",
    "list1 = [\"a\", \"b\" , \"c\"]\n",
    "list2 = [1, 2, 3]\n",
    "\n",
    "for x in list2:\n",
    "  list1.append(x)\n",
    "\n",
    "print(list1)\n",
    "\n",
    "# Use the extend() method to add list2 at the end of list1:\n",
    "\n",
    "list1 = [\"a\", \"b\" , \"c\"]\n",
    "list2 = [1, 2, 3]\n",
    "\n",
    "list1.extend(list2)\n",
    "print(list1)"
   ]
  },
  {
   "cell_type": "markdown",
   "id": "e2c24626-79d5-4037-9abd-9a6ebca3960c",
   "metadata": {},
   "source": [
    "## List methods\n",
    "\n",
    "| Method    | Description                                                                  |\n",
    "|-----------|------------------------------------------------------------------------------|\n",
    "| append()  | Adds an element at the end of the list                                       |\n",
    "| clear()   | Removes all the elements from the list                                       |\n",
    "| copy()    | Returns a copy of the list                                                   |\n",
    "| count()   | Returns the number of elements with the specified value                      |\n",
    "| extend()  | Add the elements of a list (or any iterable), to the end of the current list |\n",
    "| index()   | Returns the index of the first element with the specified value              |\n",
    "| insert()  | Adds an element at the specified position                                    |\n",
    "| pop()     | Removes the element at the specified position                                |\n",
    "| remove()  | Removes the item with the specified value                                    |\n",
    "| reverse() | Reverses the order of the list                                               |\n",
    "| sort()    | Sorts the list                                                               |"
   ]
  },
  {
   "cell_type": "code",
   "execution_count": null,
   "id": "3ac992c1-011a-44ce-b351-a47b542b9dbd",
   "metadata": {},
   "outputs": [],
   "source": []
  }
 ],
 "metadata": {
  "kernelspec": {
   "display_name": "Python 3 (ipykernel)",
   "language": "python",
   "name": "python3"
  },
  "language_info": {
   "codemirror_mode": {
    "name": "ipython",
    "version": 3
   },
   "file_extension": ".py",
   "mimetype": "text/x-python",
   "name": "python",
   "nbconvert_exporter": "python",
   "pygments_lexer": "ipython3",
   "version": "3.8.10"
  }
 },
 "nbformat": 4,
 "nbformat_minor": 5
}
