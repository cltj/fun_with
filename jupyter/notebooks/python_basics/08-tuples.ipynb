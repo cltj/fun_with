{
 "cells": [
  {
   "cell_type": "markdown",
   "id": "c2a35b28-a76e-45df-8822-b1ead1beb2f5",
   "metadata": {},
   "source": [
    "# Tuples"
   ]
  },
  {
   "cell_type": "markdown",
   "id": "fccb16c3-a273-47d7-bba1-2988a6c9a2c1",
   "metadata": {},
   "source": [
    "## Tuple Items\n",
    "Tuple items are ordered, unchangeable, and allow duplicate values.\n",
    "\n",
    "Tuple items are indexed, the first item has index ```[0]```, the second item has index ```[1]``` etc.\n",
    "\n",
    "- Ordered:\n",
    "When we say that tuples are ordered, it means that the items have a defined order, and that order will not change.\n",
    "\n",
    "- Unchangeable:\n",
    "Tuples are unchangeable, meaning that we cannot change, add or remove items after the tuple has been created.\n",
    "\n",
    "- Allow Duplicates:\n",
    "Since tuples are indexed, they can have items with the same value:"
   ]
  },
  {
   "cell_type": "code",
   "execution_count": 1,
   "id": "ca310d34-6d2e-4f27-9f38-0e1f9d2f9a57",
   "metadata": {},
   "outputs": [
    {
     "name": "stdout",
     "output_type": "stream",
     "text": [
      "('apple', 'banana', 'cherry', 'apple', 'cherry')\n"
     ]
    }
   ],
   "source": [
    "# Tuples allow duplicate values:\n",
    "\n",
    "thistuple = (\"apple\", \"banana\", \"cherry\", \"apple\", \"cherry\")\n",
    "print(thistuple)"
   ]
  },
  {
   "cell_type": "markdown",
   "id": "c576b35c-76c0-4786-ab27-480d1093a45d",
   "metadata": {},
   "source": [
    "### Tuple Length\n",
    "To determine how many items a tuple has, use the ```len()``` function:"
   ]
  },
  {
   "cell_type": "code",
   "execution_count": 3,
   "id": "7ab4906a-457b-4710-bd9d-b7c9368b531e",
   "metadata": {},
   "outputs": [
    {
     "name": "stdout",
     "output_type": "stream",
     "text": [
      "3\n"
     ]
    }
   ],
   "source": [
    "# Print the number of items in the tuple:\n",
    "\n",
    "thistuple = (\"apple\", \"banana\", \"cherry\")\n",
    "print(len(thistuple))"
   ]
  },
  {
   "cell_type": "markdown",
   "id": "7e78adc7-bae8-478a-b6f4-273a8f19b74e",
   "metadata": {},
   "source": [
    "### Create Tuple With One Item\n",
    "To create a tuple with only one item, you have to add a comma after the item, otherwise Python will not recognize it as a tuple."
   ]
  },
  {
   "cell_type": "code",
   "execution_count": 4,
   "id": "7b89f6fe-12a6-47ac-b117-6b0a18062b78",
   "metadata": {},
   "outputs": [
    {
     "name": "stdout",
     "output_type": "stream",
     "text": [
      "<class 'tuple'>\n",
      "<class 'str'>\n"
     ]
    }
   ],
   "source": [
    "# One item tuple, remember the comma:\n",
    "\n",
    "thistuple = (\"apple\",)\n",
    "print(type(thistuple))\n",
    "\n",
    "# NOT a tuple\n",
    "thistuple = (\"apple\")\n",
    "print(type(thistuple))"
   ]
  },
  {
   "cell_type": "markdown",
   "id": "6f17ee90-4010-448e-b560-89dd0eb6643e",
   "metadata": {},
   "source": [
    "### Tuple Items - Data Types\n",
    "Tuple items can be of any data type:"
   ]
  },
  {
   "cell_type": "code",
   "execution_count": 8,
   "id": "1bc94d0b-71ac-4f45-a933-de4d24fa284b",
   "metadata": {},
   "outputs": [],
   "source": [
    "# String, int and boolean data types:\n",
    "\n",
    "tuple1 = (\"apple\", \"banana\", \"cherry\")\n",
    "tuple2 = (1, 5, 7, 9, 3)\n",
    "tuple3 = (True, False, False)"
   ]
  },
  {
   "cell_type": "markdown",
   "id": "2106f870-d4a4-4306-946d-8fbf16e5efba",
   "metadata": {},
   "source": [
    "A tuple can contain different data types:"
   ]
  },
  {
   "cell_type": "code",
   "execution_count": 9,
   "id": "bf6f5004-62cb-4921-b3e2-397e90d3d57d",
   "metadata": {},
   "outputs": [],
   "source": [
    "# A tuple with strings, integers and boolean values:\n",
    "\n",
    "tuple1 = (\"abc\", 34, True, 40, \"male\")"
   ]
  },
  {
   "cell_type": "markdown",
   "id": "d9cbc994-0942-439e-82cd-d9111414b2fb",
   "metadata": {},
   "source": [
    "### The tuple() Constructor\n",
    "It is also possible to use the tuple() constructor to make a tuple."
   ]
  },
  {
   "cell_type": "code",
   "execution_count": 11,
   "id": "10bfbcc6-6fdc-47f8-8f70-5784ef3130cf",
   "metadata": {},
   "outputs": [
    {
     "name": "stdout",
     "output_type": "stream",
     "text": [
      "('apple', 'banana', 'cherry')\n"
     ]
    }
   ],
   "source": [
    "# Using the tuple() method to make a tuple:\n",
    "\n",
    "thistuple = tuple((\"apple\", \"banana\", \"cherry\")) # note the double round-brackets\n",
    "print(thistuple)"
   ]
  },
  {
   "cell_type": "markdown",
   "id": "e760e483-b06b-4f80-b456-92300759d440",
   "metadata": {},
   "source": [
    "## Access Tuple Items\n",
    "You can access tuple items by referring to the index number, inside square brackets:"
   ]
  },
  {
   "cell_type": "code",
   "execution_count": 12,
   "id": "e816fb4a-be0b-4f02-904e-3e573d97ed0e",
   "metadata": {},
   "outputs": [
    {
     "name": "stdout",
     "output_type": "stream",
     "text": [
      "banana\n"
     ]
    }
   ],
   "source": [
    "# Print the second item in the tuple:\n",
    "\n",
    "thistuple = (\"apple\", \"banana\", \"cherry\")\n",
    "print(thistuple[1])"
   ]
  },
  {
   "cell_type": "markdown",
   "id": "7e3b7f39-ee3e-4bbe-9a02-3fa57584b282",
   "metadata": {},
   "source": [
    "#### Negative Indexing\n",
    "Negative indexing means start from the end.\n",
    "\n",
    "```-1``` refers to the last item, ```-2``` refers to the second last item etc."
   ]
  },
  {
   "cell_type": "code",
   "execution_count": 14,
   "id": "3e27953a-1a5c-4b7b-b760-582ddd5d3d2a",
   "metadata": {},
   "outputs": [
    {
     "name": "stdout",
     "output_type": "stream",
     "text": [
      "cherry\n"
     ]
    }
   ],
   "source": [
    "# Print the last item of the tuple:\n",
    "\n",
    "thistuple = (\"apple\", \"banana\", \"cherry\")\n",
    "print(thistuple[-1])"
   ]
  },
  {
   "cell_type": "markdown",
   "id": "e706d705-d163-49a7-bd83-7418bf4a319d",
   "metadata": {},
   "source": [
    "Range of Indexes\n",
    "You can specify a range of indexes by specifying where to start and where to end the range.\n",
    "\n",
    "When specifying a range, the return value will be a new tuple with the specified items."
   ]
  },
  {
   "cell_type": "code",
   "execution_count": 15,
   "id": "cb6052a1-e49b-4e53-89ec-c8088c0c368e",
   "metadata": {},
   "outputs": [
    {
     "name": "stdout",
     "output_type": "stream",
     "text": [
      "('cherry', 'orange', 'kiwi')\n"
     ]
    }
   ],
   "source": [
    "# Return the third, fourth, and fifth item:\n",
    "\n",
    "thistuple = (\"apple\", \"banana\", \"cherry\", \"orange\", \"kiwi\", \"melon\", \"mango\")\n",
    "print(thistuple[2:5])"
   ]
  },
  {
   "cell_type": "code",
   "execution_count": 16,
   "id": "8badf180-0412-4641-9fdf-fc0d0b404315",
   "metadata": {},
   "outputs": [
    {
     "name": "stdout",
     "output_type": "stream",
     "text": [
      "('apple', 'banana', 'cherry', 'orange')\n"
     ]
    }
   ],
   "source": [
    "# This example returns the items from the beginning to, but NOT included, \"kiwi\":\n",
    "\n",
    "thistuple = (\"apple\", \"banana\", \"cherry\", \"orange\", \"kiwi\", \"melon\", \"mango\")\n",
    "print(thistuple[:4])"
   ]
  },
  {
   "cell_type": "code",
   "execution_count": 17,
   "id": "ff164644-fb88-4d52-9344-87d904437429",
   "metadata": {},
   "outputs": [
    {
     "name": "stdout",
     "output_type": "stream",
     "text": [
      "('cherry', 'orange', 'kiwi', 'melon', 'mango')\n"
     ]
    }
   ],
   "source": [
    "# This example returns the items from \"cherry\" and to the end:\n",
    "\n",
    "thistuple = (\"apple\", \"banana\", \"cherry\", \"orange\", \"kiwi\", \"melon\", \"mango\")\n",
    "print(thistuple[2:])"
   ]
  },
  {
   "cell_type": "code",
   "execution_count": 18,
   "id": "32657d40-30c0-4e3d-94f9-f02ab1737f5e",
   "metadata": {},
   "outputs": [
    {
     "name": "stdout",
     "output_type": "stream",
     "text": [
      "('orange', 'kiwi', 'melon')\n"
     ]
    }
   ],
   "source": [
    "# This example returns the items from index -4 (included) to index -1 (excluded)\n",
    "\n",
    "thistuple = (\"apple\", \"banana\", \"cherry\", \"orange\", \"kiwi\", \"melon\", \"mango\")\n",
    "print(thistuple[-4:-1])"
   ]
  },
  {
   "cell_type": "code",
   "execution_count": 19,
   "id": "95b45fc5-c7f5-465c-a286-cba98e706578",
   "metadata": {},
   "outputs": [
    {
     "name": "stdout",
     "output_type": "stream",
     "text": [
      "Yes, 'apple' is in the fruits tuple\n"
     ]
    }
   ],
   "source": [
    "# Check if \"apple\" is present in the tuple:\n",
    "\n",
    "thistuple = (\"apple\", \"banana\", \"cherry\")\n",
    "if \"apple\" in thistuple:\n",
    "  print(\"Yes, 'apple' is in the fruits tuple\")"
   ]
  },
  {
   "cell_type": "markdown",
   "id": "ab0cf283-6bc5-4de3-b466-51b040be31f7",
   "metadata": {},
   "source": [
    "## Update Tuples"
   ]
  },
  {
   "cell_type": "markdown",
   "id": "09362345-4de9-4ac5-9f21-08a8b00b35a5",
   "metadata": {},
   "source": [
    "### Change Tuple Values\n",
    "Once a tuple is created, you cannot change its values. Tuples are unchangeable, or immutable as it also is called.\n",
    "\n",
    "But there is a workaround. You can convert the tuple into a list, change the list, and convert the list back into a tuple."
   ]
  },
  {
   "cell_type": "code",
   "execution_count": 20,
   "id": "8a200279-b1af-400c-96a4-88086cd0901d",
   "metadata": {},
   "outputs": [
    {
     "name": "stdout",
     "output_type": "stream",
     "text": [
      "('apple', 'kiwi', 'cherry')\n"
     ]
    }
   ],
   "source": [
    "# Convert the tuple into a list to be able to change it:\n",
    "\n",
    "x = (\"apple\", \"banana\", \"cherry\")\n",
    "y = list(x)\n",
    "y[1] = \"kiwi\"\n",
    "x = tuple(y)\n",
    "\n",
    "print(x)"
   ]
  },
  {
   "cell_type": "markdown",
   "id": "95a465da-cc0a-4b06-a774-b9c31bb07671",
   "metadata": {},
   "source": [
    "### Add Items\n",
    "Since tuples are immutable, they do not have a build-in append() method, but there are other ways to add items to a tuple.\n",
    "\n",
    "1. Convert into a list: \n",
    "Just like the workaround for changing a tuple, you can convert it into a list, add your item(s), and convert it back into a tuple."
   ]
  },
  {
   "cell_type": "code",
   "execution_count": 23,
   "id": "42d5148f-d019-4c5a-9c0f-28551291c7f0",
   "metadata": {},
   "outputs": [],
   "source": [
    "# Convert the tuple into a list, add \"orange\", and convert it back into a tuple:\n",
    "\n",
    "thistuple = (\"apple\", \"banana\", \"cherry\")\n",
    "y = list(thistuple)\n",
    "y.append(\"orange\")\n",
    "thistuple = tuple(y)"
   ]
  },
  {
   "cell_type": "markdown",
   "id": "2325ef78-3d74-41bb-9f8b-97a53a412a14",
   "metadata": {},
   "source": [
    "2. Add tuple to a tuple. \n",
    "\n",
    "You are allowed to add tuples to tuples, so if you want to add one item, (or many), create a new tuple with the item(s), and add it to the existing tuple:"
   ]
  },
  {
   "cell_type": "code",
   "execution_count": 24,
   "id": "0c3d345f-21db-42f7-b697-42c40d9c2045",
   "metadata": {},
   "outputs": [
    {
     "name": "stdout",
     "output_type": "stream",
     "text": [
      "('apple', 'banana', 'cherry', 'orange')\n"
     ]
    }
   ],
   "source": [
    "# Create a new tuple with the value \"orange\", and add that tuple:\n",
    "\n",
    "thistuple = (\"apple\", \"banana\", \"cherry\")\n",
    "y = (\"orange\",)\n",
    "thistuple += y\n",
    "\n",
    "print(thistuple)"
   ]
  },
  {
   "cell_type": "markdown",
   "id": "4b1e3e50-ab43-40c7-9291-0b53982e736a",
   "metadata": {},
   "source": [
    "### Unpacking a Tuple\n",
    "When we create a tuple, we normally assign values to it. This is called \"packing\" a tuple:"
   ]
  },
  {
   "cell_type": "code",
   "execution_count": 26,
   "id": "d0e651d1-1cee-4082-adb5-fd51481fa2c1",
   "metadata": {},
   "outputs": [],
   "source": [
    "# Packing a tuple:\n",
    "\n",
    "fruits = (\"apple\", \"banana\", \"cherry\")"
   ]
  },
  {
   "cell_type": "markdown",
   "id": "5a56dcf4-8638-4659-bf74-6142291061d8",
   "metadata": {},
   "source": [
    "But, in Python, we are also allowed to extract the values back into variables. This is called \"unpacking\":"
   ]
  },
  {
   "cell_type": "code",
   "execution_count": 27,
   "id": "4c572bc1-786d-44c4-a99e-4c9d6dc59a83",
   "metadata": {},
   "outputs": [
    {
     "name": "stdout",
     "output_type": "stream",
     "text": [
      "apple\n",
      "banana\n",
      "cherry\n"
     ]
    }
   ],
   "source": [
    "# Unpacking a tuple:\n",
    "\n",
    "fruits = (\"apple\", \"banana\", \"cherry\")\n",
    "\n",
    "(green, yellow, red) = fruits\n",
    "\n",
    "print(green)\n",
    "print(yellow)\n",
    "print(red)"
   ]
  },
  {
   "cell_type": "markdown",
   "id": "1aae5cae-8a87-4418-b82c-205c64971ec7",
   "metadata": {},
   "source": [
    "### Join Two Tuples\n",
    "To join two or more tuples you can use the + operator:"
   ]
  },
  {
   "cell_type": "code",
   "execution_count": 28,
   "id": "932181c0-ad64-4b51-aed5-6fe6f948e02a",
   "metadata": {},
   "outputs": [
    {
     "name": "stdout",
     "output_type": "stream",
     "text": [
      "('a', 'b', 'c', 1, 2, 3)\n"
     ]
    }
   ],
   "source": [
    "# Join two tuples:\n",
    "\n",
    "tuple1 = (\"a\", \"b\" , \"c\")\n",
    "tuple2 = (1, 2, 3)\n",
    "\n",
    "tuple3 = tuple1 + tuple2\n",
    "print(tuple3)"
   ]
  },
  {
   "cell_type": "markdown",
   "id": "b74f7aaa-0007-43be-aeed-8c2a5d710ec4",
   "metadata": {},
   "source": [
    "### Multiply Tuples\n",
    "If you want to multiply the content of a tuple a given number of times, you can use the * operator:"
   ]
  },
  {
   "cell_type": "code",
   "execution_count": 29,
   "id": "3bc01662-da03-45f9-a596-11862e2cccdb",
   "metadata": {},
   "outputs": [
    {
     "name": "stdout",
     "output_type": "stream",
     "text": [
      "('apple', 'banana', 'cherry', 'apple', 'banana', 'cherry')\n"
     ]
    }
   ],
   "source": [
    "# Multiply the fruits tuple by 2:\n",
    "\n",
    "fruits = (\"apple\", \"banana\", \"cherry\")\n",
    "mytuple = fruits * 2\n",
    "\n",
    "print(mytuple)"
   ]
  },
  {
   "cell_type": "markdown",
   "id": "bd8788a4-f5ca-43d2-ba92-5de0e7086eac",
   "metadata": {},
   "source": [
    "## Tuple Methods\n",
    "Python has two built-in methods that you can use on tuples.\n",
    "\n",
    "| Method  | Description                                                                             |\n",
    "|---------|-----------------------------------------------------------------------------------------|\n",
    "| count() | Returns the number of times a specified value occurs in a tuple                         |\n",
    "| index() | Searches the tuple for a specified value and returns the position of where it was found |"
   ]
  },
  {
   "cell_type": "code",
   "execution_count": null,
   "id": "f5c4e386-8e95-4cef-857e-80f97be25ab8",
   "metadata": {},
   "outputs": [],
   "source": []
  }
 ],
 "metadata": {
  "kernelspec": {
   "display_name": "Python 3 (ipykernel)",
   "language": "python",
   "name": "python3"
  },
  "language_info": {
   "codemirror_mode": {
    "name": "ipython",
    "version": 3
   },
   "file_extension": ".py",
   "mimetype": "text/x-python",
   "name": "python",
   "nbconvert_exporter": "python",
   "pygments_lexer": "ipython3",
   "version": "3.8.10"
  }
 },
 "nbformat": 4,
 "nbformat_minor": 5
}
