{
 "cells": [
  {
   "cell_type": "markdown",
   "id": "3859a723-4b8b-4284-ba55-eff5dcab1348",
   "metadata": {},
   "source": [
    "# Dictionary\n",
    "\n",
    "Dictionaries are written with curly brackets, are used to store data values in key:value pairs.\n",
    "\n",
    "A dictionary is a collection which is ordered*, changeable and does not allow duplicates.\n",
    "\n",
    "\n",
    "- Ordered or Unordered?\n",
    "\n",
    "As of Python version 3.7, dictionaries are ordered. In Python 3.6 and earlier, dictionaries are unordered.\n",
    "\n",
    "When we say that dictionaries are ordered, it means that the items have a defined order, and that order will not change.\n",
    "\n",
    "Unordered means that the items does not have a defined order, you cannot refer to an item by using an index.\n",
    "\n",
    "- Changeable : Dictionaries are changeable, meaning that we can change, add or remove items after the dictionary has been created.\n",
    "\n",
    "- Duplicates Not Allowed: Dictionaries cannot have two items with the same key"
   ]
  },
  {
   "cell_type": "code",
   "execution_count": 3,
   "id": "46f05f3f-65fb-479f-95d5-24ebd1ca919e",
   "metadata": {},
   "outputs": [
    {
     "name": "stdout",
     "output_type": "stream",
     "text": [
      "{'brand': 'Ford', 'model': 'Mustang', 'year': 1964}\n",
      "Ford\n"
     ]
    }
   ],
   "source": [
    "# Create and print a dictionary:\n",
    "\n",
    "thisdict = {\n",
    "  \"brand\": \"Ford\",\n",
    "  \"model\": \"Mustang\",\n",
    "  \"year\": 1964\n",
    "}\n",
    "print(thisdict)\n",
    "\n",
    "# Print the \"brand\" value of the dictionary:\n",
    "\n",
    "print(thisdict[\"brand\"])"
   ]
  },
  {
   "cell_type": "markdown",
   "id": "395d8a26-cf3f-441d-b9c0-d11839144d5c",
   "metadata": {},
   "source": [
    "Duplicate values will overwrite existing values:"
   ]
  },
  {
   "cell_type": "code",
   "execution_count": 4,
   "id": "a07073d3-571f-44b0-9083-349336ee9302",
   "metadata": {},
   "outputs": [
    {
     "name": "stdout",
     "output_type": "stream",
     "text": [
      "{'brand': 'Ford', 'model': 'Mustang', 'year': 2020}\n"
     ]
    }
   ],
   "source": [
    "thisdict = {\n",
    "  \"brand\": \"Ford\",\n",
    "  \"model\": \"Mustang\",\n",
    "  \"year\": 1964,\n",
    "  \"year\": 2020\n",
    "}\n",
    "print(thisdict)"
   ]
  },
  {
   "cell_type": "code",
   "execution_count": 5,
   "id": "03bc49a4-54c9-47b3-af4f-e62ae8bafd73",
   "metadata": {},
   "outputs": [
    {
     "name": "stdout",
     "output_type": "stream",
     "text": [
      "3\n"
     ]
    }
   ],
   "source": [
    "# Print the number of items in the dictionary:\n",
    "\n",
    "print(len(thisdict))"
   ]
  },
  {
   "cell_type": "markdown",
   "id": "9fc5dc7e-66a4-4d3e-b7b5-694f8f498dab",
   "metadata": {},
   "source": [
    "Accessing Items\n",
    "You can access the items of a dictionary by referring to its key name, inside square brackets:"
   ]
  },
  {
   "cell_type": "markdown",
   "id": "18bcc8d7-f703-4131-ba81-094d644b5870",
   "metadata": {},
   "source": [
    "There is also a method called ```get()``` that will give you the same result:"
   ]
  },
  {
   "cell_type": "code",
   "execution_count": 54,
   "id": "a170f642-47e7-4207-a224-170f71f6a623",
   "metadata": {},
   "outputs": [
    {
     "name": "stdout",
     "output_type": "stream",
     "text": [
      "Mustang\n",
      "Mustang\n"
     ]
    }
   ],
   "source": [
    "# Get the value of the \"model\" key:\n",
    "\n",
    "x = thisdict[\"model\"]\n",
    "print(x)\n",
    "\n",
    "# Get the value of the \"model\" key:\n",
    "\n",
    "x = thisdict.get(\"model\")\n",
    "print(x)"
   ]
  },
  {
   "cell_type": "markdown",
   "id": "b788bdea-0051-46ed-b040-18d1f5246830",
   "metadata": {},
   "source": [
    "### Get Keys\n",
    "The ```keys()``` method will return a list of all the keys in the dictionary."
   ]
  },
  {
   "cell_type": "code",
   "execution_count": 55,
   "id": "0f917ae1-01f4-497e-8c4c-4e6d929237a3",
   "metadata": {},
   "outputs": [
    {
     "name": "stdout",
     "output_type": "stream",
     "text": [
      "dict_keys(['brand', 'model', 'year'])\n"
     ]
    }
   ],
   "source": [
    "# Get a list of the keys:\n",
    "\n",
    "x = thisdict.keys()\n",
    "print(x)"
   ]
  },
  {
   "cell_type": "code",
   "execution_count": 56,
   "id": "898766c5-e9c9-4e2e-b763-a4a27e6fb64b",
   "metadata": {},
   "outputs": [
    {
     "name": "stdout",
     "output_type": "stream",
     "text": [
      "dict_keys(['brand', 'model', 'year'])\n",
      "dict_keys(['brand', 'model', 'year', 'color'])\n"
     ]
    }
   ],
   "source": [
    "# Add a new item to the original dictionary, and see that the keys list gets updated as well:\n",
    "\n",
    "car = {\n",
    "\"brand\": \"Ford\",\n",
    "\"model\": \"Mustang\",\n",
    "\"year\": 1964\n",
    "}\n",
    "\n",
    "x = car.keys()\n",
    "\n",
    "print(x) #before the change\n",
    "\n",
    "car[\"color\"] = \"white\"\n",
    "\n",
    "print(x) #after the change"
   ]
  },
  {
   "cell_type": "markdown",
   "id": "cd4fe636-f583-420a-8d4f-103bbcafe1c2",
   "metadata": {},
   "source": [
    "#### Get Values\n",
    "The ```values()``` method will return a list of all the values in the dictionary."
   ]
  },
  {
   "cell_type": "code",
   "execution_count": 57,
   "id": "78c04995-94c3-4a1b-b1b0-430bc67cae7f",
   "metadata": {},
   "outputs": [
    {
     "name": "stdout",
     "output_type": "stream",
     "text": [
      "dict_values(['Ford', 'Mustang', 1964])\n"
     ]
    }
   ],
   "source": [
    "# Get a list of the values:\n",
    "\n",
    "x = thisdict.values()\n",
    "print(x)"
   ]
  },
  {
   "cell_type": "markdown",
   "id": "442667f5-4875-4113-bb41-509fcda03d50",
   "metadata": {},
   "source": [
    "#### Get Items\n",
    "The ```items()``` method will return each item in a dictionary, as tuples in a list."
   ]
  },
  {
   "cell_type": "code",
   "execution_count": 58,
   "id": "3c930a0d-556f-42bd-a3b9-88bfb9b12453",
   "metadata": {},
   "outputs": [
    {
     "name": "stdout",
     "output_type": "stream",
     "text": [
      "dict_items([('brand', 'Ford'), ('model', 'Mustang'), ('year', 1964)])\n"
     ]
    }
   ],
   "source": [
    "# Get a list of the key:value pairs\n",
    "\n",
    "x = thisdict.items()\n",
    "print(x)"
   ]
  },
  {
   "cell_type": "markdown",
   "id": "1c2ab295-a143-4676-bfd2-86d82899369b",
   "metadata": {},
   "source": [
    "#### Check if Key Exists\n",
    "To determine if a specified key is present in a dictionary use the in keyword:"
   ]
  },
  {
   "cell_type": "code",
   "execution_count": 59,
   "id": "da8429b5-a4d2-4c4d-b5a3-707a739eac41",
   "metadata": {},
   "outputs": [
    {
     "name": "stdout",
     "output_type": "stream",
     "text": [
      "Yes, 'model' is one of the keys in the thisdict dictionary\n"
     ]
    }
   ],
   "source": [
    "# Check if \"model\" is present in the dictionary:\n",
    "\n",
    "if \"model\" in thisdict:\n",
    "  print(\"Yes, 'model' is one of the keys in the thisdict dictionary\")"
   ]
  },
  {
   "cell_type": "markdown",
   "id": "7ad9cf0c-ff2c-42bc-b29f-5554890ceb39",
   "metadata": {},
   "source": [
    "## Change Values\n",
    "You can change the value of a specific item by referring to its key name:"
   ]
  },
  {
   "cell_type": "code",
   "execution_count": 63,
   "id": "92fcb31c-96db-4af4-944d-9104e1bbd9cd",
   "metadata": {},
   "outputs": [
    {
     "name": "stdout",
     "output_type": "stream",
     "text": [
      "{'brand': 'Ford', 'model': 'Mustang', 'year': 2018}\n"
     ]
    }
   ],
   "source": [
    "# Change the \"year\" to 2018:\n",
    "\n",
    "thisdict[\"year\"] = 2018\n",
    "print(thisdict)"
   ]
  },
  {
   "cell_type": "markdown",
   "id": "40b67c4b-04f7-4892-a985-5023ac23a3b9",
   "metadata": {},
   "source": [
    "## Update Dictionary\n",
    "The ```update()``` method will update the dictionary with the items from the given argument.\n",
    "\n",
    "The argument must be a dictionary, or an iterable object with key:value pairs."
   ]
  },
  {
   "cell_type": "code",
   "execution_count": 64,
   "id": "91836b12-0e2d-4e9d-977b-87214a68dc1b",
   "metadata": {},
   "outputs": [
    {
     "name": "stdout",
     "output_type": "stream",
     "text": [
      "{'brand': 'Ford', 'model': 'Mustang', 'year': 2020}\n"
     ]
    }
   ],
   "source": [
    "# Update the \"year\" of the car by using the update() method:\n",
    "\n",
    "thisdict.update({\"year\": 2020})\n",
    "print(thisdict)"
   ]
  },
  {
   "cell_type": "markdown",
   "id": "8937dbcb-8473-40dd-84d9-693800d7a75b",
   "metadata": {},
   "source": [
    "## Adding Items\n",
    "Adding an item to the dictionary is done by using a new index key and assigning a value to it:"
   ]
  },
  {
   "cell_type": "code",
   "execution_count": 70,
   "id": "ebf24fa2-c8f7-49ef-aee1-68ec45d4aad6",
   "metadata": {},
   "outputs": [
    {
     "name": "stdout",
     "output_type": "stream",
     "text": [
      "{'brand': 'Ford', 'year': 2020, 'color': 'red'}\n"
     ]
    }
   ],
   "source": [
    "thisdict[\"color\"] = \"red\"\n",
    "print(thisdict)"
   ]
  },
  {
   "cell_type": "markdown",
   "id": "4b5a5b5e-e9ee-43bd-b051-e1cfaa6833db",
   "metadata": {},
   "source": [
    "## Removing Items\n",
    "There are several methods to remove items from a dictionary:\n",
    "\n",
    "The ```pop()``` method removes the item with the specified key name:"
   ]
  },
  {
   "cell_type": "code",
   "execution_count": 71,
   "id": "f2f1ca4d-b42a-483b-9d90-27576abb17ea",
   "metadata": {},
   "outputs": [
    {
     "name": "stdout",
     "output_type": "stream",
     "text": [
      "{'brand': 'Ford', 'year': 1964}\n"
     ]
    }
   ],
   "source": [
    "thisdict = {\n",
    "  \"brand\": \"Ford\",\n",
    "  \"model\": \"Mustang\",\n",
    "  \"year\": 1964\n",
    "}\n",
    "thisdict.pop(\"model\")\n",
    "print(thisdict)"
   ]
  },
  {
   "cell_type": "markdown",
   "id": "9e8b5afb-c4c2-4991-aa49-990f8c59a63c",
   "metadata": {},
   "source": [
    "The ```popitem()``` method removes the last inserted item (in versions before 3.7, a random item is removed instead):"
   ]
  },
  {
   "cell_type": "code",
   "execution_count": 74,
   "id": "e501b925-eb66-4a58-b799-5c96ed9cd4e6",
   "metadata": {},
   "outputs": [
    {
     "name": "stdout",
     "output_type": "stream",
     "text": [
      "{'brand': 'Ford', 'model': 'Mustang'}\n"
     ]
    }
   ],
   "source": [
    "thisdict = {\n",
    "  \"brand\": \"Ford\",\n",
    "  \"model\": \"Mustang\",\n",
    "  \"year\": 1964\n",
    "}\n",
    "thisdict.popitem()\n",
    "print(thisdict)"
   ]
  },
  {
   "cell_type": "markdown",
   "id": "174f6bbc-30f0-4b6b-80bb-722e7fc6c16b",
   "metadata": {},
   "source": [
    "The ```del``` keyword removes the item with the specified key name:"
   ]
  },
  {
   "cell_type": "code",
   "execution_count": 75,
   "id": "3f90c96f-9b9d-40c4-842e-c65fa6fe6779",
   "metadata": {},
   "outputs": [
    {
     "name": "stdout",
     "output_type": "stream",
     "text": [
      "{'brand': 'Ford'}\n"
     ]
    }
   ],
   "source": [
    "del thisdict[\"model\"]\n",
    "print(thisdict)"
   ]
  },
  {
   "cell_type": "code",
   "execution_count": 76,
   "id": "ad9259d3-be8a-48d8-ab2e-1702f13eedb1",
   "metadata": {},
   "outputs": [],
   "source": [
    "# The del keyword can also delete the dictionary completely:\n",
    "\n",
    "thisdict = {\n",
    "  \"brand\": \"Ford\",\n",
    "  \"model\": \"Mustang\",\n",
    "  \"year\": 1964\n",
    "}\n",
    "del thisdict"
   ]
  },
  {
   "cell_type": "markdown",
   "id": "89f2cadb-f657-4400-b5b8-e22ead0367ff",
   "metadata": {},
   "source": [
    "The ```clear()``` method empties the dictionary:"
   ]
  },
  {
   "cell_type": "code",
   "execution_count": 77,
   "id": "adabe335-fd4a-4b3f-9a5f-fff1ae9576f5",
   "metadata": {},
   "outputs": [
    {
     "name": "stdout",
     "output_type": "stream",
     "text": [
      "{}\n"
     ]
    }
   ],
   "source": [
    "thisdict = {\n",
    "  \"brand\": \"Ford\",\n",
    "  \"model\": \"Mustang\",\n",
    "  \"year\": 1964\n",
    "}\n",
    "thisdict.clear()\n",
    "print(thisdict)"
   ]
  },
  {
   "cell_type": "markdown",
   "id": "f16fe6b8-1c61-411e-81fe-171fbf7a918b",
   "metadata": {},
   "source": [
    "## Loop Through a Dictionary\n",
    "You can loop through a dictionary by using a for loop.\n",
    "\n",
    "When looping through a dictionary, the return value are the keys of the dictionary, but there are methods to return the values as well."
   ]
  },
  {
   "cell_type": "code",
   "execution_count": 78,
   "id": "94074d86-cb2a-43e3-956b-5534d87e1085",
   "metadata": {},
   "outputs": [
    {
     "name": "stdout",
     "output_type": "stream",
     "text": [
      "brand\n",
      "model\n",
      "year\n"
     ]
    }
   ],
   "source": [
    "# Print all key names in the dictionary, one by one:\n",
    "thisdict = {\n",
    "  \"brand\": \"Ford\",\n",
    "  \"model\": \"Mustang\",\n",
    "  \"year\": 1964\n",
    "}\n",
    "for x in thisdict:\n",
    "  print(x)"
   ]
  },
  {
   "cell_type": "code",
   "execution_count": 79,
   "id": "92838e1e-4131-47aa-9041-1b2b043fe3a1",
   "metadata": {},
   "outputs": [
    {
     "name": "stdout",
     "output_type": "stream",
     "text": [
      "Ford\n",
      "Mustang\n",
      "1964\n"
     ]
    }
   ],
   "source": [
    "# Print all values in the dictionary, one by one:\n",
    "\n",
    "for x in thisdict:\n",
    "  print(thisdict[x])"
   ]
  },
  {
   "cell_type": "code",
   "execution_count": 80,
   "id": "e77072e3-5db8-4294-91cd-a7cb7bcfa133",
   "metadata": {},
   "outputs": [
    {
     "name": "stdout",
     "output_type": "stream",
     "text": [
      "brand\n",
      "model\n",
      "year\n"
     ]
    }
   ],
   "source": [
    "# You can use the keys() method to return the keys of a dictionary:\n",
    "\n",
    "for x in thisdict.keys():\n",
    "  print(x)"
   ]
  },
  {
   "cell_type": "code",
   "execution_count": 81,
   "id": "469ff60d-27ae-4cad-814f-b988e2a1d232",
   "metadata": {},
   "outputs": [
    {
     "name": "stdout",
     "output_type": "stream",
     "text": [
      "brand Ford\n",
      "model Mustang\n",
      "year 1964\n"
     ]
    }
   ],
   "source": [
    "# Loop through both keys and values, by using the items() method:\n",
    "\n",
    "for x, y in thisdict.items():\n",
    "  print(x, y)"
   ]
  },
  {
   "cell_type": "markdown",
   "id": "10f2e435-5dc0-4280-9c28-56469f713dee",
   "metadata": {},
   "source": [
    "## Copy a Dictionary\n",
    "You cannot copy a dictionary simply by typing ```dict2 = dict1```, because: ```dict2``` will only be a reference to ```dict1```, and changes made in ```dict1``` will automatically also be made in ```dict2```.\n",
    "\n",
    "There are ways to make a copy, one way is to use the built-in Dictionary method ```copy()``."
   ]
  },
  {
   "cell_type": "code",
   "execution_count": 84,
   "id": "2d56819d-efea-42ba-82ce-fd970fdab84c",
   "metadata": {},
   "outputs": [
    {
     "name": "stdout",
     "output_type": "stream",
     "text": [
      "{'brand': 'Ford', 'model': 'Mustang', 'year': 1964}\n",
      "{'brand': 'Ford', 'model': 'Mustang', 'year': 1964}\n"
     ]
    }
   ],
   "source": [
    "# Make a copy of a dictionary with the copy() method:\n",
    "\n",
    "thisdict = {\n",
    "  \"brand\": \"Ford\",\n",
    "  \"model\": \"Mustang\",\n",
    "  \"year\": 1964\n",
    "}\n",
    "mydict = thisdict.copy()\n",
    "print(mydict)\n",
    "\n",
    "# Another way to make a copy is to use the built-in function dict().\n",
    "\n",
    "\n",
    "# Make a copy of a dictionary with the dict() function:\n",
    "\n",
    "thisdict = {\n",
    "  \"brand\": \"Ford\",\n",
    "  \"model\": \"Mustang\",\n",
    "  \"year\": 1964\n",
    "}\n",
    "mydict = dict(thisdict)\n",
    "print(mydict)"
   ]
  },
  {
   "cell_type": "markdown",
   "id": "1182076e-9722-4d8e-9dae-429be952e2b9",
   "metadata": {},
   "source": [
    "## Nested Dictionaries\n",
    "A dictionary can contain dictionaries, this is called nested dictionaries."
   ]
  },
  {
   "cell_type": "code",
   "execution_count": 85,
   "id": "b83dc7dc-6df8-4604-9de2-b1dbb32f9bf6",
   "metadata": {},
   "outputs": [],
   "source": [
    "# Create a dictionary that contain three dictionaries:\n",
    "\n",
    "myfamily = {\n",
    "  \"child1\" : {\n",
    "    \"name\" : \"Emil\",\n",
    "    \"year\" : 2004\n",
    "  },\n",
    "  \"child2\" : {\n",
    "    \"name\" : \"Tobias\",\n",
    "    \"year\" : 2007\n",
    "  },\n",
    "  \"child3\" : {\n",
    "    \"name\" : \"Linus\",\n",
    "    \"year\" : 2011\n",
    "  }\n",
    "}\n",
    "# Or, if you want to add three dictionaries into a new dictionary:\n",
    "\n",
    "\n",
    "# Create three dictionaries, then create one dictionary that will contain the other three dictionaries:\n",
    "\n",
    "child1 = {\n",
    "  \"name\" : \"Emil\",\n",
    "  \"year\" : 2004\n",
    "}\n",
    "child2 = {\n",
    "  \"name\" : \"Tobias\",\n",
    "  \"year\" : 2007\n",
    "}\n",
    "child3 = {\n",
    "  \"name\" : \"Linus\",\n",
    "  \"year\" : 2011\n",
    "}\n",
    "\n",
    "myfamily = {\n",
    "  \"child1\" : child1,\n",
    "  \"child2\" : child2,\n",
    "  \"child3\" : child3\n",
    "}"
   ]
  },
  {
   "cell_type": "markdown",
   "id": "3fba3ad7-1b66-4144-b543-ad3351373937",
   "metadata": {},
   "source": [
    "## Dictionary Methods\n",
    "Python has a set of built-in methods that you can use on dictionaries.\n",
    "\n",
    "| Method       | Description                                                                                                 |\n",
    "|--------------|-------------------------------------------------------------------------------------------------------------|\n",
    "| clear()      | Removes all the elements from the dictionary                                                                |\n",
    "| copy()       | Returns a copy of the dictionary                                                                            |\n",
    "| fromkeys()   | Returns a dictionary with the specified keys and value                                                      |\n",
    "| get()        | Returns the value of the specified key                                                                      |\n",
    "| items()      | Returns a list containing a tuple for each key value pair                                                   |\n",
    "| keys()       | Returns a list containing the dictionary's keys                                                             |\n",
    "| pop()        | Removes the element with the specified key                                                                  |\n",
    "| popitem()    | Removes the last inserted key-value pair                                                                    |\n",
    "| setdefault() | Returns the value of the specified key. If the key does not exist: insert the key, with the specified value |\n",
    "| update()     | Updates the dictionary with the specified key-value pairs                                                   |\n",
    "| values()     | Returns a list of all the values in the dictionary                                                          |"
   ]
  },
  {
   "cell_type": "code",
   "execution_count": null,
   "id": "5290366d-013d-4339-9b08-9d9cf34b7dea",
   "metadata": {},
   "outputs": [],
   "source": []
  }
 ],
 "metadata": {
  "kernelspec": {
   "display_name": "Python 3 (ipykernel)",
   "language": "python",
   "name": "python3"
  },
  "language_info": {
   "codemirror_mode": {
    "name": "ipython",
    "version": 3
   },
   "file_extension": ".py",
   "mimetype": "text/x-python",
   "name": "python",
   "nbconvert_exporter": "python",
   "pygments_lexer": "ipython3",
   "version": "3.8.10"
  }
 },
 "nbformat": 4,
 "nbformat_minor": 5
}
