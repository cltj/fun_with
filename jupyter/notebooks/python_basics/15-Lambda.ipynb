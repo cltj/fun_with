{
 "cells": [
  {
   "cell_type": "markdown",
   "id": "cbf97c51",
   "metadata": {},
   "source": [
    "# Lambda\n",
    "A lambda function is a small anonymous function.\n",
    "\n",
    "A lambda function can take any number of arguments, but can only have one expression."
   ]
  },
  {
   "cell_type": "markdown",
   "id": "7003be60",
   "metadata": {},
   "source": [
    "## Syntax\n",
    "```lambda arguments : expression```\n",
    "\n",
    "The expression is executed and the result is returned:"
   ]
  },
  {
   "cell_type": "code",
   "execution_count": 1,
   "id": "86bc751f-cd87-40c9-91f6-900d9a12fdcc",
   "metadata": {},
   "outputs": [
    {
     "name": "stdout",
     "output_type": "stream",
     "text": [
      "15\n"
     ]
    }
   ],
   "source": [
    "# Add 10 to argument a, and return the result:\n",
    "\n",
    "x = lambda a : a + 10\n",
    "print(x(5))"
   ]
  },
  {
   "cell_type": "markdown",
   "id": "638ab617",
   "metadata": {},
   "source": [
    "Lambda functions can take any number of arguments:"
   ]
  },
  {
   "cell_type": "code",
   "execution_count": 2,
   "id": "946a4b0a",
   "metadata": {},
   "outputs": [
    {
     "name": "stdout",
     "output_type": "stream",
     "text": [
      "30\n"
     ]
    }
   ],
   "source": [
    "# Multiply argument a with argument b and return the result:\n",
    "\n",
    "x = lambda a, b : a * b\n",
    "print(x(5, 6))"
   ]
  },
  {
   "cell_type": "code",
   "execution_count": 3,
   "id": "99d61b3d",
   "metadata": {},
   "outputs": [
    {
     "name": "stdout",
     "output_type": "stream",
     "text": [
      "13\n"
     ]
    }
   ],
   "source": [
    "# Summarize argument a, b, and c and return the result:\n",
    "\n",
    "x = lambda a, b, c : a + b + c\n",
    "print(x(5, 6, 2))"
   ]
  },
  {
   "cell_type": "markdown",
   "id": "ede9477b",
   "metadata": {},
   "source": [
    "## Why Use Lambda Functions?\n",
    "The power of lambda is better shown when you use them as an anonymous function inside another function.\n",
    "\n",
    "Say you have a function definition that takes one argument, and that argument will be multiplied with an unknown number:"
   ]
  },
  {
   "cell_type": "code",
   "execution_count": 4,
   "id": "971c6ad8",
   "metadata": {},
   "outputs": [],
   "source": [
    "def myfunc(n):\n",
    "  return lambda a : a * n"
   ]
  },
  {
   "cell_type": "markdown",
   "id": "e970a65f",
   "metadata": {},
   "source": [
    "Use that function definition to make a function that always doubles the number you send in:"
   ]
  },
  {
   "cell_type": "code",
   "execution_count": 5,
   "id": "05c292d0",
   "metadata": {},
   "outputs": [
    {
     "name": "stdout",
     "output_type": "stream",
     "text": [
      "22\n"
     ]
    }
   ],
   "source": [
    "def myfunc(n):\n",
    "  return lambda a : a * n\n",
    "\n",
    "mydoubler = myfunc(2)\n",
    "\n",
    "print(mydoubler(11))"
   ]
  },
  {
   "cell_type": "markdown",
   "id": "03357c0b",
   "metadata": {},
   "source": [
    "Or, use the same function definition to make a function that always triples the number you send in:"
   ]
  },
  {
   "cell_type": "code",
   "execution_count": 6,
   "id": "7913b23c",
   "metadata": {},
   "outputs": [
    {
     "name": "stdout",
     "output_type": "stream",
     "text": [
      "33\n"
     ]
    }
   ],
   "source": [
    "def myfunc(n):\n",
    "  return lambda a : a * n\n",
    "\n",
    "mytripler = myfunc(3)\n",
    "\n",
    "print(mytripler(11))"
   ]
  },
  {
   "cell_type": "markdown",
   "id": "9e83d0df",
   "metadata": {},
   "source": [
    "Or, use the same function definition to make both functions, in the same program:"
   ]
  },
  {
   "cell_type": "code",
   "execution_count": 7,
   "id": "a4a2ba12",
   "metadata": {},
   "outputs": [
    {
     "name": "stdout",
     "output_type": "stream",
     "text": [
      "22\n",
      "33\n"
     ]
    }
   ],
   "source": [
    "def myfunc(n):\n",
    "  return lambda a : a * n\n",
    "\n",
    "mydoubler = myfunc(2)\n",
    "mytripler = myfunc(3)\n",
    "\n",
    "print(mydoubler(11))\n",
    "print(mytripler(11))"
   ]
  },
  {
   "cell_type": "markdown",
   "id": "d7e2c1f9",
   "metadata": {},
   "source": [
    "NOTE: Use lambda functions when an anonymous function is required for a short period of time."
   ]
  }
 ],
 "metadata": {
  "kernelspec": {
   "display_name": "Python 3 (ipykernel)",
   "language": "python",
   "name": "python3"
  },
  "language_info": {
   "codemirror_mode": {
    "name": "ipython",
    "version": 3
   },
   "file_extension": ".py",
   "mimetype": "text/x-python",
   "name": "python",
   "nbconvert_exporter": "python",
   "pygments_lexer": "ipython3",
   "version": "3.8.10"
  }
 },
 "nbformat": 4,
 "nbformat_minor": 5
}
