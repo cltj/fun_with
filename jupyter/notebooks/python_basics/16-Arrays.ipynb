{
 "cells": [
  {
   "cell_type": "markdown",
   "id": "6733e9bf",
   "metadata": {},
   "source": [
    "# Arrays\n",
    "\n",
    "NOTE: Python does not have built-in support for Arrays, but Python Lists can be used instead."
   ]
  },
  {
   "cell_type": "markdown",
   "id": "d1b6ed83",
   "metadata": {},
   "source": [
    "### Array Methods\n",
    "Python has a set of built-in methods that you can use on lists/arrays."
   ]
  },
  {
   "cell_type": "markdown",
   "id": "ae427b07",
   "metadata": {},
   "source": [
    "| Method    | Description                                                                  |\n",
    "|-----------|------------------------------------------------------------------------------|\n",
    "| append()  | Adds an element at the end of the list                                       |\n",
    "| clear()   | Removes all the elements from the list                                       |\n",
    "| copy()    | Returns a copy of the list                                                   |\n",
    "| count()   | Returns the number of elements with the specified value                      |\n",
    "| extend()  | Add the elements of a list (or any iterable), to the end of the current list |\n",
    "| index()   | Returns the index of the first element with the specified value              |\n",
    "| insert()  | Adds an element at the specified position                                    |\n",
    "| pop()     | Removes the element at the specified position                                |\n",
    "| remove()  | Removes the first item with the specified value                              |\n",
    "| reverse() | Reverses the order of the list                                               |\n",
    "| sort()    | Sorts the list                                                               |"
   ]
  },
  {
   "cell_type": "markdown",
   "id": "2fee14ef",
   "metadata": {},
   "source": []
  }
 ],
 "metadata": {
  "kernelspec": {
   "display_name": "Python 3 (ipykernel)",
   "language": "python",
   "name": "python3"
  },
  "language_info": {
   "codemirror_mode": {
    "name": "ipython",
    "version": 3
   },
   "file_extension": ".py",
   "mimetype": "text/x-python",
   "name": "python",
   "nbconvert_exporter": "python",
   "pygments_lexer": "ipython3",
   "version": "3.8.10"
  }
 },
 "nbformat": 4,
 "nbformat_minor": 5
}
