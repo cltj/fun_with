{
 "cells": [
  {
   "cell_type": "markdown",
   "id": "6d29449e-cacb-4dc4-b43a-2d57220bb45b",
   "metadata": {},
   "source": [
    "# Python Scope\n",
    "A variable is only available from inside the region it is created. \n",
    "This is called scope. "
   ]
  },
  {
   "cell_type": "markdown",
   "id": "fbb7271c-ee16-4ef2-860a-74c48d999b91",
   "metadata": {},
   "source": [
    "\n",
    "## Local Scope\n",
    "A variable created inside a function belongs to the local scope of that function, and can only be used inside that function."
   ]
  },
  {
   "cell_type": "markdown",
   "id": "701ce0bb-c9a7-47fd-9420-c851f466d589",
   "metadata": {},
   "source": [
    "***Example***\n",
    "A variable created inside a function is available inside that function:"
   ]
  },
  {
   "cell_type": "code",
   "execution_count": 1,
   "id": "edd6ed73-d24b-44d4-a084-7be2bfb41ee2",
   "metadata": {},
   "outputs": [
    {
     "name": "stdout",
     "output_type": "stream",
     "text": [
      "300\n"
     ]
    }
   ],
   "source": [
    "def myfunc():\n",
    "  x = 300\n",
    "  print(x)\n",
    "\n",
    "myfunc()"
   ]
  },
  {
   "cell_type": "markdown",
   "id": "dbf934ad-86e2-43c9-9d35-3ed9240f2429",
   "metadata": {},
   "source": [
    "## Function Inside Function\n",
    "As explained in the example above, the variable `x` is not available outside the function, but it is available for any function inside the function:\n",
    "\n",
    "***Example***\n",
    "The local variable can be accessed from a function within the function:"
   ]
  },
  {
   "cell_type": "code",
   "execution_count": 2,
   "id": "44ebbdf2-cab7-4a5a-b265-31ba1ae567e0",
   "metadata": {},
   "outputs": [
    {
     "name": "stdout",
     "output_type": "stream",
     "text": [
      "300\n"
     ]
    }
   ],
   "source": [
    "def myfunc():\n",
    "  x = 300\n",
    "  def myinnerfunc():\n",
    "    print(x)\n",
    "  myinnerfunc()\n",
    "\n",
    "myfunc()"
   ]
  },
  {
   "cell_type": "markdown",
   "id": "4413938c-bcae-4113-b562-559e70de472d",
   "metadata": {},
   "source": [
    "## Global Scope\n",
    "A variable created in the main body of the Python code is a global variable and belongs to the global scope.\n",
    "\n",
    "Global variables are available from within any scope, global and local.\n",
    "\n",
    "***Example***\n",
    "A variable created outside of a function is global and can be used by anyone:"
   ]
  },
  {
   "cell_type": "code",
   "execution_count": 3,
   "id": "a07157f6-ec73-4e32-a333-886de687eaf5",
   "metadata": {},
   "outputs": [
    {
     "name": "stdout",
     "output_type": "stream",
     "text": [
      "300\n",
      "300\n"
     ]
    }
   ],
   "source": [
    "x = 300\n",
    "\n",
    "def myfunc():\n",
    "  print(x)\n",
    "\n",
    "myfunc()\n",
    "\n",
    "print(x)"
   ]
  },
  {
   "cell_type": "markdown",
   "id": "6f2aabb6-e25e-4461-84a9-e4ee1be6d076",
   "metadata": {},
   "source": [
    "## Naming Variables\n",
    "If you operate with the same variable name inside and outside of a function, Python will treat them as two separate variables, one available in the global scope (outside the function) and one available in the local scope (inside the function):\n",
    "\n",
    "***Example***\n",
    "The function will print the local `x`, and then the code will print the global `x`:"
   ]
  },
  {
   "cell_type": "code",
   "execution_count": 5,
   "id": "669c0485-f6cd-4968-baac-1a8f663060a6",
   "metadata": {},
   "outputs": [
    {
     "name": "stdout",
     "output_type": "stream",
     "text": [
      "200\n",
      "300\n"
     ]
    }
   ],
   "source": [
    "x = 300\n",
    "\n",
    "def myfunc():\n",
    "  x = 200\n",
    "  print(x)\n",
    "\n",
    "myfunc()\n",
    "\n",
    "print(x)"
   ]
  },
  {
   "cell_type": "markdown",
   "id": "bd1f75c9-01fc-4306-baba-ee12242fce9d",
   "metadata": {},
   "source": [
    "## Global Keyword\n",
    "If you need to create a global variable, but are stuck in the local scope, you can use the `global` keyword.\n",
    "\n",
    "The `global` keyword makes the variable global.\n",
    "\n",
    "Example\n",
    "If you use the `global` keyword, the variable belongs to the global scope:"
   ]
  },
  {
   "cell_type": "code",
   "execution_count": 6,
   "id": "143f747f-f4e9-4b3e-9642-a2f1b5909a90",
   "metadata": {},
   "outputs": [
    {
     "name": "stdout",
     "output_type": "stream",
     "text": [
      "300\n"
     ]
    }
   ],
   "source": [
    "def myfunc():\n",
    "  global x\n",
    "  x = 300\n",
    "\n",
    "myfunc()\n",
    "\n",
    "print(x)"
   ]
  },
  {
   "cell_type": "markdown",
   "id": "609621e4-071a-48b4-b860-46a044b7ff30",
   "metadata": {},
   "source": [
    "Also, use the `global` keyword if you want to make a change to a global variable inside a function.\n",
    "\n",
    "***Example***\n",
    "To change the value of a global variable inside a function, refer to the variable by using the `global` keyword:"
   ]
  },
  {
   "cell_type": "code",
   "execution_count": 7,
   "id": "4c2d2d46-0da8-4aae-8245-88d70e3f79a0",
   "metadata": {},
   "outputs": [
    {
     "name": "stdout",
     "output_type": "stream",
     "text": [
      "200\n"
     ]
    }
   ],
   "source": [
    "x = 300\n",
    "\n",
    "def myfunc():\n",
    "  global x\n",
    "  x = 200\n",
    "\n",
    "myfunc()\n",
    "\n",
    "print(x)"
   ]
  }
 ],
 "metadata": {
  "kernelspec": {
   "display_name": "Python 3 (ipykernel)",
   "language": "python",
   "name": "python3"
  },
  "language_info": {
   "codemirror_mode": {
    "name": "ipython",
    "version": 3
   },
   "file_extension": ".py",
   "mimetype": "text/x-python",
   "name": "python",
   "nbconvert_exporter": "python",
   "pygments_lexer": "ipython3",
   "version": "3.8.10"
  }
 },
 "nbformat": 4,
 "nbformat_minor": 5
}
