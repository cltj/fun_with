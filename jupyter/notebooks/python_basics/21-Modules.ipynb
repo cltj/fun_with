{
 "cells": [
  {
   "cell_type": "markdown",
   "id": "fbf9f3a8-ba44-4f0e-ae38-6d14c692eb48",
   "metadata": {},
   "source": [
    "# Python Modules\n",
    "\n",
    "\n",
    "## What is a Module?\n",
    "Consider a module to be the same as a code library.\n",
    "\n",
    "A file containing a set of functions you want to include in your application.\n",
    "\n",
    "## Create a Module\n",
    "To create a module just save the code you want in a file with the file extension `.py`:\n",
    "\n",
    "***Example***\n",
    "\n",
    "Save this code in a file named `mymodule.py`"
   ]
  },
  {
   "cell_type": "code",
   "execution_count": 1,
   "id": "902a447b-c0a5-4d56-95a1-676613d9a997",
   "metadata": {},
   "outputs": [],
   "source": [
    "def greeting(name):\n",
    "  print(\"Hello, \" + name)"
   ]
  },
  {
   "cell_type": "markdown",
   "id": "74559091-adc4-4ca5-b501-af2d00b5fa34",
   "metadata": {},
   "source": [
    "## Use a Module\n",
    "Now we can use the module we just created, by using the `import` statement:\n",
    "\n",
    "***Example***\n",
    "\n",
    "Import the module named mymodule, and call the greeting function:"
   ]
  },
  {
   "cell_type": "code",
   "execution_count": 2,
   "id": "3a132441-8b84-42ae-9718-2829b4535e1d",
   "metadata": {},
   "outputs": [
    {
     "name": "stdout",
     "output_type": "stream",
     "text": [
      "Hello, Jonathan\n"
     ]
    }
   ],
   "source": [
    "import mymodule\n",
    "\n",
    "mymodule.greeting(\"Jonathan\")"
   ]
  },
  {
   "cell_type": "markdown",
   "id": "89113e80-c02b-46ac-8447-f85580d2611a",
   "metadata": {},
   "source": [
    "## Variables in Module\n",
    "The module can contain functions, as already described, but also variables of all types (arrays, dictionaries, objects etc):\n",
    "\n",
    "***Example***\n",
    "\n",
    "Save this code in the file `mymodule.py`"
   ]
  },
  {
   "cell_type": "code",
   "execution_count": 3,
   "id": "c216c079-edb0-4c6a-acd8-329ec9a02a22",
   "metadata": {},
   "outputs": [],
   "source": [
    "person1 = {\n",
    "  \"name\": \"John\",\n",
    "  \"age\": 36,\n",
    "  \"country\": \"Norway\"\n",
    "}"
   ]
  },
  {
   "cell_type": "markdown",
   "id": "86c3e215-0fa8-46c0-a2ec-0927f794c6cb",
   "metadata": {},
   "source": [
    "***Example***\n",
    "\n",
    "Import the module named mymodule, and access the person1 dictionary:"
   ]
  },
  {
   "cell_type": "code",
   "execution_count": 4,
   "id": "f2f2d07b-6103-4a99-8f78-5564f0275744",
   "metadata": {},
   "outputs": [
    {
     "name": "stdout",
     "output_type": "stream",
     "text": [
      "36\n"
     ]
    }
   ],
   "source": [
    "import mymodule\n",
    "\n",
    "a = mymodule.person1[\"age\"]\n",
    "print(a)"
   ]
  },
  {
   "cell_type": "markdown",
   "id": "c7ee0a7a-b2ca-4a10-95fc-e116d05cbac1",
   "metadata": {},
   "source": [
    "## Naming a Module\n",
    "You can name the module file whatever you like, but it must have the file extension `.py`\n",
    "\n",
    "## Re-naming a Module\n",
    "You can create an alias when you import a module, by using the `as` keyword:\n",
    "\n",
    "***Example***\n",
    "\n",
    "Create an alias for `mymodule` called `mx`:"
   ]
  },
  {
   "cell_type": "code",
   "execution_count": 5,
   "id": "ed477539-2905-4486-8246-bf05f5a057a7",
   "metadata": {},
   "outputs": [
    {
     "name": "stdout",
     "output_type": "stream",
     "text": [
      "36\n"
     ]
    }
   ],
   "source": [
    "import mymodule as mx\n",
    "\n",
    "a = mx.person1[\"age\"]\n",
    "print(a)"
   ]
  },
  {
   "cell_type": "markdown",
   "id": "1f1d02e2-1495-4783-ab64-1d565f3a1f37",
   "metadata": {},
   "source": [
    "## Built-in Modules\n",
    "There are several built-in modules in Python, which you can import whenever you like.\n",
    "\n",
    "***Example*** \n",
    "\n",
    "Import and use the `platform` module:"
   ]
  },
  {
   "cell_type": "code",
   "execution_count": 6,
   "id": "57c7178d-8906-4ae9-8feb-dcb605ce2e26",
   "metadata": {},
   "outputs": [
    {
     "name": "stdout",
     "output_type": "stream",
     "text": [
      "Linux\n"
     ]
    }
   ],
   "source": [
    "import platform\n",
    "\n",
    "x = platform.system()\n",
    "print(x)"
   ]
  },
  {
   "cell_type": "markdown",
   "id": "3c426930-3500-46ac-8b89-bdceab9512e2",
   "metadata": {},
   "source": [
    "## Using the dir() Function\n",
    "There is a built-in function to list all the function names (or variable names) in a module. The `dir()` function:\n",
    "\n",
    "***Example***\n",
    "\n",
    "List all the defined names belonging to the platform module:"
   ]
  },
  {
   "cell_type": "code",
   "execution_count": 8,
   "id": "4c1fa552-e219-45fa-b6be-60c5482dffd6",
   "metadata": {},
   "outputs": [
    {
     "name": "stdout",
     "output_type": "stream",
     "text": [
      "['_WIN32_CLIENT_RELEASES', '_WIN32_SERVER_RELEASES', '__builtins__', '__cached__', '__copyright__', '__doc__', '__file__', '__loader__', '__name__', '__package__', '__spec__', '__version__', '_comparable_version', '_component_re', '_default_architecture', '_follow_symlinks', '_ironpython26_sys_version_parser', '_ironpython_sys_version_parser', '_java_getprop', '_libc_search', '_mac_ver_xml', '_node', '_norm_version', '_platform', '_platform_cache', '_pypy_sys_version_parser', '_sys_version', '_sys_version_cache', '_sys_version_parser', '_syscmd_file', '_syscmd_uname', '_syscmd_ver', '_uname_cache', '_ver_output', '_ver_stages', 'architecture', 'collections', 'java_ver', 'libc_ver', 'mac_ver', 'machine', 'node', 'os', 'platform', 'processor', 'python_branch', 'python_build', 'python_compiler', 'python_implementation', 'python_revision', 'python_version', 'python_version_tuple', 're', 'release', 'sys', 'system', 'system_alias', 'uname', 'uname_result', 'version', 'win32_edition', 'win32_is_iot', 'win32_ver']\n"
     ]
    }
   ],
   "source": [
    "import platform\n",
    "\n",
    "x = dir(platform)\n",
    "print(x)"
   ]
  },
  {
   "cell_type": "markdown",
   "id": "426f16ac-2553-45f1-89bc-4e9176968a62",
   "metadata": {},
   "source": [
    "___Note:___ The dir() function can be used on all modules, also the ones you create yourself.\n",
    "\n",
    "\n",
    "\n",
    "\n",
    "## Import From Module\n",
    "You can choose to import only parts from a module, by using the `from` keyword.\n",
    "\n",
    "***Example***\n",
    "\n",
    "The module named `mymodule` has one function and one dictionary:\n",
    "\n",
    "def greeting(name):\n",
    "  print(\"Hello, \" + name)\n",
    "\n",
    "person1 = {\n",
    "  \"name\": \"John\",\n",
    "  \"age\": 36,\n",
    "  \"country\": \"Norway\"\n",
    "}\n",
    "\n",
    "***Example***\n",
    "\n",
    "Import only the person1 dictionary from the module:"
   ]
  },
  {
   "cell_type": "code",
   "execution_count": 10,
   "id": "a0453ae7-0af6-4f4c-a4da-a08e2835450d",
   "metadata": {},
   "outputs": [
    {
     "name": "stdout",
     "output_type": "stream",
     "text": [
      "36\n"
     ]
    }
   ],
   "source": [
    "from mymodule import person1\n",
    "\n",
    "print (person1[\"age\"])"
   ]
  },
  {
   "cell_type": "markdown",
   "id": "0948e774-7f60-4273-b8da-c985c47ff67b",
   "metadata": {},
   "source": [
    "___Note:___ When importing using the `from` keyword, do not use the module name when referring to elements in the module. \n",
    "\n",
    "***Example:*** \n",
    "\n",
    "`person1[\"age\"]`, ***not*** `mymodule.person1[\"age\"]`"
   ]
  }
 ],
 "metadata": {
  "kernelspec": {
   "display_name": "Python 3 (ipykernel)",
   "language": "python",
   "name": "python3"
  },
  "language_info": {
   "codemirror_mode": {
    "name": "ipython",
    "version": 3
   },
   "file_extension": ".py",
   "mimetype": "text/x-python",
   "name": "python",
   "nbconvert_exporter": "python",
   "pygments_lexer": "ipython3",
   "version": "3.8.10"
  }
 },
 "nbformat": 4,
 "nbformat_minor": 5
}
