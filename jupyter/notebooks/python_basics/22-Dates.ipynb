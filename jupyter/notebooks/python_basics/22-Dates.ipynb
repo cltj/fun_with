{
 "cells": [
  {
   "cell_type": "markdown",
   "id": "f56a0499-4a0d-41f2-97ba-ae659e521f1b",
   "metadata": {},
   "source": [
    "# Python Datetime\n",
    "\n",
    "## Python Dates\n",
    "A date in Python is not a data type of its own, but we can import a module named `datetime` to work with dates as date objects.\n",
    "\n",
    "***Example***\n",
    "\n",
    "Import the datetime module and display the current date:"
   ]
  },
  {
   "cell_type": "code",
   "execution_count": 1,
   "id": "3f5bb820-a2fe-4200-bd74-690c90707b0f",
   "metadata": {},
   "outputs": [
    {
     "name": "stdout",
     "output_type": "stream",
     "text": [
      "2022-01-16 00:11:40.573629\n"
     ]
    }
   ],
   "source": [
    "import datetime\n",
    "\n",
    "x = datetime.datetime.now()\n",
    "print(x)"
   ]
  },
  {
   "cell_type": "markdown",
   "id": "bfbee766-017f-4eaf-a019-98271e9946eb",
   "metadata": {},
   "source": [
    "## Date Output\n",
    "When we execute the code from the example above the result will be:\n",
    "\n",
    "`2022-01-16 00:10:19.416536`\n",
    "The date contains year, month, day, hour, minute, second, and microsecond.\n",
    "\n",
    "The `datetime` module has many methods to return information about the date object.\n",
    "\n",
    "Here are a few examples, you will learn more about them later in this chapter:\n",
    "\n",
    "***Example***\n",
    "\n",
    "Return the year and name of weekday:"
   ]
  },
  {
   "cell_type": "code",
   "execution_count": 2,
   "id": "01885eb4-64ab-4af9-b2b0-83ad6b543248",
   "metadata": {},
   "outputs": [
    {
     "name": "stdout",
     "output_type": "stream",
     "text": [
      "2022\n",
      "Sunday\n"
     ]
    }
   ],
   "source": [
    "import datetime\n",
    "\n",
    "x = datetime.datetime.now()\n",
    "\n",
    "print(x.year)\n",
    "print(x.strftime(\"%A\"))"
   ]
  },
  {
   "cell_type": "markdown",
   "id": "51389963-b6e1-4af9-af16-887e5a2218c7",
   "metadata": {},
   "source": [
    "## Creating Date Objects\n",
    "To create a date, we can use the `datetime()` class (constructor) of the `datetime` module.\n",
    "\n",
    "The `datetime()` class requires three parameters to create a date: year, month, day.\n",
    "\n",
    "***Example***\n",
    "\n",
    "Create a date object:"
   ]
  },
  {
   "cell_type": "code",
   "execution_count": 3,
   "id": "a083cde6-dfe7-4869-9cf2-1115301246cc",
   "metadata": {},
   "outputs": [
    {
     "name": "stdout",
     "output_type": "stream",
     "text": [
      "2020-05-17 00:00:00\n"
     ]
    }
   ],
   "source": [
    "import datetime\n",
    "\n",
    "x = datetime.datetime(2020, 5, 17)\n",
    "\n",
    "print(x)"
   ]
  },
  {
   "cell_type": "markdown",
   "id": "abe33739-dcf5-4ff7-8691-8b06c0e21f0e",
   "metadata": {},
   "source": [
    "The `datetime()` class also takes parameters for time and timezone (hour, minute, second, microsecond, tzone), but they are optional, and has a default value of `0`, (`None` for timezone)."
   ]
  },
  {
   "cell_type": "markdown",
   "id": "2267ab18-1536-4344-94cf-4a85973ffbf8",
   "metadata": {},
   "source": [
    "## The strftime() Method\n",
    "The `datetime` object has a method for formatting date objects into readable strings.\n",
    "\n",
    "The method is called `strftime()`, and takes one parameter, `format`, to specify the format of the returned string:\n",
    "\n",
    "***Example***\n",
    "\n",
    "Display the name of the month:"
   ]
  },
  {
   "cell_type": "code",
   "execution_count": 4,
   "id": "daebd6be-5502-4227-9738-623fb1387374",
   "metadata": {},
   "outputs": [
    {
     "name": "stdout",
     "output_type": "stream",
     "text": [
      "June\n"
     ]
    }
   ],
   "source": [
    "import datetime\n",
    "\n",
    "x = datetime.datetime(2018, 6, 1)\n",
    "\n",
    "print(x.strftime(\"%B\"))"
   ]
  },
  {
   "cell_type": "markdown",
   "id": "53c59828-a969-472f-9f33-d3efab9e2920",
   "metadata": {},
   "source": [
    "A reference of all the legal format codes:"
   ]
  },
  {
   "cell_type": "markdown",
   "id": "6be6b9ef-197e-4bf0-8daa-aacebc295f21",
   "metadata": {},
   "source": [
    "| Directive | Description                                                 | Example                  |\n",
    "|-----------|-------------------------------------------------------------|--------------------------|\n",
    "| %a        | Weekday, short version                                      | Wed                      |\n",
    "| %A        | Weekday, full version                                       | Wednesday                |\n",
    "| %w        | Weekday as a number 0-6, 0 is Sunday                        | 3                        |\n",
    "| %d        | Day of month 01-31                                          | 31                       |\n",
    "| %b        | Month name, short version                                   | Dec                      |\n",
    "| %B        | Month name, full version                                    | December                 |\n",
    "| %m        | Month as a number 01-12                                     | 12                       |\n",
    "| %y        | Year, short version, without century                        | 18                       |\n",
    "| %Y        | Year, full version                                          | 2018                     |\n",
    "| %H        | Hour 00-23                                                  | 17                       |\n",
    "| %I        | Hour 00-12                                                  | 05                       |\n",
    "| %p        | AM/PM                                                       | PM                       |\n",
    "| %M        | Minute 00-59                                                | 41                       |\n",
    "| %S        | Second 00-59                                                | 08                       |\n",
    "| %f        | Microsecond 000000-999999                                   | 548513                   |\n",
    "| %z        | UTC offset                                                  | +0100                    |\n",
    "| %Z        | Timezone                                                    | CST                      |\n",
    "| %j        | Day number of year 001-366                                  | 365                      |\n",
    "| %U        | Week number of year, Sunday as the first day of week, 00-53 | 52                       |\n",
    "| %W        | Week number of year, Monday as the first day of week, 00-53 | 52                       |\n",
    "| %c        | Local version of date and time                              | Mon Dec 31 17:41:00 2018 |\n",
    "| %C        | Century                                                     | 20                       |\n",
    "| %x        | Local version of date                                       | 12/31/18                 |\n",
    "| %X        | Local version of time                                       | 17:41:00                 |\n",
    "| %%        | A % character                                               | %                        |\n",
    "| %G        | ISO 8601 year                                               | 2018                     |\n",
    "| %u        | ISO 8601 weekday (1-7)                                      | 1                        |\n",
    "| %V        | ISO 8601 weeknumber (01-53)                                 | 01                       |"
   ]
  }
 ],
 "metadata": {
  "kernelspec": {
   "display_name": "Python 3 (ipykernel)",
   "language": "python",
   "name": "python3"
  },
  "language_info": {
   "codemirror_mode": {
    "name": "ipython",
    "version": 3
   },
   "file_extension": ".py",
   "mimetype": "text/x-python",
   "name": "python",
   "nbconvert_exporter": "python",
   "pygments_lexer": "ipython3",
   "version": "3.8.10"
  }
 },
 "nbformat": 4,
 "nbformat_minor": 5
}
