{
 "cells": [
  {
   "cell_type": "markdown",
   "id": "1c13f7ba-67e2-4277-ac19-13c3a615e4ce",
   "metadata": {},
   "source": [
    "# Python Math\n",
    "Python has a set of built-in math functions, including an extensive math module, that allows you to perform mathematical tasks on numbers.\n",
    "\n",
    "## Built-in Math Functions\n",
    "The `min()` and `max()` functions can be used to find the lowest or highest value in an iterable:\n",
    "\n",
    "***Example***"
   ]
  },
  {
   "cell_type": "code",
   "execution_count": 1,
   "id": "534f7bc9-9fd5-48f9-8165-5c883316133f",
   "metadata": {},
   "outputs": [
    {
     "name": "stdout",
     "output_type": "stream",
     "text": [
      "5\n",
      "25\n"
     ]
    }
   ],
   "source": [
    "x = min(5, 10, 25)\n",
    "y = max(5, 10, 25)\n",
    "\n",
    "print(x)\n",
    "print(y)"
   ]
  },
  {
   "cell_type": "markdown",
   "id": "c5cd4b7a-9773-4eb0-94ca-b944e6de22ff",
   "metadata": {},
   "source": [
    "The `abs()` function returns the absolute (positive) value of the specified number:\n",
    "\n",
    "***Example***"
   ]
  },
  {
   "cell_type": "code",
   "execution_count": 2,
   "id": "ba7f4b46-1e47-4d16-8331-60ea01a3327f",
   "metadata": {},
   "outputs": [
    {
     "name": "stdout",
     "output_type": "stream",
     "text": [
      "7.25\n"
     ]
    }
   ],
   "source": [
    "x = abs(-7.25)\n",
    "\n",
    "print(x)"
   ]
  },
  {
   "cell_type": "markdown",
   "id": "df1c580b-bb04-4369-90d4-a799ae300078",
   "metadata": {},
   "source": [
    "The `pow(x, y)` function returns the value of x to the power of y (xy).\n",
    "\n",
    "***Example***\n",
    "Return the value of 4 to the power of 3 (same as 4 * 4 * 4):"
   ]
  },
  {
   "cell_type": "code",
   "execution_count": 3,
   "id": "3b73e25e-90a3-4bd9-b42f-87279bf7e341",
   "metadata": {},
   "outputs": [
    {
     "name": "stdout",
     "output_type": "stream",
     "text": [
      "64\n"
     ]
    }
   ],
   "source": [
    "x = pow(4, 3)\n",
    "\n",
    "print(x)"
   ]
  },
  {
   "cell_type": "markdown",
   "id": "00842c52-95e1-4b88-aa48-4962e297881a",
   "metadata": {},
   "source": [
    "## The Math Module\n",
    "Python has also a built-in module called `math`, which extends the list of mathematical functions.\n",
    "\n",
    "To use it, you must import the `math` module:\n",
    "\n",
    "`import math`\n",
    "\n",
    "When you have imported the `math` module, you can start using methods and constants of the module.\n",
    "\n",
    "The `math.sqrt()` method for example, returns the square root of a number:\n",
    "\n",
    "***Example***"
   ]
  },
  {
   "cell_type": "code",
   "execution_count": 4,
   "id": "db0860fb-c517-4053-9a76-f568a05039a5",
   "metadata": {},
   "outputs": [
    {
     "name": "stdout",
     "output_type": "stream",
     "text": [
      "8.0\n"
     ]
    }
   ],
   "source": [
    "import math\n",
    "\n",
    "x = math.sqrt(64)\n",
    "\n",
    "print(x)"
   ]
  },
  {
   "cell_type": "markdown",
   "id": "1bd9f890-19b6-4ceb-a02b-6f605064d343",
   "metadata": {},
   "source": [
    "The `math.ceil()` method rounds a number upwards to its nearest integer, and the `math.floor()` method rounds a number downwards to its nearest integer, and returns the result:\n",
    "\n",
    "***Example***"
   ]
  },
  {
   "cell_type": "code",
   "execution_count": 5,
   "id": "ef6727a2-1b13-4062-bb9f-30d585b0fda7",
   "metadata": {},
   "outputs": [
    {
     "name": "stdout",
     "output_type": "stream",
     "text": [
      "2\n",
      "1\n"
     ]
    }
   ],
   "source": [
    "import math\n",
    "\n",
    "x = math.ceil(1.4)\n",
    "y = math.floor(1.4)\n",
    "\n",
    "print(x) # returns 2\n",
    "print(y) # returns 1"
   ]
  },
  {
   "cell_type": "markdown",
   "id": "0dcdf873-f41a-47d7-9e5f-fffbb16a713c",
   "metadata": {},
   "source": [
    "The `math.pi` constant, returns the value of PI (3.14...):\n",
    "\n",
    "***Example***"
   ]
  },
  {
   "cell_type": "code",
   "execution_count": 6,
   "id": "3c845795-72a0-42ce-b115-7257d86b999a",
   "metadata": {},
   "outputs": [
    {
     "name": "stdout",
     "output_type": "stream",
     "text": [
      "3.141592653589793\n"
     ]
    }
   ],
   "source": [
    "import math\n",
    "\n",
    "x = math.pi\n",
    "\n",
    "print(x)"
   ]
  },
  {
   "cell_type": "markdown",
   "id": "862dc039-e8b7-449a-acde-4ca3265741f6",
   "metadata": {},
   "source": [
    "#### Complete Math Module Reference\n",
    "\n",
    "In our ***Math Module Reference*** you will find a complete reference of all methods and constants that belongs to the ***Math module***."
   ]
  }
 ],
 "metadata": {
  "kernelspec": {
   "display_name": "Python 3 (ipykernel)",
   "language": "python",
   "name": "python3"
  },
  "language_info": {
   "codemirror_mode": {
    "name": "ipython",
    "version": 3
   },
   "file_extension": ".py",
   "mimetype": "text/x-python",
   "name": "python",
   "nbconvert_exporter": "python",
   "pygments_lexer": "ipython3",
   "version": "3.8.10"
  }
 },
 "nbformat": 4,
 "nbformat_minor": 5
}
