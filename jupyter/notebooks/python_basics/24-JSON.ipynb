{
 "cells": [
  {
   "cell_type": "markdown",
   "id": "6d93fd1a-b0cf-4884-b0cc-faac37126d61",
   "metadata": {},
   "source": [
    "# Python JSON\n",
    "JSON is a syntax for storing and exchanging data.\n",
    "\n",
    "JSON is text, written with JavaScript object notation.\n",
    "\n",
    "## JSON in Python\n",
    "Python has a built-in package called `json`, which can be used to work with JSON data.\n",
    "\n",
    "***Example***\n",
    "\n",
    "Import the json module:"
   ]
  },
  {
   "cell_type": "code",
   "execution_count": 1,
   "id": "6d3a1601-0ae3-4326-88b5-3601c3c86715",
   "metadata": {},
   "outputs": [],
   "source": [
    "import json"
   ]
  },
  {
   "cell_type": "markdown",
   "id": "d859a8ae-a4c1-418c-878c-e9d1a09b6b41",
   "metadata": {},
   "source": [
    "## Parse JSON - Convert from JSON to Python\n",
    "If you have a JSON string, you can parse it by using the `json.loads()` method.\n",
    "\n",
    "The result will be a Python dictionary.\n",
    "\n",
    "***Example***\n",
    "\n",
    "Convert from JSON to Python:"
   ]
  },
  {
   "cell_type": "code",
   "execution_count": 2,
   "id": "c3d2d326-0fa5-468b-8265-64f0f561434b",
   "metadata": {},
   "outputs": [
    {
     "name": "stdout",
     "output_type": "stream",
     "text": [
      "30\n"
     ]
    }
   ],
   "source": [
    "import json\n",
    "\n",
    "# some JSON:\n",
    "x =  '{ \"name\":\"John\", \"age\":30, \"city\":\"New York\"}'\n",
    "\n",
    "# parse x:\n",
    "y = json.loads(x)\n",
    "\n",
    "# the result is a Python dictionary:\n",
    "print(y[\"age\"])"
   ]
  },
  {
   "cell_type": "markdown",
   "id": "26544066-c428-461a-be09-d1606fea0e68",
   "metadata": {},
   "source": [
    "## Convert from Python to JSON\n",
    "If you have a Python object, you can convert it into a JSON string by using the `json.dumps()` method.\n",
    "\n",
    "***Example***\n",
    "\n",
    "Convert from Python to JSON:"
   ]
  },
  {
   "cell_type": "code",
   "execution_count": 3,
   "id": "7b12339c-efd7-44d5-a162-60aa81eb5e07",
   "metadata": {},
   "outputs": [
    {
     "name": "stdout",
     "output_type": "stream",
     "text": [
      "{\"name\": \"John\", \"age\": 30, \"city\": \"New York\"}\n"
     ]
    }
   ],
   "source": [
    "import json\n",
    "\n",
    "# a Python object (dict):\n",
    "x = {\n",
    "  \"name\": \"John\",\n",
    "  \"age\": 30,\n",
    "  \"city\": \"New York\"\n",
    "}\n",
    "\n",
    "# convert into JSON:\n",
    "y = json.dumps(x)\n",
    "\n",
    "# the result is a JSON string:\n",
    "print(y)"
   ]
  },
  {
   "cell_type": "markdown",
   "id": "9c1db257-304b-41e8-bda9-9df86aae1b53",
   "metadata": {},
   "source": [
    "You can convert Python objects of the following types, into JSON strings:\n",
    "\n",
    "- dict\n",
    "- list\n",
    "- tuple\n",
    "- string\n",
    "- int\n",
    "- float\n",
    "- True\n",
    "- False\n",
    "- None\n",
    "\n",
    "***Example***\n",
    "Convert Python objects into JSON strings, and print the values:"
   ]
  },
  {
   "cell_type": "code",
   "execution_count": 4,
   "id": "0c0a293d-5dd2-4088-b6b3-cd045d381a58",
   "metadata": {},
   "outputs": [
    {
     "name": "stdout",
     "output_type": "stream",
     "text": [
      "{\"name\": \"John\", \"age\": 30}\n",
      "[\"apple\", \"bananas\"]\n",
      "[\"apple\", \"bananas\"]\n",
      "\"hello\"\n",
      "42\n",
      "31.76\n",
      "true\n",
      "false\n",
      "null\n"
     ]
    }
   ],
   "source": [
    "import json\n",
    "\n",
    "print(json.dumps({\"name\": \"John\", \"age\": 30}))\n",
    "print(json.dumps([\"apple\", \"bananas\"]))\n",
    "print(json.dumps((\"apple\", \"bananas\")))\n",
    "print(json.dumps(\"hello\"))\n",
    "print(json.dumps(42))\n",
    "print(json.dumps(31.76))\n",
    "print(json.dumps(True))\n",
    "print(json.dumps(False))\n",
    "print(json.dumps(None))"
   ]
  },
  {
   "cell_type": "markdown",
   "id": "e53bb8f5-06b2-48b4-a7d3-832bca45b24f",
   "metadata": {},
   "source": [
    "When you convert from Python to JSON, Python objects are converted into the JSON (JavaScript) equivalent:"
   ]
  },
  {
   "cell_type": "markdown",
   "id": "46983206-ef65-478e-a8c9-659d3efb2618",
   "metadata": {},
   "source": [
    "| Python | JSON   |\n",
    "|--------|--------|\n",
    "| dict   | Object |\n",
    "| list   | Array  |\n",
    "| tuple  | Array  |\n",
    "| str    | String |\n",
    "| int    | Number |\n",
    "| float  | Number |\n",
    "| True   | true   |\n",
    "| False  | false  |\n",
    "| None   | null   |"
   ]
  },
  {
   "cell_type": "markdown",
   "id": "59583eb4-3d98-44ae-827d-80a19c0401d5",
   "metadata": {},
   "source": [
    "***Example***\n",
    "\n",
    "Convert a Python object containing all the legal data types:"
   ]
  },
  {
   "cell_type": "code",
   "execution_count": 5,
   "id": "7a95e5e9-06ff-4835-ac81-ef2a4cf8c0f2",
   "metadata": {},
   "outputs": [
    {
     "name": "stdout",
     "output_type": "stream",
     "text": [
      "{\"name\": \"John\", \"age\": 30, \"married\": true, \"divorced\": false, \"children\": [\"Ann\", \"Billy\"], \"pets\": null, \"cars\": [{\"model\": \"BMW 230\", \"mpg\": 27.5}, {\"model\": \"Ford Edge\", \"mpg\": 24.1}]}\n"
     ]
    }
   ],
   "source": [
    "import json\n",
    "\n",
    "x = {\n",
    "  \"name\": \"John\",\n",
    "  \"age\": 30,\n",
    "  \"married\": True,\n",
    "  \"divorced\": False,\n",
    "  \"children\": (\"Ann\",\"Billy\"),\n",
    "  \"pets\": None,\n",
    "  \"cars\": [\n",
    "    {\"model\": \"BMW 230\", \"mpg\": 27.5},\n",
    "    {\"model\": \"Ford Edge\", \"mpg\": 24.1}\n",
    "  ]\n",
    "}\n",
    "\n",
    "print(json.dumps(x))"
   ]
  },
  {
   "cell_type": "markdown",
   "id": "3cd740f3-ae46-4ef8-ad98-ebd39ed9d42e",
   "metadata": {},
   "source": [
    "## Format the Result\n",
    "The example above prints a JSON string, but it is not very easy to read, with no indentations and line breaks.\n",
    "\n",
    "The `json.dumps()` method has parameters to make it easier to read the result:\n",
    "\n",
    "***Example***\n",
    "\n",
    "Use the `indent` parameter to define the numbers of indents:"
   ]
  },
  {
   "cell_type": "code",
   "execution_count": 6,
   "id": "8fcccf69-f6ba-4d3c-ae3e-f51d7df0ac6d",
   "metadata": {},
   "outputs": [
    {
     "data": {
      "text/plain": [
       "'{\\n    \"name\": \"John\",\\n    \"age\": 30,\\n    \"married\": true,\\n    \"divorced\": false,\\n    \"children\": [\\n        \"Ann\",\\n        \"Billy\"\\n    ],\\n    \"pets\": null,\\n    \"cars\": [\\n        {\\n            \"model\": \"BMW 230\",\\n            \"mpg\": 27.5\\n        },\\n        {\\n            \"model\": \"Ford Edge\",\\n            \"mpg\": 24.1\\n        }\\n    ]\\n}'"
      ]
     },
     "execution_count": 6,
     "metadata": {},
     "output_type": "execute_result"
    }
   ],
   "source": [
    "json.dumps(x, indent=4)"
   ]
  },
  {
   "cell_type": "markdown",
   "id": "bfdb41cc-ac55-4ee1-99ce-ad6a2b877643",
   "metadata": {},
   "source": [
    "You can also define the separators, default value is (\", \", \": \"), which means using a comma and a space to separate each object, and a colon and a space to separate keys from values:\n",
    "\n",
    "***Example***\n",
    "\n",
    "Use the `separators` parameter to change the default separator:"
   ]
  },
  {
   "cell_type": "code",
   "execution_count": 7,
   "id": "2b9bc7e6-ab1a-4c00-a5ae-f94916988772",
   "metadata": {},
   "outputs": [
    {
     "data": {
      "text/plain": [
       "'{\\n    \"name\" = \"John\". \\n    \"age\" = 30. \\n    \"married\" = true. \\n    \"divorced\" = false. \\n    \"children\" = [\\n        \"Ann\". \\n        \"Billy\"\\n    ]. \\n    \"pets\" = null. \\n    \"cars\" = [\\n        {\\n            \"model\" = \"BMW 230\". \\n            \"mpg\" = 27.5\\n        }. \\n        {\\n            \"model\" = \"Ford Edge\". \\n            \"mpg\" = 24.1\\n        }\\n    ]\\n}'"
      ]
     },
     "execution_count": 7,
     "metadata": {},
     "output_type": "execute_result"
    }
   ],
   "source": [
    "json.dumps(x, indent=4, separators=(\". \", \" = \"))"
   ]
  },
  {
   "cell_type": "markdown",
   "id": "beb8693e-48a0-4747-baeb-46ddedb83926",
   "metadata": {},
   "source": [
    "## Order the Result\n",
    "The `json.dumps()` method has parameters to order the keys in the result:\n",
    "\n",
    "***Example***\n",
    "Use the `sort_keys` parameter to specify if the result should be sorted or not:"
   ]
  },
  {
   "cell_type": "code",
   "execution_count": 8,
   "id": "22b5168c-158f-4db9-90d2-11e90c3c25b9",
   "metadata": {},
   "outputs": [
    {
     "data": {
      "text/plain": [
       "'{\\n    \"age\": 30,\\n    \"cars\": [\\n        {\\n            \"model\": \"BMW 230\",\\n            \"mpg\": 27.5\\n        },\\n        {\\n            \"model\": \"Ford Edge\",\\n            \"mpg\": 24.1\\n        }\\n    ],\\n    \"children\": [\\n        \"Ann\",\\n        \"Billy\"\\n    ],\\n    \"divorced\": false,\\n    \"married\": true,\\n    \"name\": \"John\",\\n    \"pets\": null\\n}'"
      ]
     },
     "execution_count": 8,
     "metadata": {},
     "output_type": "execute_result"
    }
   ],
   "source": [
    "json.dumps(x, indent=4, sort_keys=True)"
   ]
  }
 ],
 "metadata": {
  "kernelspec": {
   "display_name": "Python 3 (ipykernel)",
   "language": "python",
   "name": "python3"
  },
  "language_info": {
   "codemirror_mode": {
    "name": "ipython",
    "version": 3
   },
   "file_extension": ".py",
   "mimetype": "text/x-python",
   "name": "python",
   "nbconvert_exporter": "python",
   "pygments_lexer": "ipython3",
   "version": "3.8.10"
  }
 },
 "nbformat": 4,
 "nbformat_minor": 5
}
