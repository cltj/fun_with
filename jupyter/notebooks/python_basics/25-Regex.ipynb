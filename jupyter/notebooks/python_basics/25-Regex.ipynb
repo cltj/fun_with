{
 "cells": [
  {
   "cell_type": "markdown",
   "id": "0f54d25c-6c8a-415e-9038-3f03fc819e97",
   "metadata": {},
   "source": [
    "# Python RegEx\n",
    "A RegEx, or Regular Expression, is a sequence of characters that forms a search pattern.\n",
    "\n",
    "RegEx can be used to check if a string contains the specified search pattern.\n",
    "\n",
    "## RegEx Module\n",
    "Python has a built-in package called `re`, which can be used to work with Regular Expressions.\n",
    "\n",
    "Import the `re` module:"
   ]
  },
  {
   "cell_type": "code",
   "execution_count": 1,
   "id": "23d34710-eb7c-4697-8313-319d31e5d633",
   "metadata": {},
   "outputs": [],
   "source": [
    "import re"
   ]
  },
  {
   "cell_type": "markdown",
   "id": "f615a42a-30f9-4c0a-899c-ab201bef5e45",
   "metadata": {},
   "source": [
    "## RegEx in Python\n",
    "When you have imported the `re` module, you can start using regular expressions:\n",
    "\n",
    "***Example***\n",
    "\n",
    "Search the string to see if it starts with \"The\" and ends with \"Spain\":"
   ]
  },
  {
   "cell_type": "code",
   "execution_count": 3,
   "id": "fd99801b-5d7a-447f-b037-a796cde5e9f1",
   "metadata": {},
   "outputs": [],
   "source": [
    "import re\n",
    "\n",
    "txt = \"The rain in Spain\"\n",
    "x = re.search(\"^The.*Spain$\", txt)"
   ]
  },
  {
   "cell_type": "markdown",
   "id": "796f67c0-551a-4de4-8103-1cb651291952",
   "metadata": {},
   "source": [
    "## RegEx Functions\n",
    "The `re` module offers a set of functions that allows us to search a string for a match:"
   ]
  },
  {
   "cell_type": "markdown",
   "id": "63e3294e-e169-417e-88d0-c7e8970fbc46",
   "metadata": {},
   "source": [
    "| Function | Description                                                       |\n",
    "|----------|-------------------------------------------------------------------|\n",
    "| findall  | Returns a list containing all matches                             |\n",
    "| search   | Returns a Match object if there is a match anywhere in the string |\n",
    "| split    | Returns a list where the string has been split at each match      |\n",
    "| sub      | Replaces one or many matches with a string                        |"
   ]
  },
  {
   "cell_type": "markdown",
   "id": "1d75f107-5486-48d8-929f-565db3e436ae",
   "metadata": {},
   "source": [
    "## Metacharacters\n",
    "Metacharacters are characters with a special meaning:"
   ]
  },
  {
   "cell_type": "markdown",
   "id": "023b207e-f8aa-456b-b253-6e603006da0a",
   "metadata": {},
   "source": [
    "| Character | Description                                                                | Example        |\n",
    "|-----------|----------------------------------------------------------------------------|----------------|\n",
    "| []        | A set of characters                                                        | \"[a-m]\"        |\n",
    "| \\         | Signals a special sequence (can also be used to escape special characters) | \"\\d\"           |\n",
    "| .         | Any character (except newline character)                                   | \"he..o\"        |\n",
    "| ^         | Starts with                                                                | \"^hello\"       |\n",
    "| $         | Ends with                                                                  | \"planet$\"      |\n",
    "| *         | Zero or more occurrences                                                   | \"he.*o\"        |\n",
    "| +         | One or more occurrences                                                    | \"he.+o\"        |\n",
    "| ?         | Zero or one occurrences                                                    | \"he.?o\"        |\n",
    "| {}        | Exactly the specified number of occurrences                                | \"he{2}o\"       |\n",
    "| \\|        | Either or                                                                  | \"falls\\|stays\" |\n",
    "| ()        | Capture and group                                                          |                |"
   ]
  },
  {
   "cell_type": "markdown",
   "id": "eccf13b3-a5b5-4bf4-a2ff-b2a2a9eb4f29",
   "metadata": {},
   "source": [
    "## Special Sequences\n",
    "A special sequence is a `\\` followed by one of the characters in the list below, and has a special meaning:"
   ]
  },
  {
   "cell_type": "markdown",
   "id": "302e6e28-0324-4131-a2f4-90aa0cee3295",
   "metadata": {},
   "source": [
    "| Character | Description                                                                                                                                                                                                 | Example           |\n",
    "|-----------|-------------------------------------------------------------------------------------------------------------------------------------------------------------------------------------------------------------|-------------------|\n",
    "| \\A        | Returns a match if the specified characters are at the beginning of the string                                                                                                                              | \"\\AThe\"           |\n",
    "| \\b        | Returns a match where the specified characters are at the beginning or at the end of a word (the \"r\" in the beginning is making sure that the string is being treated as a \"raw string\")                    | r\"\\bain\" r\"ain\\b\" |\n",
    "| \\B        | Returns a match where the specified characters are present, but NOT at the beginning (or at the end) of a word (the \"r\" in the beginning is making sure that the string is being treated as a \"raw string\") | r\"\\Bain\" r\"ain\\B\" |\n",
    "| \\d        | Returns a match where the string contains digits (numbers from 0-9)                                                                                                                                         | \"\\d\"              |\n",
    "| \\D        | Returns a match where the string DOES NOT contain digits                                                                                                                                                    | \"\\D\"              |\n",
    "| \\s        | Returns a match where the string contains a white space character                                                                                                                                           | \"\\s\"              |\n",
    "| \\S        | Returns a match where the string DOES NOT contain a white space character                                                                                                                                   | \"\\S\"              |\n",
    "| \\w        | Returns a match where the string contains any word characters (characters from a to Z, digits from 0-9, and the underscore _ character)                                                                     | \"\\w\"              |\n",
    "| \\W        | Returns a match where the string DOES NOT contain any word characters                                                                                                                                       | \"\\W\"              |\n",
    "| \\Z        | Returns a match if the specified characters are at the end of the string                                                                                                                                    | \"Spain\\Z\"         |"
   ]
  },
  {
   "cell_type": "markdown",
   "id": "95429338-fa82-4921-847b-d3b0f077fb10",
   "metadata": {},
   "source": [
    "## Sets\n",
    "A set is a set of characters inside a pair of square brackets `[]` with a special meaning:"
   ]
  },
  {
   "cell_type": "markdown",
   "id": "6e6cb3a5-4ba9-492b-8458-a23c8948a3c7",
   "metadata": {},
   "source": [
    "| Set        | Description                                                                                                           |\n",
    "|------------|-----------------------------------------------------------------------------------------------------------------------|\n",
    "| [arn]      | Returns a match where one of the specified characters (a, r, or n) are present                                        |\n",
    "| [a-n]      | Returns a match for any lower case character, alphabetically between a and n                                          |\n",
    "| [^arn]     | Returns a match for any character EXCEPT a, r, and n                                                                  |\n",
    "| [0123]     | Returns a match where any of the specified digits (0, 1, 2, or 3) are present                                         |\n",
    "| [0-9]      | Returns a match for any digit between 0 and 9                                                                         |\n",
    "| [0-5][0-9] | Returns a match for any two-digit numbers from 00 and 59                                                              |\n",
    "| [a-zA-Z]   | Returns a match for any character alphabetically between a and z, lower case OR upper case                            |\n",
    "| [+]        | In sets, +, *, ., \\|, (), $,{} has no special meaning, so [+] means: return a match for any + character in the string |"
   ]
  },
  {
   "cell_type": "markdown",
   "id": "46363e9c-30c0-4cfa-b2cd-6bd188103d4f",
   "metadata": {},
   "source": [
    "## The findall() Function\n",
    "The `findall()` function returns a list containing all matches.\n",
    "\n",
    "***Example***\n",
    "\n",
    "Print a list of all matches:"
   ]
  },
  {
   "cell_type": "code",
   "execution_count": 4,
   "id": "2284b988-c884-41e6-bb37-e7fa60ebba0c",
   "metadata": {},
   "outputs": [
    {
     "name": "stdout",
     "output_type": "stream",
     "text": [
      "['ai', 'ai']\n"
     ]
    }
   ],
   "source": [
    "import re\n",
    "\n",
    "txt = \"The rain in Spain\"\n",
    "x = re.findall(\"ai\", txt)\n",
    "print(x)"
   ]
  },
  {
   "cell_type": "markdown",
   "id": "4e87eb69-282c-451f-a06c-bc450758d241",
   "metadata": {},
   "source": [
    "The list contains the matches in the order they are found.\n",
    "\n",
    "If no matches are found, an empty list is returned:\n",
    "\n",
    "***Example***\n",
    "\n",
    "Return an empty list if no match was found:"
   ]
  },
  {
   "cell_type": "code",
   "execution_count": 5,
   "id": "04ce8601-5b6a-4af6-b8f4-407ec917c975",
   "metadata": {},
   "outputs": [
    {
     "name": "stdout",
     "output_type": "stream",
     "text": [
      "[]\n"
     ]
    }
   ],
   "source": [
    "import re\n",
    "\n",
    "txt = \"The rain in Spain\"\n",
    "x = re.findall(\"Portugal\", txt)\n",
    "print(x)"
   ]
  },
  {
   "cell_type": "markdown",
   "id": "6822d93e-faaf-4073-854d-020663b66a8e",
   "metadata": {},
   "source": [
    "## The search() Function\n",
    "The `search()` function searches the string for a match, and returns a Match object if there is a match.\n",
    "\n",
    "If there is more than one match, only the first occurrence of the match will be returned:\n",
    "\n",
    "***Example***\n",
    "\n",
    "Search for the first white-space character in the string:"
   ]
  },
  {
   "cell_type": "code",
   "execution_count": 6,
   "id": "90add0d7-b5ef-4929-97fa-042d1926c073",
   "metadata": {},
   "outputs": [
    {
     "name": "stdout",
     "output_type": "stream",
     "text": [
      "The first white-space character is located in position: 3\n"
     ]
    }
   ],
   "source": [
    "import re\n",
    "\n",
    "txt = \"The rain in Spain\"\n",
    "x = re.search(\"\\s\", txt)\n",
    "\n",
    "print(\"The first white-space character is located in position:\", x.start())"
   ]
  },
  {
   "cell_type": "markdown",
   "id": "eb0834b1-5d0c-48e3-b7d0-3d49e51ac70b",
   "metadata": {},
   "source": [
    "If no matches are found, the value `None` is returned:\n",
    "\n",
    "***Example***\n",
    "Make a search that returns no match:"
   ]
  },
  {
   "cell_type": "code",
   "execution_count": 7,
   "id": "7ec6c6bf-b566-4d61-844b-c10af215501e",
   "metadata": {},
   "outputs": [
    {
     "name": "stdout",
     "output_type": "stream",
     "text": [
      "None\n"
     ]
    }
   ],
   "source": [
    "import re\n",
    "\n",
    "txt = \"The rain in Spain\"\n",
    "x = re.search(\"Portugal\", txt)\n",
    "print(x)"
   ]
  },
  {
   "cell_type": "markdown",
   "id": "291cc148-7c3c-4638-9e8a-232db61562b4",
   "metadata": {},
   "source": [
    "## The split() Function\n",
    "The `split()` function returns a list where the string has been split at each match:\n",
    "\n",
    "***Example***\n",
    "\n",
    "Split at each white-space character:"
   ]
  },
  {
   "cell_type": "code",
   "execution_count": 8,
   "id": "33412564-e8dd-4c12-9e92-0f33d1dcd968",
   "metadata": {},
   "outputs": [
    {
     "name": "stdout",
     "output_type": "stream",
     "text": [
      "['The', 'rain', 'in', 'Spain']\n"
     ]
    }
   ],
   "source": [
    "import re\n",
    "\n",
    "txt = \"The rain in Spain\"\n",
    "x = re.split(\"\\s\", txt)\n",
    "print(x)"
   ]
  },
  {
   "cell_type": "markdown",
   "id": "393b2260-74da-4ac9-9dd6-f4ad15e625b4",
   "metadata": {},
   "source": [
    "You can control the number of occurrences by specifying the `maxsplit` parameter:\n",
    "\n",
    "***Example***\n",
    "\n",
    "Split the string only at the first occurrence:"
   ]
  },
  {
   "cell_type": "code",
   "execution_count": 9,
   "id": "faa0e192-76b9-464f-86ca-996a9a472683",
   "metadata": {},
   "outputs": [
    {
     "name": "stdout",
     "output_type": "stream",
     "text": [
      "['The', 'rain in Spain']\n"
     ]
    }
   ],
   "source": [
    "import re\n",
    "\n",
    "txt = \"The rain in Spain\"\n",
    "x = re.split(\"\\s\", txt, 1)\n",
    "print(x)"
   ]
  },
  {
   "cell_type": "markdown",
   "id": "dcb787c6-a784-4bf2-a0fc-0cbfafeb546f",
   "metadata": {},
   "source": [
    "## The sub() Function\n",
    "The `sub()` function replaces the matches with the text of your choice:\n",
    "\n",
    "***Example***\n",
    "\n",
    "Replace every white-space character with the number 9:"
   ]
  },
  {
   "cell_type": "code",
   "execution_count": 10,
   "id": "dcb57500-ea9a-4829-ba52-610e8d9a19d4",
   "metadata": {},
   "outputs": [
    {
     "name": "stdout",
     "output_type": "stream",
     "text": [
      "The9rain9in9Spain\n"
     ]
    }
   ],
   "source": [
    "import re\n",
    "\n",
    "txt = \"The rain in Spain\"\n",
    "x = re.sub(\"\\s\", \"9\", txt)\n",
    "print(x)"
   ]
  },
  {
   "cell_type": "markdown",
   "id": "aa8ef7f8-6f5a-4153-a3b6-b99ee199cbfa",
   "metadata": {},
   "source": [
    "You can control the number of replacements by specifying the `count` parameter:\n",
    "\n",
    "***Example***\n",
    "\n",
    "Replace the first 2 occurrences:"
   ]
  },
  {
   "cell_type": "code",
   "execution_count": 11,
   "id": "2b531f8d-690b-42ff-9554-c10e7755e773",
   "metadata": {},
   "outputs": [
    {
     "name": "stdout",
     "output_type": "stream",
     "text": [
      "The9rain9in Spain\n"
     ]
    }
   ],
   "source": [
    "import re\n",
    "\n",
    "txt = \"The rain in Spain\"\n",
    "x = re.sub(\"\\s\", \"9\", txt, 2)\n",
    "print(x)"
   ]
  },
  {
   "cell_type": "markdown",
   "id": "40eda9d0-9fe7-4b32-ba3d-337a8fec011a",
   "metadata": {},
   "source": [
    "## Match Object\n",
    "A Match Object is an object containing information about the search and the result.\n",
    "\n",
    "***Note:***  If there is no match, the value `None` will be returned, instead of the Match Object.\n",
    "\n",
    "***Example***\n",
    "\n",
    "Do a search that will return a Match Object:"
   ]
  },
  {
   "cell_type": "code",
   "execution_count": 12,
   "id": "1e743fdf-e1f1-43fc-86fb-11761fd42150",
   "metadata": {},
   "outputs": [
    {
     "name": "stdout",
     "output_type": "stream",
     "text": [
      "<re.Match object; span=(5, 7), match='ai'>\n"
     ]
    }
   ],
   "source": [
    "import re\n",
    "\n",
    "txt = \"The rain in Spain\"\n",
    "x = re.search(\"ai\", txt)\n",
    "print(x) #this will print an object"
   ]
  },
  {
   "cell_type": "markdown",
   "id": "eb690492-8190-483a-92ec-e634a467f80c",
   "metadata": {},
   "source": [
    "The Match object has properties and methods used to retrieve information about the search, and the result:\n",
    "\n",
    "- `.span()` returns a tuple containing the start-, and end positions of the match.\n",
    "- `.string` returns the string passed into the function\n",
    "- `.group()` returns the part of the string where there was a match\n",
    "\n",
    "***Example***\n",
    "\n",
    "Print the position (start- and end-position) of the first match occurrence.\n",
    "\n",
    "The regular expression looks for any words that starts with an upper case \"S\":"
   ]
  },
  {
   "cell_type": "code",
   "execution_count": 13,
   "id": "569e1bc5-fa64-4be8-8ad2-c2c71d373e31",
   "metadata": {},
   "outputs": [
    {
     "name": "stdout",
     "output_type": "stream",
     "text": [
      "(12, 17)\n"
     ]
    }
   ],
   "source": [
    "import re\n",
    "\n",
    "txt = \"The rain in Spain\"\n",
    "x = re.search(r\"\\bS\\w+\", txt)\n",
    "print(x.span())"
   ]
  },
  {
   "cell_type": "markdown",
   "id": "6476df7d-cc61-4644-997d-20b592f136ee",
   "metadata": {},
   "source": [
    "***Example***\n",
    "\n",
    "Print the string passed into the function:"
   ]
  },
  {
   "cell_type": "code",
   "execution_count": 14,
   "id": "29f69b2b-d049-4eb9-9288-502bf4a9922d",
   "metadata": {},
   "outputs": [
    {
     "name": "stdout",
     "output_type": "stream",
     "text": [
      "The rain in Spain\n"
     ]
    }
   ],
   "source": [
    "import re\n",
    "\n",
    "txt = \"The rain in Spain\"\n",
    "x = re.search(r\"\\bS\\w+\", txt)\n",
    "print(x.string)"
   ]
  },
  {
   "cell_type": "markdown",
   "id": "340058f0-f63a-4019-b213-6f984603c005",
   "metadata": {},
   "source": [
    "***Example***\n",
    "\n",
    "Print the part of the string where there was a match.\n",
    "\n",
    "The regular expression looks for any words that starts with an upper case \"S\":"
   ]
  },
  {
   "cell_type": "code",
   "execution_count": 15,
   "id": "068cba31-1fa6-43af-a094-e3bb48cf895f",
   "metadata": {},
   "outputs": [
    {
     "name": "stdout",
     "output_type": "stream",
     "text": [
      "Spain\n"
     ]
    }
   ],
   "source": [
    "import re\n",
    "\n",
    "txt = \"The rain in Spain\"\n",
    "x = re.search(r\"\\bS\\w+\", txt)\n",
    "print(x.group())"
   ]
  },
  {
   "cell_type": "markdown",
   "id": "e6e88df6-21ed-4667-8428-14781675b1ca",
   "metadata": {},
   "source": [
    "***Note:*** If there is no match, the value `None` will be returned, instead of the Match Object."
   ]
  }
 ],
 "metadata": {
  "kernelspec": {
   "display_name": "Python 3 (ipykernel)",
   "language": "python",
   "name": "python3"
  },
  "language_info": {
   "codemirror_mode": {
    "name": "ipython",
    "version": 3
   },
   "file_extension": ".py",
   "mimetype": "text/x-python",
   "name": "python",
   "nbconvert_exporter": "python",
   "pygments_lexer": "ipython3",
   "version": "3.8.10"
  }
 },
 "nbformat": 4,
 "nbformat_minor": 5
}
