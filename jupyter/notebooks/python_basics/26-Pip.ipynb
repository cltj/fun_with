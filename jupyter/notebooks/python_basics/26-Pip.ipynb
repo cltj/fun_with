{
 "cells": [
  {
   "cell_type": "markdown",
   "id": "0033c3b4-2fed-4b63-9829-f03ee92b337a",
   "metadata": {},
   "source": [
    "# Python PIP\n",
    "## What is PIP?\n",
    "PIP is a package manager for Python packages, or modules if you like.\n",
    "\n",
    "***Note:*** If you have Python version 3.4 or later, PIP is included by default.\n",
    "\n",
    "## What is a Package?\n",
    "A package contains all the files you need for a module.\n",
    "\n",
    "Modules are Python code libraries you can include in your project.\n",
    "\n",
    "## Check if PIP is Installed\n",
    "Navigate your command line to the location of Python's script directory, and type the following:\n",
    "\n",
    "***Example***\n",
    "\n",
    "Check PIP version:\n",
    "\n",
    "`C:\\Users\\Your Name\\AppData\\Local\\Programs\\Python\\Python36-32\\Scripts>pip --version`"
   ]
  },
  {
   "cell_type": "markdown",
   "id": "a4d8fb49-677a-4c65-a9af-acc1230ac164",
   "metadata": {},
   "source": [
    "## Install PIP\n",
    "If you do not have PIP installed, you can download and install it from this page: https://pypi.org/project/pip/\n",
    "\n",
    "## Download a Package\n",
    "Downloading a package is very easy.\n",
    "\n",
    "Open the command line interface and tell PIP to download the package you want.\n",
    "\n",
    "Navigate your command line to the location of Python's script directory, and type the following:\n",
    "\n",
    "***Example***\n",
    "\n",
    "Download a package named \"camelcase\":\n",
    "\n",
    "`C:\\Users\\Your Name\\AppData\\Local\\Programs\\Python\\Python36-32\\Scripts>pip install camelcase`\n",
    "\n",
    "Now you have downloaded and installed your first package!"
   ]
  },
  {
   "cell_type": "markdown",
   "id": "26617e8a-6e2f-4094-aaff-404e8bb83a6c",
   "metadata": {},
   "source": [
    "## Using a Package\n",
    "Once the package is installed, it is ready to use.\n",
    "\n",
    "Import the \"camelcase\" package into your project.\n",
    "\n",
    "***Example***\n",
    "\n",
    "Import and use \"camelcase\":"
   ]
  },
  {
   "cell_type": "code",
   "execution_count": 3,
   "id": "96b7189e-2f47-4bb4-80b2-120515e04e1d",
   "metadata": {},
   "outputs": [
    {
     "data": {
      "text/plain": [
       "'import camelcase\\n\\nc = camelcase.CamelCase()\\n\\ntxt = \"hello world\"\\n\\nprint(c.hump(txt))'"
      ]
     },
     "execution_count": 3,
     "metadata": {},
     "output_type": "execute_result"
    }
   ],
   "source": [
    "\"\"\"import camelcase\n",
    "\n",
    "c = camelcase.CamelCase()\n",
    "\n",
    "txt = \"hello world\"\n",
    "\n",
    "print(c.hump(txt))\"\"\""
   ]
  },
  {
   "cell_type": "markdown",
   "id": "b5e13cdb-eddc-47ed-8d84-f7c5b59790bb",
   "metadata": {},
   "source": [
    "## Find Packages\n",
    "Find more packages at https://pypi.org/.\n",
    "\n",
    "## Remove a Package\n",
    "Use the uninstall command to remove a package:\n",
    "\n",
    "***Example***\n",
    "Uninstall the package named \"camelcase\":\n",
    "\n",
    "`C:\\Users\\Your Name\\AppData\\Local\\Programs\\Python\\Python36-32\\Scripts>pip uninstall camelcase`\n",
    "\n",
    "The PIP Package Manager will ask you to confirm that you want to remove the camelcase package:\n",
    "\n",
    "```\n",
    "Uninstalling camelcase-02.1:\n",
    "  Would remove:\n",
    "    c:\\users\\Your Name\\appdata\\local\\programs\\python\\python36-32\\lib\\site-packages\\camecase-0.2-py3.6.egg-info\n",
    "    c:\\users\\Your Name\\appdata\\local\\programs\\python\\python36-32\\lib\\site-packages\\camecase\\*\n",
    "Proceed (y/n)?\n",
    "```\n",
    "\n",
    "\n",
    "Press y and the package will be removed."
   ]
  },
  {
   "cell_type": "markdown",
   "id": "5a23017a-7f4d-4f7a-9520-c0bfad0bf8a3",
   "metadata": {},
   "source": [
    "## List Packages\n",
    "Use the list command to list all the packages installed on your system:\n",
    "\n",
    "***Example***\n",
    "\n",
    "List installed packages:\n",
    "\n",
    "`C:\\Users\\Your Name\\AppData\\Local\\Programs\\Python\\Python36-32\\Scripts>pip list`\n",
    "\n",
    "Result:\n",
    "\n",
    "```\n",
    "Package         Version\n",
    "-----------------------\n",
    "camelcase       0.2\n",
    "mysql-connector 2.1.6\n",
    "pip             18.1\n",
    "pymongo         3.6.1\n",
    "setuptools      39.0.1\n",
    "```"
   ]
  }
 ],
 "metadata": {
  "kernelspec": {
   "display_name": "Python 3 (ipykernel)",
   "language": "python",
   "name": "python3"
  },
  "language_info": {
   "codemirror_mode": {
    "name": "ipython",
    "version": 3
   },
   "file_extension": ".py",
   "mimetype": "text/x-python",
   "name": "python",
   "nbconvert_exporter": "python",
   "pygments_lexer": "ipython3",
   "version": "3.8.10"
  }
 },
 "nbformat": 4,
 "nbformat_minor": 5
}
