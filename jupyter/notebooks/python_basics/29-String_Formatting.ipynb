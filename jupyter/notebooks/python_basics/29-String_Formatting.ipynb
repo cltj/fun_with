{
 "cells": [
  {
   "cell_type": "markdown",
   "id": "3182c531-20f3-4409-99d4-ff3f828f5a94",
   "metadata": {},
   "source": [
    "# Python String Formatting\n",
    "To make sure a string will display as expected, we can format the result with the `format()` method.\n",
    "\n",
    "## String format()\n",
    "The `format()` method allows you to format selected parts of a string.\n",
    "\n",
    "Sometimes there are parts of a text that you do not control, maybe they come from a database, or user input?\n",
    "\n",
    "To control such values, add placeholders (curly brackets `{}`) in the text, and run the values through the `format()` method:\n",
    "\n",
    "***Example***\n",
    "\n",
    "Add a placeholder where you want to display the price:"
   ]
  },
  {
   "cell_type": "code",
   "execution_count": 1,
   "id": "df3df0f1-d735-48ce-aeb2-29433779f96b",
   "metadata": {},
   "outputs": [
    {
     "name": "stdout",
     "output_type": "stream",
     "text": [
      "The price is 49 dollars\n"
     ]
    }
   ],
   "source": [
    "price = 49\n",
    "txt = \"The price is {} dollars\"\n",
    "print(txt.format(price))"
   ]
  },
  {
   "cell_type": "markdown",
   "id": "d0bd0a93-cf75-44dd-b295-06635f698a45",
   "metadata": {},
   "source": [
    "You can add parameters inside the curly brackets to specify how to convert the value:\n",
    "\n",
    "***Example***\n",
    "\n",
    "Format the price to be displayed as a number with two decimals:\n",
    "\n",
    "`txt = \"The price is {:.2f} dollars\"`\n",
    "\n",
    "Check out all formatting types in our String format() Reference.\n",
    "\n",
    "## Multiple Values\n",
    "If you want to use more values, just add more values to the format() method:\n",
    "\n",
    "`print(txt.format(price, itemno, count))`\n",
    "\n",
    "And add more placeholders:\n",
    "\n",
    "Example"
   ]
  },
  {
   "cell_type": "code",
   "execution_count": 3,
   "id": "5ebf929d-5114-4a6d-92cf-56eaf707b075",
   "metadata": {},
   "outputs": [
    {
     "name": "stdout",
     "output_type": "stream",
     "text": [
      "I want 3 pieces of item number 567 for 49.00 dollars.\n"
     ]
    }
   ],
   "source": [
    "quantity = 3\n",
    "itemno = 567\n",
    "price = 49\n",
    "myorder = \"I want {} pieces of item number {} for {:.2f} dollars.\"\n",
    "print(myorder.format(quantity, itemno, price))"
   ]
  },
  {
   "cell_type": "markdown",
   "id": "72ccd3b5-d720-4135-8384-d3c96bcc49eb",
   "metadata": {},
   "source": [
    "## Index Numbers\n",
    "You can use index numbers (a number inside the curly brackets `{0}`) to be sure the values are placed in the correct placeholders:\n",
    "\n",
    "***Example***"
   ]
  },
  {
   "cell_type": "code",
   "execution_count": 5,
   "id": "10737779-505a-4e2d-9997-8ac9efa9f19a",
   "metadata": {},
   "outputs": [
    {
     "name": "stdout",
     "output_type": "stream",
     "text": [
      "I want 3 pieces of item number 567 for 49.00 dollars.\n"
     ]
    }
   ],
   "source": [
    "quantity = 3\n",
    "itemno = 567\n",
    "price = 49\n",
    "myorder = \"I want {0} pieces of item number {1} for {2:.2f} dollars.\"\n",
    "print(myorder.format(quantity, itemno, price))"
   ]
  },
  {
   "cell_type": "markdown",
   "id": "e199b8ff-8614-44d7-9dda-10354446859a",
   "metadata": {},
   "source": [
    "Also, if you want to refer to the same value more than once, use the index number:\n",
    "\n",
    "***Example***"
   ]
  },
  {
   "cell_type": "code",
   "execution_count": 6,
   "id": "6fa5aa2a-8510-40ae-a7d0-cbad574643da",
   "metadata": {},
   "outputs": [
    {
     "name": "stdout",
     "output_type": "stream",
     "text": [
      "His name is John. John is 36 years old.\n"
     ]
    }
   ],
   "source": [
    "age = 36\n",
    "name = \"John\"\n",
    "txt = \"His name is {1}. {1} is {0} years old.\"\n",
    "print(txt.format(age, name))"
   ]
  },
  {
   "cell_type": "markdown",
   "id": "b3c03f84-ebaa-452c-9ae9-7b55af6cf53d",
   "metadata": {},
   "source": [
    "## Named Indexes\n",
    "You can also use named indexes by entering a name inside the curly brackets `{carname}`, but then you must use names when you pass the parameter values `txt.format(carname = \"Ford\")`:\n",
    "\n",
    "***Example***"
   ]
  },
  {
   "cell_type": "code",
   "execution_count": 7,
   "id": "93c0f397-dd24-447f-9aaf-722db7c1d141",
   "metadata": {},
   "outputs": [
    {
     "name": "stdout",
     "output_type": "stream",
     "text": [
      "I have a Ford, it is a Mustang.\n"
     ]
    }
   ],
   "source": [
    "myorder = \"I have a {carname}, it is a {model}.\"\n",
    "print(myorder.format(carname = \"Ford\", model = \"Mustang\"))"
   ]
  }
 ],
 "metadata": {
  "kernelspec": {
   "display_name": "Python 3 (ipykernel)",
   "language": "python",
   "name": "python3"
  },
  "language_info": {
   "codemirror_mode": {
    "name": "ipython",
    "version": 3
   },
   "file_extension": ".py",
   "mimetype": "text/x-python",
   "name": "python",
   "nbconvert_exporter": "python",
   "pygments_lexer": "ipython3",
   "version": "3.8.10"
  }
 },
 "nbformat": 4,
 "nbformat_minor": 5
}
